{
 "cells": [
  {
   "cell_type": "markdown",
   "metadata": {},
   "source": [
    "# Setup"
   ]
  },
  {
   "cell_type": "code",
   "execution_count": 1,
   "metadata": {},
   "outputs": [],
   "source": [
    "\n",
    "import os\n",
    "import openai\n",
    "import requests\n",
    " \n",
    "\n",
    "client = openai.OpenAI(api_key=input())\n",
    "os.environ[\"OPENAI_API_KEY\"] = input() \n",
    "def llm(prompt, stop=[\"\\n\"]):\n",
    "    response = client.chat.completions.create(\n",
    "      model=\"gpt-4-turbo\",\n",
    "      messages=[{'role' : 'user', 'content' : prompt}],\n",
    "      temperature=0,\n",
    "      max_tokens=100,\n",
    "      top_p=1,\n",
    "      frequency_penalty=0.0,\n",
    "      presence_penalty=0.0,\n",
    "      stop=stop\n",
    "    )\n",
    "    return response.choices[0].message.content"
   ]
  },
  {
   "cell_type": "code",
   "execution_count": 2,
   "metadata": {},
   "outputs": [
    {
     "name": "stdout",
     "output_type": "stream",
     "text": [
      "Requirement already satisfied: gym in /opt/anaconda3/lib/python3.11/site-packages (0.26.2)\n",
      "Requirement already satisfied: numpy>=1.18.0 in /opt/anaconda3/lib/python3.11/site-packages (from gym) (1.26.4)\n",
      "Requirement already satisfied: cloudpickle>=1.2.0 in /opt/anaconda3/lib/python3.11/site-packages (from gym) (2.2.1)\n",
      "Requirement already satisfied: gym-notices>=0.0.4 in /opt/anaconda3/lib/python3.11/site-packages (from gym) (0.0.8)\n",
      "Note: you may need to restart the kernel to use updated packages.\n"
     ]
    }
   ],
   "source": [
    "%pip install gym"
   ]
  },
  {
   "cell_type": "code",
   "execution_count": 3,
   "metadata": {},
   "outputs": [],
   "source": [
    "import scraper\n",
    "env = scraper.WikiSearch(api_key=input())\n",
    "\n",
    "def step(env, action):\n",
    "    attempts = 0\n",
    "    while attempts < 10:\n",
    "        try:\n",
    "            return env.step(action)\n",
    "        except requests.exceptions.Timeout:\n",
    "            attempts += 1"
   ]
  },
  {
   "cell_type": "markdown",
   "metadata": {},
   "source": [
    "# $\\textrm{tea}_{\\textrm{LL}}\\textrm{m}$"
   ]
  },
  {
   "cell_type": "code",
   "execution_count": 4,
   "metadata": {},
   "outputs": [],
   "source": [
    "import json\n",
    "import sys\n",
    "\n",
    "folder = './prompts/'\n",
    "prompt_file = 'prompts_naive.json'\n",
    "with open(folder + prompt_file, 'r') as f:\n",
    "    prompt_dict = json.load(f)\n",
    "\n",
    "with open('prompts/team.txt', 'r') as f:\n",
    "    prompt = '\\n'.join(f.readlines())\n",
    "def webthink(question, prompt=prompt, to_print=True):\n",
    "    prompt += question + \"\\n\"\n",
    "    n_calls, n_badcalls = 0, 0\n",
    "    for i in range(1, 8):\n",
    "        n_calls += 1\n",
    "        try:\n",
    "            thought_action = llm(prompt + f\"Thought {i}:\", stop=[f\"\\nObservation {i}:\"])\n",
    "        except Exception as e:\n",
    "            print(f'too long? bad error {e}')\n",
    "            return 0, info\n",
    "        try:\n",
    "            thought, action = thought_action.strip().split(f\"\\nAction {i}: \")\n",
    "        except:\n",
    "            print('ohh...', thought_action)\n",
    "            n_badcalls += 1\n",
    "            n_calls += 1\n",
    "            thought = thought_action.strip().split('\\n')[0]\n",
    "            action = llm(prompt + f\"Thought {i}: {thought}\\nAction {i}:\", stop=[f\"\\n\"]).strip()\n",
    "        obs, r, done, info = step(env, action[0].lower() + action[1:])\n",
    "        obs = obs.replace('\\\\n', '')\n",
    "        step_str = f\"Thought {i}: {thought}\\nAction {i}: {action}\\nObservation {i}: {obs}\\n\"\n",
    "        prompt += step_str\n",
    "        if prompt.count(' ') > 10_000:\n",
    "            print('TOO LONG TOO LONG')\n",
    "            return 0, info\n",
    "        if to_print:\n",
    "            print(step_str)\n",
    "        if done:\n",
    "            break\n",
    "    if not done:\n",
    "        obs, r, done, info = step(env, \"finish | NO ANSWER REACHED\")"
   ]
  },
  {
   "cell_type": "code",
   "execution_count": 5,
   "metadata": {},
   "outputs": [
    {
     "name": "stdout",
     "output_type": "stream",
     "text": [
      "Thought 1: I need to find out which musical North West performed in that led to her receiving criticism. I should start by searching for information about North West's involvement in musical performances.\n",
      "\n",
      "Action 1: search | North West | What musical did North West perform in? | musical performance\n",
      "Observation 1: The text provided does not contain any information about North West performing in a musical. It discusses the points of the compass and their use in navigation and cartography.\n",
      "\n",
      "Thought 2: The search result seems to have returned information about the geographical concept of \"North West\" rather than the person North West. I need to refine my search to specifically target North West, the daughter of Kim Kardashian and Kanye West, and her involvement in musical performances.\n",
      "\n",
      "Action 2: search | North West Kim Kardashian | What musical did North West perform in? | musical performance\n",
      "Observation 2: North West performed \"I Just Can't Wait to Be King\" at the Hollywood Bowl's The Lion King 30th Anniversary – A Live-to-Film Concert Event.\n",
      "\n",
      "Thought 3: North West performed in \"The Lion King\" musical at the Hollywood Bowl for its 30th Anniversary event. The question specifically asks about the musical in which she received criticism for her performance. I should now search for any criticisms related to her performance in this event.\n",
      "\n",
      "Action 3: search | North West The Lion King performance | What criticisms did North West receive for her performance in The Lion King? | criticism\n",
      "Observation 3: Some social media commentators criticized North West's performance in The Lion King, suggesting that she had only been hired due to her parents' fame.\n",
      "\n",
      "Thought 4: North West received criticism for her performance in \"The Lion King\" musical at the Hollywood Bowl, with some commentators suggesting that her involvement was due to her parents' fame rather than her own merit. This answers the question about which musical she received criticism for her performance.\n",
      "\n",
      "Action 4: finish | The Lion King\n",
      "Observation 4:  The Lion King\n",
      "\n"
     ]
    }
   ],
   "source": [
    "webthink(question='What musical did North West get hate for her performance in?',\n",
    "         model='teaLLM')"
   ]
  },
  {
   "cell_type": "code",
   "execution_count": null,
   "metadata": {},
   "outputs": [],
   "source": []
  }
 ],
 "metadata": {
  "kernelspec": {
   "display_name": "Python 3",
   "language": "python",
   "name": "python3"
  },
  "language_info": {
   "codemirror_mode": {
    "name": "ipython",
    "version": 3
   },
   "file_extension": ".py",
   "mimetype": "text/x-python",
   "name": "python",
   "nbconvert_exporter": "python",
   "pygments_lexer": "ipython3",
   "version": "3.11.7"
  }
 },
 "nbformat": 4,
 "nbformat_minor": 2
}
