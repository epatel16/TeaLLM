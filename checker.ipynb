{
 "cells": [
  {
   "cell_type": "code",
   "execution_count": 9,
   "metadata": {},
   "outputs": [],
   "source": [
    "import os\n",
    "import openai\n",
    "import pandas as pd\n",
    " \n",
    "\n",
    "client = openai.OpenAI(api_key=input())\n",
    "\n",
    "def llm(prompt, stop=[\"\\n\"]):\n",
    "    response = client.chat.completions.create(\n",
    "      model=\"gpt-3.5-turbo\",\n",
    "      messages=[{'role' : 'user', 'content' : prompt}],\n",
    "      temperature=0,\n",
    "      max_tokens=100,\n",
    "      top_p=1,\n",
    "      frequency_penalty=0.0,\n",
    "      presence_penalty=0.0,\n",
    "      stop=stop\n",
    "    )\n",
    "    return response.choices[0].message.content"
   ]
  },
  {
   "cell_type": "code",
   "execution_count": 10,
   "metadata": {},
   "outputs": [],
   "source": [
    "prompt = \"\"\"You will be given two answers to a question, separated by a semicolon. Return 1 if the answers are the same, and 0 if they are different. Return only 1 or 0, no other text at all.\n",
    "Here are some examples.\n",
    "1: The answer is Chad; Republic of Chad\n",
    "Answer: 1\n",
    "2: Kanianthra Chandy; Kanianthra Chandrasekaran\n",
    "Answer: 0\n",
    "3: Western Europe, particularly in France; Western Europe\n",
    "Answer: 1\n",
    "4: The soccer team Juventas is the correct answer; Real Madrid\n",
    "Answer: 0\n",
    "5: 677 kilometers squared; 677\n",
    "Answer: 1\n",
    "6: Bobby Fischer was born first; Garry Kasparov was born first\n",
    "Answer: 0\n",
    "7: ; 50,000\n",
    "Answer: 0\n",
    "\"\"\""
   ]
  },
  {
   "cell_type": "code",
   "execution_count": 11,
   "metadata": {},
   "outputs": [],
   "source": [
    "import json\n",
    "\n",
    "with open('team_temp.json') as f:\n",
    "    answers = pd.read_json(f)"
   ]
  },
  {
   "cell_type": "code",
   "execution_count": 12,
   "metadata": {},
   "outputs": [
    {
     "name": "stdout",
     "output_type": "stream",
     "text": [
      "0.40640640640640644064581162324649375565\n"
     ]
    }
   ],
   "source": [
    "from tqdm import tqdm\n",
    "\n",
    "checks = []\n",
    "\n",
    "for idx, row in answers.iterrows():\n",
    "    if idx != 0: print(idx / len(answers), sum(checks) / idx, end='\\r')\n",
    "    question = row['answer'] + '; ' + row['gt_answer']\n",
    "    check = llm(prompt + question)\n",
    "    checks.append(int(check))\n",
    "\n",
    "acc = sum(checks) / len(answers)\n",
    "print(acc)"
   ]
  },
  {
   "cell_type": "code",
   "execution_count": null,
   "metadata": {},
   "outputs": [],
   "source": []
  }
 ],
 "metadata": {
  "kernelspec": {
   "display_name": "Python 3",
   "language": "python",
   "name": "python3"
  },
  "language_info": {
   "codemirror_mode": {
    "name": "ipython",
    "version": 3
   },
   "file_extension": ".py",
   "mimetype": "text/x-python",
   "name": "python",
   "nbconvert_exporter": "python",
   "pygments_lexer": "ipython3",
   "version": "3.11.7"
  }
 },
 "nbformat": 4,
 "nbformat_minor": 2
}
