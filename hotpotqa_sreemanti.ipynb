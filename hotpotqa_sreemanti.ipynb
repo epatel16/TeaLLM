{
 "cells": [
  {
   "cell_type": "markdown",
   "metadata": {},
   "source": [
    "# Setup"
   ]
  },
  {
   "cell_type": "code",
   "execution_count": 2,
   "metadata": {},
   "outputs": [],
   "source": [
    "\n",
    "import os\n",
    "import openai\n",
    "import requests\n",
    " \n",
    "\n",
    "client = openai.OpenAI(api_key=input())\n",
    "os.environ[\"OPENAI_API_KEY\"] = input() \n",
    "def llm(prompt, stop=[\"\\n\"]):\n",
    "    response = client.chat.completions.create(\n",
    "      model=\"gpt-3.5-turbo\",\n",
    "      messages=[{'role' : 'user', 'content' : prompt}],\n",
    "      temperature=0,\n",
    "      max_tokens=100,\n",
    "      top_p=1,\n",
    "      frequency_penalty=0.0,\n",
    "      presence_penalty=0.0,\n",
    "      stop=stop\n",
    "    )\n",
    "    return response.choices[0].message.content"
   ]
  },
  {
   "cell_type": "code",
   "execution_count": 3,
   "metadata": {},
   "outputs": [
    {
     "name": "stdout",
     "output_type": "stream",
     "text": [
      "Requirement already satisfied: gym in /opt/anaconda3/lib/python3.11/site-packages (0.26.2)\n",
      "Requirement already satisfied: numpy>=1.18.0 in /opt/anaconda3/lib/python3.11/site-packages (from gym) (1.26.4)\n",
      "Requirement already satisfied: cloudpickle>=1.2.0 in /opt/anaconda3/lib/python3.11/site-packages (from gym) (2.2.1)\n",
      "Requirement already satisfied: gym-notices>=0.0.4 in /opt/anaconda3/lib/python3.11/site-packages (from gym) (0.0.8)\n",
      "Note: you may need to restart the kernel to use updated packages.\n"
     ]
    }
   ],
   "source": [
    "%pip install gym"
   ]
  },
  {
   "cell_type": "code",
   "execution_count": 4,
   "metadata": {},
   "outputs": [],
   "source": [
    "import scraper, wrappers\n",
    "env = scraper.WikiSearch(api_key=input())\n",
    "env = wrappers.HotPotQAWrapper(env, split=\"dev\")\n",
    "env = wrappers.LoggingWrapper(env)\n",
    "\n",
    "def step(env, action):\n",
    "    attempts = 0\n",
    "    while attempts < 10:\n",
    "        try:\n",
    "            return env.step(action)\n",
    "        except requests.exceptions.Timeout:\n",
    "            attempts += 1"
   ]
  },
  {
   "cell_type": "markdown",
   "metadata": {},
   "source": [
    "# ReAct"
   ]
  },
  {
   "cell_type": "code",
   "execution_count": 5,
   "metadata": {},
   "outputs": [],
   "source": [
    "import json\n",
    "import sys\n",
    "\n",
    "folder = './prompts/'\n",
    "prompt_file = 'prompts_naive.json'\n",
    "with open(folder + prompt_file, 'r') as f:\n",
    "    prompt_dict = json.load(f)\n",
    "\n",
    "# webthink_examples = prompt_dict['webthink_simple6']\n",
    "# instruction = \"\"\"Solve a question answering task with interleaving Thought, Action, Observation steps. Thought can reason about the current situation, and Action can be three types: \n",
    "# (1) Search[entity], which searches the exact entity on Wikipedia and returns the first paragraph if it exists. If not, it will return some similar entities to search.\n",
    "# (2) Lookup[keyword], which returns the next sentence containing keyword in the current passage.\n",
    "# (3) Finish[answer], which returns the answer and finishes the task.\n",
    "# Here are some examples.\n",
    "# \"\"\"\n",
    "# webthink_prompt = instruction + webthink_examples\n",
    "with open('prompts/team.txt', 'r') as f:\n",
    "    prompt = '\\n'.join(f.readlines())\n",
    "def webthink(idx=None, prompt=prompt, to_print=True):\n",
    "    question = env.reset(idx=idx)\n",
    "    if to_print:\n",
    "        print(idx, question)\n",
    "    prompt += question + \"\\n\"\n",
    "    n_calls, n_badcalls = 0, 0\n",
    "    for i in range(1, 8):\n",
    "        n_calls += 1\n",
    "        try:\n",
    "            thought_action = llm(prompt + f\"Thought {i}:\", stop=[f\"\\nObservation {i}:\"])\n",
    "        except Exception as e:\n",
    "            print(f'too long? bad error {e}')\n",
    "            return 0, info\n",
    "        try:\n",
    "            thought, action = thought_action.strip().split(f\"\\nAction {i}: \")\n",
    "        except:\n",
    "            print('ohh...', thought_action)\n",
    "            n_badcalls += 1\n",
    "            n_calls += 1\n",
    "            thought = thought_action.strip().split('\\n')[0]\n",
    "            action = llm(prompt + f\"Thought {i}: {thought}\\nAction {i}:\", stop=[f\"\\n\"]).strip()\n",
    "        obs, r, done, info = step(env, action[0].lower() + action[1:])\n",
    "        obs = obs.replace('\\\\n', '')\n",
    "        step_str = f\"Thought {i}: {thought}\\nAction {i}: {action}\\nObservation {i}: {obs}\\n\"\n",
    "        prompt += step_str\n",
    "        if prompt.count(' ') > 10_000:\n",
    "            print('TOO LONG TOO LONG')\n",
    "            return 0, info\n",
    "        if to_print:\n",
    "            print(step_str)\n",
    "        if done:\n",
    "            break\n",
    "    if not done:\n",
    "        obs, r, done, info = step(env, \"finish | NO ANSWER REACHED\")\n",
    "    if to_print:\n",
    "        print(info, '\\n')\n",
    "    info.update({'n_calls': n_calls, 'n_badcalls': n_badcalls, 'traj': prompt})\n",
    "    return r, info"
   ]
  },
  {
   "cell_type": "code",
   "execution_count": 6,
   "metadata": {},
   "outputs": [
    {
     "name": "stderr",
     "output_type": "stream",
     "text": [
      "  0%|          | 0/1 [00:00<?, ?it/s]"
     ]
    },
    {
     "name": "stdout",
     "output_type": "stream",
     "text": [
      "INDEX = 10\n",
      "10 Question: What is the name of the fight song of the university whose main campus is in Lawrence, Kansas and whose branch campuses are in the Kansas City metropolitan area?\n",
      "Thought 1: I need to find the university with the main campus in Lawrence, Kansas and branch campuses in the Kansas City metropolitan area, then search for the name of their fight song.\n",
      "\n",
      "Action 1: search | University in Lawrence, Kansas with branch campuses in Kansas City metropolitan area | what is the name of their fight song? | fight song\n",
      "Observation 1: There is no information in the provided text about the fight song of the University of Kansas. The University of Kansas, founded in 1865, has a total enrollment of 26,708 students across its campuses. The school's sports teams, known as the Kansas Jayhawks, have won thirteen National Championships in various sports.\n",
      "\n",
      "Thought 2: The text did not provide information about the fight song. I should search for the University of Kansas and specifically look for their fight song.\n",
      "\n",
      "Action 2: search | University of Kansas | what is the name of the University of Kansas fight song? | fight song\n",
      "Observation 2: There is no information in the provided text about the University of Kansas fight song. The University of Kansas is a public research university with multiple campuses, including a medical school and hospital. The school's sports teams are known as the Kansas Jayhawks and have won thirteen National Championships in various sports.\n",
      "\n",
      "Thought 3: The search for the University of Kansas did not yield information about the fight song. I should try to crawl through the article to find more specific details about the fight song.\n",
      "\n",
      "Action 3: crawl | fight song of the University of Kansas\n",
      "Observation 3: The article University of Kansas was not found to have links with a relation to [' fight song of the University of Kansas']\n",
      "\n",
      "Thought 4: The crawl action did not provide any relevant information about the fight song. I should try to find similar articles to see if there are any related to the fight song of the University of Kansas.\n",
      "\n",
      "Action 4: similar\n",
      "Observation 4: University of Missouri–Kansas City, University Press of Kansas, Kansas State University, Kansas, University of Kansas Health System, List of colleges and universities in Kansas, Kansas Jayhawks, Kansas City, Kansas, Kansas City, Missouri\n",
      "\n",
      "Thought 5: I should search for the Kansas Jayhawks to see if there is any information about their fight song.\n",
      "\n",
      "Action 5: search | Kansas Jayhawks | what is the name of the Kansas Jayhawks fight song? | fight song\n",
      "Observation 5: There is no information in the provided text about the name of the Kansas Jayhawks fight song. The text mainly discusses the athletic achievements, history, and notable players of the University of Kansas Jayhawks across various sports. There is no information related to the Kansas Jayhawks fight song in the provided text. The text mainly discusses the athletic achievements and history of the Kansas Jayhawks, including their national championships and the origin of the term \"Jayhawk\" from the Kansas Jayhawker militias during the Bleeding Kansas era of the American Civil War. There is no information in the provided text about the name of the Kansas Jayhawks fight song. The text mainly discusses the athletic achievements, history, and rivalries of the Kansas Jayhawks, including their participation in NCAA Division I, membership in the Big 12 Conference, and various national championships won in different sports. The Kansas Jayhawks' fight song is \"I'm a Jayhawk.\" The Kansas Jayhawks' fight song is called \"I'm a Jayhawk.\" There is no information related to the Kansas Jayhawks fight song in the provided text. The text mainly discusses the athletic achievements, history, and rivalries of the Kansas Jayhawks, including the origin of the term \"Jayhawk\" from the Kansas Jayhawker militias during the Bleeding Kansas era of the American Civil War.\n",
      "\n"
     ]
    },
    {
     "name": "stderr",
     "output_type": "stream",
     "text": [
      "100%|██████████| 1/1 [00:27<00:00, 27.93s/it]"
     ]
    },
    {
     "name": "stdout",
     "output_type": "stream",
     "text": [
      "OURS: im jayhawk\n",
      "CORRECT: kansas song\n",
      "Thought 6: The Kansas Jayhawks' fight song is \"I'm a Jayhawk.\" This answers the original question about the name of the fight song of the university with the main campus in Lawrence, Kansas, and branch campuses in the Kansas City metropolitan area. I should finish the task.\n",
      "\n",
      "Action 6: finish | \"I'm a Jayhawk\"\n",
      "Observation 6: Episode finished, reward = 0\n",
      "\n",
      "\n",
      "{'steps': 6, 'answer': ' \"I\\'m a Jayhawk\"', 'gt_answer': 'Kansas Song', 'question_idx': 10, 'reward': False, 'em': False, 'f1': 0} \n",
      "\n",
      "0 1 0.0 27.929442167282104\n",
      "-----------\n",
      "\n"
     ]
    },
    {
     "name": "stderr",
     "output_type": "stream",
     "text": [
      "\n"
     ]
    }
   ],
   "source": [
    "import random\n",
    "import time\n",
    "from tqdm import tqdm\n",
    "import json\n",
    "\n",
    "idxs = list(range(7405))\n",
    "# random.Random(233).shuffle(idxs)\n",
    "\n",
    "rs = []\n",
    "infos = []\n",
    "old_time = time.time()\n",
    "ID = 10\n",
    "try:\n",
    "    for i in tqdm(idxs[ID:ID+1]):\n",
    "    # for i in tqdm(idxs[758:1000]):\n",
    "        print(f'INDEX = {i}')\n",
    "        r, info = webthink(i, to_print=True)\n",
    "        rs.append(info['em'])\n",
    "        infos.append(info)\n",
    "        print(sum(rs), len(rs), sum(rs) / len(rs), (time.time() - old_time) / len(rs))\n",
    "        print('-----------')\n",
    "        print()\n",
    "except:\n",
    "    print('Died for unknown reason')\n",
    "\n",
    "with open('758-react_baseline_2.json', 'w') as f:\n",
    "    json.dump(infos, f)"
   ]
  },
  {
   "cell_type": "code",
   "execution_count": null,
   "metadata": {},
   "outputs": [],
   "source": []
  }
 ],
 "metadata": {
  "kernelspec": {
   "display_name": "Python 3",
   "language": "python",
   "name": "python3"
  },
  "language_info": {
   "codemirror_mode": {
    "name": "ipython",
    "version": 3
   },
   "file_extension": ".py",
   "mimetype": "text/x-python",
   "name": "python",
   "nbconvert_exporter": "python",
   "pygments_lexer": "ipython3",
   "version": "3.11.7"
  }
 },
 "nbformat": 4,
 "nbformat_minor": 2
}
