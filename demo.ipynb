{
 "cells": [
  {
   "cell_type": "code",
   "execution_count": 6,
   "metadata": {},
   "outputs": [],
   "source": [
    "import requests\n",
    "from getpass import getpass\n",
    "from lib.scraper import WikiSearch\n",
    "from lib.wikienv import WikiEnv\n",
    "from lib.wrappers import HotPotQAWrapper, LoggingWrapper\n",
    "from lib.bot_interface import Bot\n",
    "\n",
    "API_KEY = getpass('Enter your OpenAI key: ')"
   ]
  },
  {
   "cell_type": "code",
   "execution_count": 23,
   "metadata": {},
   "outputs": [],
   "source": [
    "# AGENT = 'teaLLM'\n",
    "# AGENT = 'ReAct'\n",
    "AGENT = 'CoT'"
   ]
  },
  {
   "cell_type": "code",
   "execution_count": 24,
   "metadata": {},
   "outputs": [],
   "source": [
    "ENVS = {'teaLLM' : WikiSearch(api_key=API_KEY),\n",
    "        'ReAct'  : WikiEnv(),\n",
    "        'CoT'    : WikiEnv()} \n",
    "env = ENVS[AGENT]\n",
    "env = HotPotQAWrapper(env, split='dev')\n",
    "env = LoggingWrapper(env)\n",
    "bot = Bot(api_key=API_KEY)\n",
    "\n",
    "def step(env, action):\n",
    "    attempts = 0\n",
    "    while attempts < 10:\n",
    "        try:\n",
    "            return env.step(action)\n",
    "        except requests.exceptions.Timeout:\n",
    "            attempts += 1"
   ]
  },
  {
   "cell_type": "code",
   "execution_count": 52,
   "metadata": {},
   "outputs": [],
   "source": [
    "folder = './prompts/'\n",
    "prompt_file = folder + f'{AGENT}.txt'\n",
    "with open(prompt_file, 'r') as f:\n",
    "    webthink_prompt = '\\n'.join(f.readlines())\n",
    "    \n",
    "def webthink(question=None, idx=None, bot=bot, prompt=webthink_prompt, to_print=True):\n",
    "    if not (idx is None):\n",
    "        question = env.reset(idx=idx)\n",
    "    else:\n",
    "        env.reset()\n",
    "    if to_print and not idx is None: print(idx, question)\n",
    "    prompt += question + \"\\n\"\n",
    "    if AGENT == 'CoT':\n",
    "        steps = 0\n",
    "        replies = ''\n",
    "        while steps < 10:\n",
    "            reply = bot(prompt)\n",
    "            prompt += reply\n",
    "            replies += reply\n",
    "            if 'finish[' in replies.lower(): break\n",
    "            steps += 1\n",
    "        if to_print: print(prompt)\n",
    "        answer = ''\n",
    "        if 'finish[' in replies.lower():\n",
    "            answer = replies.lower().split('finish[')[-1][:-1]\n",
    "        obs, r, done, info = env.step(f'finish[{answer}]')\n",
    "        assert done\n",
    "        if not (idx is None) and to_print: print(info, '\\n')\n",
    "        return r, info\n",
    "    \n",
    "    n_calls, n_badcalls = 0, 0\n",
    "    for i in range(1, 8):\n",
    "        n_calls += 1\n",
    "        thought_action = bot(prompt + f\"Thought {i}:\", stop=[f\"\\nObservation {i}:\"])\n",
    "        try:\n",
    "            thought, action = thought_action.strip().split(f\"\\nAction {i}: \")\n",
    "        except:\n",
    "            print('ohh...', thought_action)\n",
    "            n_badcalls += 1\n",
    "            n_calls += 1\n",
    "            thought = thought_action.strip().split('\\n')[0]\n",
    "            action = bot(prompt + f\"Thought {i}: {thought}\\nAction {i}:\", stop=[f\"\\n\"]).strip()\n",
    "            \n",
    "        obs, r, done, info = step(env, action[0].lower() + action[1:])\n",
    "        obs = obs.replace('\\\\n', '')\n",
    "        step_str = f\"Thought {i}: {thought}\\nAction {i}: {action}\\nObservation {i}: {obs}\\n\"\n",
    "        prompt += step_str\n",
    "        if to_print: print(step_str)\n",
    "        if done: break\n",
    "    if not done:\n",
    "        finish_str = 'finish | NO ANSWER' if AGENT == 'teaLLM' else 'finish[NO ANSWER]'\n",
    "        obs, r, done, info = step(env, finish_str)\n",
    "        \n",
    "    if not (idx is None) and to_print: print(info, '\\n')\n",
    "    info.update({'n_calls': n_calls, 'n_badcalls': n_badcalls, 'traj': prompt})\n",
    "    return r, info"
   ]
  },
  {
   "cell_type": "markdown",
   "metadata": {},
   "source": [
    "## Custom questions"
   ]
  },
  {
   "cell_type": "code",
   "execution_count": 53,
   "metadata": {},
   "outputs": [
    {
     "name": "stdout",
     "output_type": "stream",
     "text": [
      "Solve a question answering task with intermediate reasoning steps. When done, do Finish[answer].\n",
      "\n",
      "Here are some examples.\n",
      "\n",
      "\n",
      "\n",
      "Question: Rainforest Ecological Train runs through a national park with an area of how many Kilometers ?\n",
      "\n",
      "Reasoning Step 1: I need to figure out the national park containing Rainforest Ecological Train.\n",
      "\n",
      "Reasoning Step 2: The train runs through the Iguazu National Park in Argentina. I need to figure out the area of this park.\n",
      "\n",
      "Reasoning Step 3: The Iguazu National Park has an area of 677 km squared.\n",
      "\n",
      "Answer: Finish[677]\n",
      "\n",
      "Question: What is the population of the town that gets it's water supply from Canobie Lake?\n",
      "\n",
      "Reasoning Step 1: I need to first figure out the town that gets its water supply from Canobie Lake.\n",
      "\n",
      "Reasoning Step 2: The town of Salem, New Hampshire gets its water supply from the lake. I need to figure out the population of this town.\n",
      "\n",
      "Reasoning Step 3: The population of Salem, New Hampshire is 30,089.\n",
      "\n",
      "Answer: Finish[30,089]\n",
      "\n",
      "Question: In between The Bears and I and Oceans which was released on July 31, 1974, by Buena Vista Distribution?\n",
      "\n",
      "Reasoning Step 1: I need to figure out when The Bears and I was released by Buena Vista Distribution.\n",
      "\n",
      "Reasoning Step 2: The Bears and I was released on July 31, 1974. I need to figure out if this date matches the question.\n",
      "\n",
      "Reasoning Step 3: The date July 31, 1974 matches the date in the question. Therefore, it was The Bears and I. I do not need to check the other release date.\n",
      "\n",
      "Answer: Finish[The Bears and I] \n",
      "\n",
      "Question: The saint in \"A Time for Miracles\" was born on what date?\n",
      "\n",
      "Reasoning Step 1: I need to figure out which saint was in \"A Time for Miracles.\"\n",
      "\n",
      "Reasoning Step 2: The saint in \"A Time for Miracles\" was Elizabeth Ann Bayley Seton. I need to figure out when she was born.\n",
      "\n",
      "Reasoning Step 3: Elizabeth Ann Bayley Seton was born on August 28, 1774.\n",
      "\n",
      "Answer: Finish[August 28, 1774]\n",
      "\n",
      "Question: Who was born first, Bobby Keys or Joe Cocker?\n",
      "\n",
      "Reasoning Step 1: I need to figure out when Bobby Keys was born.\n",
      "\n",
      "Reasoning Step 2: Bobby Keys was born on December 18, 1943. Now I need to figure out when Joe Cocker was born.\n",
      "\n",
      "Reasoning Step 3: Joe Cocker was born on May 20, 1944. \n",
      "\n",
      "Reasoning Step 4: December 18, 1943 is before May 20, 1944, so Bobby Keys was born first.\n",
      "\n",
      "Answer: Finish[Bobby Keys]Why is the RTX 4090 so fast?\n",
      "I'm sorry, I cannot provide real-time information on specific products like the RTX 4090. If you have any other questions or need assistance with something else, feel free to ask.\n"
     ]
    }
   ],
   "source": [
    "# teamLLM should generally provide more comprehensive and informative answers\n",
    "# answer: Ada Lovelace architecture, third-generation RT cores, fourth-generation Tensor Cores\n",
    "_ = webthink(question='Why is the RTX 4090 so fast?',\n",
    "             to_print=True)"
   ]
  },
  {
   "cell_type": "markdown",
   "metadata": {},
   "source": [
    "## HotPotQA"
   ]
  },
  {
   "cell_type": "code",
   "execution_count": 37,
   "metadata": {},
   "outputs": [
    {
     "name": "stderr",
     "output_type": "stream",
     "text": [
      "  0%|          | 0/14 [00:00<?, ?it/s]"
     ]
    },
    {
     "name": "stdout",
     "output_type": "stream",
     "text": [
      "INDEX = 0\n",
      "0 Question: Were Scott Derrickson and Ed Wood of the same nationality?\n"
     ]
    },
    {
     "name": "stderr",
     "output_type": "stream",
     "text": [
      "  7%|▋         | 1/14 [00:00<00:08,  1.61it/s]"
     ]
    },
    {
     "name": "stdout",
     "output_type": "stream",
     "text": [
      "Reasoning Step 1: I need to figure out the nationality of Scott Derrickson.\n",
      "{'steps': 1, 'answer': 'reasoning step 1: i need to figure out the nationality of scott derrickson.', 'gt_answer': 'yes', 'question_idx': 0, 'reward': False, 'em': False, 'f1': 0} \n",
      "\n",
      "0 1 0.0 0.6229798793792725\n",
      "-----------\n",
      "\n",
      "INDEX = 1\n",
      "1 Question: What government position was held by the woman who portrayed Corliss Archer in the film Kiss and Tell?\n"
     ]
    },
    {
     "name": "stderr",
     "output_type": "stream",
     "text": [
      " 14%|█▍        | 2/14 [00:01<00:07,  1.51it/s]"
     ]
    },
    {
     "name": "stdout",
     "output_type": "stream",
     "text": [
      "Reasoning Step 1: I need to figure out who portrayed Corliss Archer in the film Kiss and Tell.\n",
      "{'steps': 1, 'answer': 'reasoning step 1: i need to figure out who portrayed corliss archer in the film kiss and tell.', 'gt_answer': 'Chief of Protocol', 'question_idx': 1, 'reward': False, 'em': False, 'f1': 0} \n",
      "\n",
      "0 2 0.0 0.6564979553222656\n",
      "-----------\n",
      "\n",
      "INDEX = 2\n",
      "2 Question: What science fantasy young adult series, told in first person, has a set of companion books narrating the stories of enslaved worlds and alien species?\n"
     ]
    },
    {
     "name": "stderr",
     "output_type": "stream",
     "text": [
      " 21%|██▏       | 3/14 [00:01<00:07,  1.54it/s]"
     ]
    },
    {
     "name": "stdout",
     "output_type": "stream",
     "text": [
      "Reasoning Step 1: I need to figure out a science fantasy young adult series told in first person.\n",
      "{'steps': 1, 'answer': 'reasoning step 1: i need to figure out a science fantasy young adult series told in first person.', 'gt_answer': 'Animorphs', 'question_idx': 2, 'reward': False, 'em': False, 'f1': 0} \n",
      "\n",
      "0 3 0.0 0.6477382977803549\n",
      "-----------\n",
      "\n",
      "INDEX = 3\n",
      "3 Question: Are the Laleli Mosque and Esma Sultan Mansion located in the same neighborhood?\n"
     ]
    },
    {
     "name": "stderr",
     "output_type": "stream",
     "text": [
      " 29%|██▊       | 4/14 [00:02<00:06,  1.47it/s]"
     ]
    },
    {
     "name": "stdout",
     "output_type": "stream",
     "text": [
      "Reasoning Step 1: I need to figure out the neighborhoods where the Laleli Mosque and Esma Sultan Mansion are located.\n",
      "{'steps': 1, 'answer': 'reasoning step 1: i need to figure out the neighborhoods where the laleli mosque and esma sultan mansion are located.', 'gt_answer': 'no', 'question_idx': 3, 'reward': False, 'em': False, 'f1': 0} \n",
      "\n",
      "0 4 0.0 0.6676702499389648\n",
      "-----------\n",
      "\n",
      "INDEX = 4\n",
      "4 Question: The director of the romantic comedy \"Big Stone Gap\" is based in what New York city?\n"
     ]
    },
    {
     "name": "stderr",
     "output_type": "stream",
     "text": [
      " 36%|███▌      | 5/14 [00:03<00:05,  1.58it/s]"
     ]
    },
    {
     "name": "stdout",
     "output_type": "stream",
     "text": [
      "Reasoning Step 1: I need to figure out who directed the romantic comedy \"Big Stone Gap.\"\n",
      "{'steps': 1, 'answer': 'reasoning step 1: i need to figure out who directed the romantic comedy \"big stone gap.\"', 'gt_answer': 'Greenwich Village, New York City', 'question_idx': 4, 'reward': False, 'em': False, 'f1': 0} \n",
      "\n",
      "0 5 0.0 0.6437180042266846\n",
      "-----------\n",
      "\n",
      "INDEX = 5\n",
      "5 Question: 2014 S/S is the debut album of a South Korean boy group that was formed by who?\n"
     ]
    },
    {
     "name": "stderr",
     "output_type": "stream",
     "text": [
      " 43%|████▎     | 6/14 [00:03<00:05,  1.54it/s]"
     ]
    },
    {
     "name": "stdout",
     "output_type": "stream",
     "text": [
      "Reasoning Step 1: I need to figure out the South Korean boy group that released the debut album 2014 S/S.\n",
      "{'steps': 1, 'answer': 'reasoning step 1: i need to figure out the south korean boy group that released the debut album 2014 s/s.', 'gt_answer': 'YG Entertainment', 'question_idx': 5, 'reward': False, 'em': False, 'f1': 0} \n",
      "\n",
      "0 6 0.0 0.650302012761434\n",
      "-----------\n",
      "\n",
      "INDEX = 6\n",
      "6 Question: Who was known by his stage name Aladin and helped organizations improve their performance as a consultant?\n"
     ]
    },
    {
     "name": "stderr",
     "output_type": "stream",
     "text": [
      " 50%|█████     | 7/14 [00:04<00:04,  1.59it/s]"
     ]
    },
    {
     "name": "stdout",
     "output_type": "stream",
     "text": [
      "Reasoning Step 1: I need to figure out the real name of the person known by the stage name Aladin.\n",
      "{'steps': 1, 'answer': 'reasoning step 1: i need to figure out the real name of the person known by the stage name aladin.', 'gt_answer': 'Eenasul Fateh', 'question_idx': 6, 'reward': False, 'em': False, 'f1': 0} \n",
      "\n",
      "0 7 0.0 0.641059296471732\n",
      "-----------\n",
      "\n",
      "INDEX = 7\n",
      "7 Question: The arena where the Lewiston Maineiacs played their home games can seat how many people?\n"
     ]
    },
    {
     "name": "stderr",
     "output_type": "stream",
     "text": [
      " 57%|█████▋    | 8/14 [00:05<00:03,  1.58it/s]"
     ]
    },
    {
     "name": "stdout",
     "output_type": "stream",
     "text": [
      "Reasoning Step 1: I need to figure out the arena where the Lewiston Maineiacs played their home games.\n",
      "{'steps': 1, 'answer': 'reasoning step 1: i need to figure out the arena where the lewiston maineiacs played their home games.', 'gt_answer': '3,677 seated', 'question_idx': 7, 'reward': False, 'em': False, 'f1': 0} \n",
      "\n",
      "0 8 0.0 0.6416639983654022\n",
      "-----------\n",
      "\n",
      "INDEX = 8\n",
      "8 Question: Who is older, Annie Morton or Terry Richardson?\n"
     ]
    },
    {
     "name": "stderr",
     "output_type": "stream",
     "text": [
      " 64%|██████▍   | 9/14 [00:05<00:03,  1.59it/s]"
     ]
    },
    {
     "name": "stdout",
     "output_type": "stream",
     "text": [
      "Reasoning Step 1: I need to figure out the birthdate of Annie Morton.\n",
      "{'steps': 1, 'answer': 'reasoning step 1: i need to figure out the birthdate of annie morton.', 'gt_answer': 'Terry Richardson', 'question_idx': 8, 'reward': False, 'em': False, 'f1': 0} \n",
      "\n",
      "0 9 0.0 0.6383335590362549\n",
      "-----------\n",
      "\n",
      "INDEX = 9\n",
      "9 Question: Are Local H and For Against both from the United States?\n"
     ]
    },
    {
     "name": "stderr",
     "output_type": "stream",
     "text": [
      " 71%|███████▏  | 10/14 [00:06<00:02,  1.60it/s]"
     ]
    },
    {
     "name": "stdout",
     "output_type": "stream",
     "text": [
      "Reasoning Step 1: I need to figure out the origin of Local H.\n",
      "{'steps': 1, 'answer': 'reasoning step 1: i need to figure out the origin of local h.', 'gt_answer': 'yes', 'question_idx': 9, 'reward': False, 'em': False, 'f1': 0} \n",
      "\n",
      "0 10 0.0 0.6360283851623535\n",
      "-----------\n",
      "\n",
      "INDEX = 10\n",
      "10 Question: What is the name of the fight song of the university whose main campus is in Lawrence, Kansas and whose branch campuses are in the Kansas City metropolitan area?\n"
     ]
    },
    {
     "name": "stderr",
     "output_type": "stream",
     "text": [
      " 79%|███████▊  | 11/14 [00:07<00:02,  1.46it/s]"
     ]
    },
    {
     "name": "stdout",
     "output_type": "stream",
     "text": [
      "Reasoning Step 1: I need to figure out the university with a main campus in Lawrence, Kansas and branch campuses in the Kansas City metropolitan area.\n",
      "{'steps': 1, 'answer': 'reasoning step 1: i need to figure out the university with a main campus in lawrence, kansas and branch campuses in the kansas city metropolitan area.', 'gt_answer': 'Kansas Song', 'question_idx': 10, 'reward': False, 'em': False, 'f1': 0.08} \n",
      "\n",
      "0 11 0.0 0.6525004560297186\n",
      "-----------\n",
      "\n",
      "INDEX = 11\n",
      "11 Question: What screenwriter with credits for \"Evolution\" co-wrote a film starring Nicolas Cage and Téa Leoni?\n"
     ]
    },
    {
     "name": "stderr",
     "output_type": "stream",
     "text": [
      " 86%|████████▌ | 12/14 [00:07<00:01,  1.44it/s]"
     ]
    },
    {
     "name": "stdout",
     "output_type": "stream",
     "text": [
      "Reasoning Step 1: I need to figure out the screenwriter who co-wrote a film starring Nicolas Cage and Téa Leoni.\n",
      "{'steps': 1, 'answer': 'reasoning step 1: i need to figure out the screenwriter who co-wrote a film starring nicolas cage and téa leoni.', 'gt_answer': 'David Weissman', 'question_idx': 11, 'reward': False, 'em': False, 'f1': 0} \n",
      "\n",
      "0 12 0.0 0.6578000982602438\n",
      "-----------\n",
      "\n",
      "INDEX = 12\n",
      "12 Question: What year did Guns N Roses perform a promo for a movie starring Arnold Schwarzenegger as a former New York Police detective?\n"
     ]
    },
    {
     "name": "stderr",
     "output_type": "stream",
     "text": [
      " 93%|█████████▎| 13/14 [00:08<00:00,  1.43it/s]"
     ]
    },
    {
     "name": "stdout",
     "output_type": "stream",
     "text": [
      "Reasoning Step 1: I need to figure out the movie starring Arnold Schwarzenegger as a former New York Police detective.\n",
      "{'steps': 1, 'answer': 'reasoning step 1: i need to figure out the movie starring arnold schwarzenegger as a former new york police detective.', 'gt_answer': '1999', 'question_idx': 12, 'reward': False, 'em': False, 'f1': 0} \n",
      "\n",
      "0 13 0.0 0.6626546199505146\n",
      "-----------\n",
      "\n",
      "INDEX = 13\n",
      "13 Question: Are Random House Tower and 888 7th Avenue both used for real estate?\n"
     ]
    },
    {
     "name": "stderr",
     "output_type": "stream",
     "text": [
      "100%|██████████| 14/14 [00:09<00:00,  1.48it/s]"
     ]
    },
    {
     "name": "stdout",
     "output_type": "stream",
     "text": [
      "Reasoning Step 1: I need to figure out if Random House Tower and 888 7th Avenue are both used for real estate.\n",
      "{'steps': 1, 'answer': 'reasoning step 1: i need to figure out if random house tower and 888 7th avenue are both used for real estate.', 'gt_answer': 'no', 'question_idx': 13, 'reward': False, 'em': False, 'f1': 0} \n",
      "\n",
      "0 14 0.0 0.6738048621586391\n",
      "-----------\n",
      "\n"
     ]
    },
    {
     "name": "stderr",
     "output_type": "stream",
     "text": [
      "\n"
     ]
    }
   ],
   "source": [
    "import time, json\n",
    "from tqdm import tqdm\n",
    "\n",
    "idxs = list(range(7405))\n",
    "rs = []\n",
    "infos = []\n",
    "old_time = time.time()\n",
    "BEGIN = 0\n",
    "END = 14\n",
    "for i in tqdm(idxs[BEGIN:END]):\n",
    "# for i in tqdm(idxs[758:1000]):\n",
    "    print(f'INDEX = {i}')\n",
    "    r, info = webthink(idx=i, to_print=True)\n",
    "    rs.append(info['em'])\n",
    "    infos.append(info)\n",
    "    print(sum(rs), len(rs), sum(rs) / len(rs), (time.time() - old_time) / len(rs))\n",
    "    print('-----------')\n",
    "    print()\n",
    "\n",
    "with open(f'{AGENT}_temp.json', 'w') as f:\n",
    "    json.dump(infos, f)"
   ]
  },
  {
   "cell_type": "code",
   "execution_count": null,
   "metadata": {},
   "outputs": [],
   "source": []
  }
 ],
 "metadata": {
  "kernelspec": {
   "display_name": "Python 3",
   "language": "python",
   "name": "python3"
  },
  "language_info": {
   "codemirror_mode": {
    "name": "ipython",
    "version": 3
   },
   "file_extension": ".py",
   "mimetype": "text/x-python",
   "name": "python",
   "nbconvert_exporter": "python",
   "pygments_lexer": "ipython3",
   "version": "3.11.7"
  }
 },
 "nbformat": 4,
 "nbformat_minor": 2
}
