{
 "cells": [
  {
   "cell_type": "code",
   "execution_count": 4,
   "metadata": {},
   "outputs": [],
   "source": [
    "import requests\n",
    "from getpass import getpass\n",
    "from scraper import WikiSearch\n",
    "from wikienv import WikiEnv\n",
    "from wrappers import HotPotQAWrapper, LoggingWrapper\n",
    "from bot_interface import Bot\n",
    "\n",
    "API_KEY = getpass('Enter your OpenAI key: ')"
   ]
  },
  {
   "cell_type": "code",
   "execution_count": 5,
   "metadata": {},
   "outputs": [],
   "source": [
    "AGENT = 'teaLLM'\n",
    "# AGENT = 'ReAct'\n",
    "# AGENT = 'CoT'"
   ]
  },
  {
   "cell_type": "code",
   "execution_count": 6,
   "metadata": {},
   "outputs": [],
   "source": [
    "ENVS = {'teaLLM' : WikiSearch(api_key=API_KEY),\n",
    "        'ReAct'  : WikiEnv()}\n",
    "env = ENVS[AGENT]\n",
    "env = HotPotQAWrapper(env, split='dev')\n",
    "env = LoggingWrapper(env)\n",
    "bot = Bot(api_key=API_KEY)\n",
    "\n",
    "def step(env, action):\n",
    "    attempts = 0\n",
    "    while attempts < 10:\n",
    "        try:\n",
    "            return env.step(action)\n",
    "        except requests.exceptions.Timeout:\n",
    "            attempts += 1"
   ]
  },
  {
   "cell_type": "code",
   "execution_count": 23,
   "metadata": {},
   "outputs": [],
   "source": [
    "folder = './prompts/'\n",
    "prompt_file = folder + f'{AGENT}.txt'\n",
    "with open(prompt_file, 'r') as f:\n",
    "    webthink_prompt = '\\n'.join(f.readlines())\n",
    "    \n",
    "def webthink(question=None, idx=None, bot=bot, prompt=webthink_prompt, to_print=True):\n",
    "    if not (idx is None):\n",
    "        question = env.reset(idx=idx)\n",
    "    else:\n",
    "        env.reset()\n",
    "    if to_print and not idx is None: print(idx, question)\n",
    "    prompt += question + \"\\n\"\n",
    "    n_calls, n_badcalls = 0, 0\n",
    "    for i in range(1, 8):\n",
    "        n_calls += 1\n",
    "        thought_action = bot(prompt + f\"Thought {i}:\", stop=[f\"\\nObservation {i}:\"])\n",
    "        try:\n",
    "            thought, action = thought_action.strip().split(f\"\\nAction {i}: \")\n",
    "        except:\n",
    "            print('ohh...', thought_action)\n",
    "            n_badcalls += 1\n",
    "            n_calls += 1\n",
    "            thought = thought_action.strip().split('\\n')[0]\n",
    "            action = bot(prompt + f\"Thought {i}: {thought}\\nAction {i}:\", stop=[f\"\\n\"]).strip()\n",
    "            \n",
    "        obs, r, done, info = step(env, action[0].lower() + action[1:])\n",
    "        obs = obs.replace('\\\\n', '')\n",
    "        step_str = f\"Thought {i}: {thought}\\nAction {i}: {action}\\nObservation {i}: {obs}\\n\"\n",
    "        prompt += step_str\n",
    "        if to_print: print(step_str)\n",
    "        if done: break\n",
    "    if not done:\n",
    "        finish_str = 'finish | NO ANSWER' if AGENT == 'teaLLM' else 'finish[NO ANSWER]'\n",
    "        obs, r, done, info = step(env, finish_str)\n",
    "        \n",
    "    if not (idx is None) and to_print: print(info, '\\n')\n",
    "    info.update({'n_calls': n_calls, 'n_badcalls': n_badcalls, 'traj': prompt})\n",
    "    return r, info"
   ]
  },
  {
   "cell_type": "markdown",
   "metadata": {},
   "source": [
    "## Custom questions"
   ]
  },
  {
   "cell_type": "code",
   "execution_count": 24,
   "metadata": {},
   "outputs": [
    {
     "name": "stdout",
     "output_type": "stream",
     "text": [
      "Thought 1: I need to find information on the speed of the RTX 4090 graphics card. I should start by searching for the RTX 4090 and its performance details.\n",
      "\n",
      "Action 1: search | RTX 4090 | what makes the RTX 4090 fast? | speed\n",
      "Observation 1: The RTX 4090 is fast due to being based on Nvidia's Ada Lovelace architecture and featuring third-generation RT cores for hardware-accelerated ray tracing (RTX) and fourth-generation deep-learning-focused Tensor Cores. \n",
      "\n",
      "Thought 2: The reason the RTX 4090 is so fast is because of Nvidia's Ada Lovelace architecture and the inclusion of third-generation RT cores for hardware-accelerated ray tracing and fourth-generation Tensor Cores for deep learning tasks. This makes the RTX 4090 a powerful graphics card for performance-driven tasks like gaming and rendering. I can provide this information as the answer.\n",
      "Action 2: finish | Ada Lovelace architecture, third-generation RT cores, fourth-generation Tensor Cores\n",
      "Observation 2: Episode finished, reward = 0\n",
      "\n",
      "\n",
      "{'steps': 2, 'answer': ' Ada Lovelace architecture, third-generation RT cores, fourth-generation Tensor Cores', 'gt_answer': 'no', 'question_idx': 1076, 'reward': False, 'em': False, 'f1': 0} \n",
      "\n"
     ]
    }
   ],
   "source": [
    "# teamLLM should generally provide more comprehensive and informative answers\n",
    "# answer: Ada Lovelace architecture, third-generation RT cores, fourth-generation Tensor Cores\n",
    "_ = webthink(question='Why is the RTX 4090 so fast?',\n",
    "             to_print=True)"
   ]
  },
  {
   "cell_type": "markdown",
   "metadata": {},
   "source": [
    "## HotPotQA"
   ]
  },
  {
   "cell_type": "code",
   "execution_count": 28,
   "metadata": {},
   "outputs": [
    {
     "name": "stderr",
     "output_type": "stream",
     "text": [
      "  0%|          | 0/14 [00:00<?, ?it/s]"
     ]
    },
    {
     "name": "stdout",
     "output_type": "stream",
     "text": [
      "INDEX = 0\n",
      "0 Question: Were Scott Derrickson and Ed Wood of the same nationality?\n",
      "Thought 1: Let's search for Scott Derrickson and Ed Wood to find out if they are of the same nationality.\n",
      "Action 1: search | Scott Derrickson | nationality of Scott Derrickson | nationality\n",
      "Observation 1: Scott Derrickson is an American filmmaker known for horror films like The Exorcism of Emily Rose and Sinister, as well as the superhero film Doctor Strange. He grew up in Denver, Colorado, and graduated from Biola University and USC School of Cinema-Television.\n",
      "\n",
      "Thought 2: The search for Scott Derrickson did not indicate his nationality, so I will search for Ed Wood to see if they share the same nationality. \n",
      "Action 2: search | Ed Wood | nationality of Ed Wood | nationality\n",
      "Observation 2: Edward Davis Wood Jr. was an American filmmaker, actor, screenwriter, and pulp novelist. He was born in Poughkeepsie, New York, in 1924. Throughout the 1950s, he directed low-budget science fiction, crime, and horror films that later became cult classics. Wood's films were known for their campy aesthetics, technical errors, and eccentric casts. He was posthumously awarded a Golden Turkey Award for Worst Director of All Time in 1980, renewing public interest in his work. Ed Wood was an American filmmaker, actor, screenwriter, and pulp novelist known for directing low-budget cult classic films in the 1950s. He was in a long-term relationship with actress Dolores Fuller and later married Norma McCarty and Kathy O'Hara. Wood's transvestism was not sexual but a neomaternal comfort, and he often went out in public dressed in drag as \"Shirley,\" his female alter ego. Despite his crossdressing, Wood claimed to have never had a homosexual relationship and was considered a womanizer.\n",
      "\n"
     ]
    },
    {
     "name": "stderr",
     "output_type": "stream",
     "text": [
      "  7%|▋         | 1/14 [00:09<02:02,  9.41s/it]"
     ]
    },
    {
     "name": "stdout",
     "output_type": "stream",
     "text": [
      "Thought 3: Since both Scott Derrickson and Ed Wood are American filmmakers, they are of the same nationality. The question can be answered now.\n",
      "Action 3: finish | Yes\n",
      "Observation 3: Episode finished, reward = 1\n",
      "\n",
      "\n",
      "1 1 1.0 9.411827802658081\n",
      "-----------\n",
      "\n",
      "INDEX = 1\n",
      "1 Question: What government position was held by the woman who portrayed Corliss Archer in the film Kiss and Tell?\n",
      "Thought 1: I need to find the government position held by the woman who played Corliss Archer in Kiss and Tell. I should start by searching for details about the film and the actress who portrayed Corliss Archer.\n",
      "Action 1: search | Kiss and Tell film | who portrayed Corliss Archer in the film Kiss and Tell? | Corliss Archer\n",
      "Observation 1: There are no sentences in the provided text related to the question about who portrayed Corliss Archer in the film Kiss and Tell. The text does not contain any information on specific actors or characters in movies.\n",
      "\n",
      "Thought 2: Since I couldn't find the actress who played Corliss Archer in Kiss and Tell through the search, I will look for other articles related to the film that might contain the information I need.\n",
      "Action 2: similar\n",
      "Observation 2: Kiss & Tell (1997 film), Kiss and Tell (1945 film), Kiss Kiss Bang Bang, Kiss and Tell (2011 film), The Kissing Booth, Kiss the Girls (1997 film), Kiss & Tell (Selena Gomez & the Scene album), Vampire's Kiss, Kiss and Tell (Bryan Ferry song)\n",
      "\n",
      "Thought 3: I should focus on the 1945 film \"Kiss and Tell\" as it is most likely the one that the question refers to. I will check the Wikipedia page for this film to find out who portrayed Corliss Archer.\n",
      "Action 3: search | Kiss and Tell (1945 film) | who portrayed Corliss Archer in the film Kiss and Tell? | Corliss Archer\n",
      "Observation 3: There is no information in the provided text about who portrayed Corliss Archer in the film Kiss and Tell. The film is a 1945 American comedy starring Shirley Temple as Corliss Archer, where two teenage girls cause concern for their parents by becoming interested in boys.\n",
      "\n"
     ]
    },
    {
     "name": "stderr",
     "output_type": "stream",
     "text": [
      " 14%|█▍        | 2/14 [00:18<01:52,  9.35s/it]"
     ]
    },
    {
     "name": "stdout",
     "output_type": "stream",
     "text": [
      "Thought 4: Shirley Temple portrayed Corliss Archer in the 1945 film \"Kiss and Tell\". The original question asked about the government position held by the woman who played Corliss Archer. Shirley Temple later went on to hold the position of U.S. Ambassador to Ghana and Czechoslovakia. I should finish with this answer.\n",
      "Action 4: finish | U.S. Ambassador\n",
      "Observation 4: Episode finished, reward = 0\n",
      "\n",
      "\n",
      "1 2 0.5 9.35993492603302\n",
      "-----------\n",
      "\n",
      "INDEX = 2\n",
      "2 Question: What science fantasy young adult series, told in first person, has a set of companion books narrating the stories of enslaved worlds and alien species?\n",
      "Thought 1: I need to search for a science fantasy young adult series that is told in the first person and has companion books about enslaved worlds and alien species. I should start by searching for science fantasy young adult series.\n",
      "\n",
      "Action 1: search | science fantasy young adult series | what series is told in first person and has companion books about enslaved worlds and alien species? | enslaved worlds, alien species\n",
      "Observation 1: There is no information in the provided text about a series told in first person with companion books about enslaved worlds and alien species. The text discusses the Ballantine Adult Fantasy series, which reissued works of fantasy literature and was edited by Lin Carter, lasting from 1969 to 1974.\n",
      "\n",
      "Thought 2: The search didn't provide relevant information, but the Ballantine Adult Fantasy series was mentioned. I should crawl through this article to see if there is any mention of science fantasy young adult series that fits the criteria I'm looking for.\n",
      "\n",
      "Action 2: crawl | any science fantasy young adult series mentioned in the article?\n",
      "Observation 2: Del Rey Books, DAW Books, High Deryni\n",
      "\n",
      "Thought 3: There doesn't seem to be a mention of any specific science fantasy young adult series in the crawl results. I should try searching for similar articles to see if I can find something more relevant.\n",
      "\n",
      "Action 3: similar\n",
      "Observation 3: A Court of Thorns and Roses, Red Queen (novel), Sarah J. Maas, The Mortal Instruments, Leigh Bardugo, Brandon Sanderson, Suzanne Collins, V. E. Schwab, Maximum Ride\n",
      "\n",
      "Thought 4: I should search for \"A Court of Thorns and Roses\" as it seems like a science fantasy young adult series that might fit the criteria I'm looking for.\n",
      "\n",
      "Action 4: search | A Court of Thorns and Roses | do the companion books narrate the stories of enslaved worlds and alien species? | enslaved worlds, alien species\n",
      "Observation 4: There is no mention of enslaved worlds or alien species in the text. The text discusses the series \"A Court of Thorns and Roses\" by Sarah J. Maas, which follows the journey of Feyre Archeron in the faerie lands of Prythian, inspired by fairy tales like Beauty and the Beast. The series has been successful and is classified as New Adult fiction.\n",
      "\n",
      "Thought 5: The search for \"A Court of Thorns and Roses\" did not provide the information I needed. I should try searching for another series mentioned in the similar articles list that might fit the criteria.\n",
      "\n",
      "Action 5: search | Red Queen (novel) | do the companion books narrate the stories of enslaved worlds and alien species? | enslaved worlds, alien species\n",
      "Observation 5: There is no mention of companion books narrating the stories of enslaved worlds and alien species in the provided text. \n",
      "\n",
      "Red Queen is a young adult dystopian fantasy romance novel by Victoria Aveyard, where people are divided by blood into Reds and Silvers, with supernatural abilities. The story follows Mare Barrow, a Red thief, who gets involved with the Scarlet Guard, a rebel group fighting for equality. Mare discovers she has Silver-like powers due to a genetic mutation, leading to a series of events involving betrayal, manipulation, and rebellion against the oppressive Silver regime. \n",
      "\n",
      "Thought 6: I have not found the information I was looking for in the search for \"Red Queen.\" I should try searching for another series mentioned in the similar articles list that might fit the criteria.\n",
      "\n",
      "Action 6: search | The Mortal Instruments | do the companion books narrate the stories of enslaved worlds and alien species? | enslaved worlds, alien species\n",
      "Observation 6: There is no mention of companion books narrating the stories of enslaved worlds and alien species in the provided text. \n",
      "\n",
      "The Mortal Instruments is a popular young adult fantasy series written by Cassandra Clare, following Clary Fray and a group of Nephilim known as Shadowhunters. The series has received positive reviews and has been on bestseller lists for several weeks. Additionally, there are prequels and sequels set in the same universe, expanding on different characters and timelines. \n",
      "\n"
     ]
    },
    {
     "name": "stderr",
     "output_type": "stream",
     "text": [
      " 14%|█▍        | 2/14 [00:43<04:22, 21.91s/it]"
     ]
    },
    {
     "name": "stdout",
     "output_type": "stream",
     "text": [
      "Thought 7: I have not found the information I was looking for in the search for \"The Mortal Instruments.\" I should continue searching for other series mentioned in the similar articles list that might fit the criteria.\n",
      "\n",
      "Action 7: search | Maximum Ride | do the companion books narrate the stories of enslaved worlds and alien species? | enslaved worlds, alien species\n",
      "Observation 7: There is no mention of companion books narrating the stories of enslaved worlds and alien species in the provided text. The text mainly focuses on the adventures of Maximum Ride and her family, the Flock, who are human-avian hybrids created in a lab called The School, and their battles against various obstacles and enemies.\n",
      "\n"
     ]
    },
    {
     "name": "stderr",
     "output_type": "stream",
     "text": [
      "\n"
     ]
    },
    {
     "ename": "KeyError",
     "evalue": "'em'",
     "output_type": "error",
     "traceback": [
      "\u001b[0;31m---------------------------------------------------------------------------\u001b[0m",
      "\u001b[0;31mKeyError\u001b[0m                                  Traceback (most recent call last)",
      "Cell \u001b[0;32mIn[28], line 14\u001b[0m\n\u001b[1;32m     12\u001b[0m \u001b[38;5;28mprint\u001b[39m(\u001b[38;5;124mf\u001b[39m\u001b[38;5;124m'\u001b[39m\u001b[38;5;124mINDEX = \u001b[39m\u001b[38;5;132;01m{\u001b[39;00mi\u001b[38;5;132;01m}\u001b[39;00m\u001b[38;5;124m'\u001b[39m)\n\u001b[1;32m     13\u001b[0m r, info \u001b[38;5;241m=\u001b[39m webthink(idx\u001b[38;5;241m=\u001b[39mi, to_print\u001b[38;5;241m=\u001b[39m\u001b[38;5;28;01mTrue\u001b[39;00m)\n\u001b[0;32m---> 14\u001b[0m rs\u001b[38;5;241m.\u001b[39mappend(info[\u001b[38;5;124m'\u001b[39m\u001b[38;5;124mem\u001b[39m\u001b[38;5;124m'\u001b[39m])\n\u001b[1;32m     15\u001b[0m infos\u001b[38;5;241m.\u001b[39mappend(info)\n\u001b[1;32m     16\u001b[0m \u001b[38;5;28mprint\u001b[39m(\u001b[38;5;28msum\u001b[39m(rs), \u001b[38;5;28mlen\u001b[39m(rs), \u001b[38;5;28msum\u001b[39m(rs) \u001b[38;5;241m/\u001b[39m \u001b[38;5;28mlen\u001b[39m(rs), (time\u001b[38;5;241m.\u001b[39mtime() \u001b[38;5;241m-\u001b[39m old_time) \u001b[38;5;241m/\u001b[39m \u001b[38;5;28mlen\u001b[39m(rs))\n",
      "\u001b[0;31mKeyError\u001b[0m: 'em'"
     ]
    }
   ],
   "source": [
    "import time, json\n",
    "from tqdm import tqdm\n",
    "\n",
    "idxs = list(range(7405))\n",
    "rs = []\n",
    "infos = []\n",
    "old_time = time.time()\n",
    "BEGIN = 0\n",
    "END = 14\n",
    "for i in tqdm(idxs[BEGIN:END]):\n",
    "# for i in tqdm(idxs[758:1000]):\n",
    "    print(f'INDEX = {i}')\n",
    "    r, info = webthink(idx=i, to_print=True)\n",
    "    rs.append(info['em'])\n",
    "    infos.append(info)\n",
    "    print(sum(rs), len(rs), sum(rs) / len(rs), (time.time() - old_time) / len(rs))\n",
    "    print('-----------')\n",
    "    print()\n",
    "\n",
    "with open(f'{AGENT}_temp.json', 'w') as f:\n",
    "    json.dump(infos, f)"
   ]
  },
  {
   "cell_type": "code",
   "execution_count": null,
   "metadata": {},
   "outputs": [],
   "source": []
  }
 ],
 "metadata": {
  "kernelspec": {
   "display_name": "Python 3",
   "language": "python",
   "name": "python3"
  },
  "language_info": {
   "codemirror_mode": {
    "name": "ipython",
    "version": 3
   },
   "file_extension": ".py",
   "mimetype": "text/x-python",
   "name": "python",
   "nbconvert_exporter": "python",
   "pygments_lexer": "ipython3",
   "version": "3.11.7"
  }
 },
 "nbformat": 4,
 "nbformat_minor": 2
}
