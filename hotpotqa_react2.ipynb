{
 "cells": [
  {
   "cell_type": "markdown",
   "metadata": {},
   "source": [
    "# Setup"
   ]
  },
  {
   "cell_type": "code",
   "execution_count": 1,
   "metadata": {},
   "outputs": [],
   "source": [
    "import os\n",
    "import openai\n",
    "import requests\n",
    " \n",
    "\n",
    "client = openai.OpenAI(api_key=input())\n",
    "\n",
    "def llm(prompt, stop=[\"\\n\"]):\n",
    "    response = client.chat.completions.create(\n",
    "      model=\"gpt-3.5-turbo\",\n",
    "      messages=[{'role' : 'user', 'content' : prompt}],\n",
    "      temperature=0,\n",
    "      max_tokens=100,\n",
    "      top_p=1,\n",
    "      frequency_penalty=0.0,\n",
    "      presence_penalty=0.0,\n",
    "      stop=stop\n",
    "    )\n",
    "    return response.choices[0].message.content"
   ]
  },
  {
   "cell_type": "code",
   "execution_count": 2,
   "metadata": {},
   "outputs": [
    {
     "name": "stdout",
     "output_type": "stream",
     "text": [
      "Requirement already satisfied: gym in /opt/anaconda3/lib/python3.11/site-packages (0.26.2)\n",
      "Requirement already satisfied: numpy>=1.18.0 in /opt/anaconda3/lib/python3.11/site-packages (from gym) (1.26.4)\n",
      "Requirement already satisfied: cloudpickle>=1.2.0 in /opt/anaconda3/lib/python3.11/site-packages (from gym) (2.2.1)\n",
      "Requirement already satisfied: gym-notices>=0.0.4 in /opt/anaconda3/lib/python3.11/site-packages (from gym) (0.0.8)\n",
      "Note: you may need to restart the kernel to use updated packages.\n"
     ]
    }
   ],
   "source": [
    "%pip install gym"
   ]
  },
  {
   "cell_type": "code",
   "execution_count": 3,
   "metadata": {},
   "outputs": [],
   "source": [
    "import wikienv, wrappers\n",
    "env = wikienv.WikiEnv()\n",
    "env = wrappers.HotPotQAWrapper(env, split=\"dev\")\n",
    "env = wrappers.LoggingWrapper(env)\n",
    "\n",
    "def step(env, action):\n",
    "    attempts = 0\n",
    "    while attempts < 10:\n",
    "        try:\n",
    "            return env.step(action)\n",
    "        except requests.exceptions.Timeout:\n",
    "            attempts += 1"
   ]
  },
  {
   "cell_type": "markdown",
   "metadata": {},
   "source": [
    "# ReAct"
   ]
  },
  {
   "cell_type": "code",
   "execution_count": 5,
   "metadata": {},
   "outputs": [],
   "source": [
    "import json\n",
    "import sys\n",
    "\n",
    "folder = './prompts/'\n",
    "prompt_file = 'prompts_naive.json'\n",
    "with open(folder + prompt_file, 'r') as f:\n",
    "    prompt_dict = json.load(f)\n",
    "\n",
    "webthink_examples = prompt_dict['webthink_simple6']\n",
    "instruction = \"\"\"Solve a question answering task with interleaving Thought, Action, Observation steps. Thought can reason about the current situation, and Action can be three types: \n",
    "(1) Search[entity], which searches the exact entity on Wikipedia and returns the first paragraph if it exists. If not, it will return some similar entities to search.\n",
    "(2) Lookup[keyword], which returns the next sentence containing keyword in the current passage.\n",
    "(3) Finish[answer], which returns the answer and finishes the task.\n",
    "Here are some examples.\n",
    "\"\"\"\n",
    "webthink_prompt = instruction + webthink_examples\n",
    "with open('ReAct.txt', 'w') as f:\n",
    "    f.write(webthink_prompt)\n",
    "    \n",
    "def webthink(idx=None, prompt=webthink_prompt, to_print=True):\n",
    "    question = env.reset(idx=idx)\n",
    "    question = 'What did the U.S. use to shoot down the Chinese spy balloon?'\n",
    "    if to_print:\n",
    "        print(idx, question)\n",
    "    prompt += question + \"\\n\"\n",
    "    n_calls, n_badcalls = 0, 0\n",
    "    for i in range(1, 8):\n",
    "        n_calls += 1\n",
    "        thought_action = llm(prompt + f\"Thought {i}:\", stop=[f\"\\nObservation {i}:\"])\n",
    "        try:\n",
    "            thought, action = thought_action.strip().split(f\"\\nAction {i}: \")\n",
    "        except:\n",
    "            print('ohh...', thought_action)\n",
    "            n_badcalls += 1\n",
    "            n_calls += 1\n",
    "            thought = thought_action.strip().split('\\n')[0]\n",
    "            action = llm(prompt + f\"Thought {i}: {thought}\\nAction {i}:\", stop=[f\"\\n\"]).strip()\n",
    "        obs, r, done, info = step(env, action[0].lower() + action[1:])\n",
    "        obs = obs.replace('\\\\n', '')\n",
    "        step_str = f\"Thought {i}: {thought}\\nAction {i}: {action}\\nObservation {i}: {obs}\\n\"\n",
    "        prompt += step_str\n",
    "        if to_print:\n",
    "            print(step_str)\n",
    "        if done:\n",
    "            break\n",
    "    if not done:\n",
    "        obs, r, done, info = step(env, \"finish[]\")\n",
    "    if to_print:\n",
    "        print(info, '\\n')\n",
    "    info.update({'n_calls': n_calls, 'n_badcalls': n_badcalls, 'traj': prompt})\n",
    "    return r, info"
   ]
  },
  {
   "cell_type": "code",
   "execution_count": 6,
   "metadata": {},
   "outputs": [
    {
     "name": "stderr",
     "output_type": "stream",
     "text": [
      "  0%|          | 0/1 [00:00<?, ?it/s]"
     ]
    },
    {
     "name": "stdout",
     "output_type": "stream",
     "text": [
      "7 What did the U.S. use to shoot down the Chinese spy balloon?\n",
      "Thought 1: I need to search for information on what the U.S. used to shoot down the Chinese spy balloon.\n",
      "Action 1: Search[U.S. shoot down Chinese spy balloon]\n",
      "Observation 1: Could not find U.S. shoot down Chinese spy balloon. Similar: ['2023 Chinese balloon incident', '2023 Alaska high-altitude object (redirect from 2023 Alaska shoot down)', 'List of high-altitude object events in 2023 (redirect from 2023 balloon incidents)', '2023 Lake Huron high-altitude object (redirect from Lake Huron shoot down)', 'Chinese intelligence activity abroad'].\n",
      "\n",
      "Thought 2: I need to search for the specific incident involving the U.S. shooting down a Chinese spy balloon.\n",
      "Action 2: Search[U.S. shoots down Chinese spy balloon]\n",
      "Observation 2: Could not find U.S. shoots down Chinese spy balloon. Similar: ['2023 Chinese balloon incident', 'List of high-altitude object events in 2023 (redirect from 2023 balloon incidents)', '2023 Alaska high-altitude object (redirect from 2023 Alaska shoot down)', 'AIM-9 Sidewinder (section 2023 North American balloon & unidentified object shootdowns)', '2023 Lake Huron high-altitude object (redirect from Lake Huron shoot down)'].\n",
      "\n",
      "Thought 3: I need to search for the specific incident involving the U.S. shooting down a Chinese spy balloon to find out what they used.\n",
      "Action 3: Search[U.S. shoots down Chinese spy balloon specific incident]\n",
      "Observation 3: Could not find U.S. shoots down Chinese spy balloon specific incident. Similar: ['2023 Chinese balloon incident', 'China–United States relations', '2016 in aviation', '2022–2023 Pentagon document leaks (redirect from 2023 US classified information leak)', 'History of aerial warfare (section Balloon warfare)'].\n",
      "\n",
      "Thought 4: I need to search for a specific incident involving the U.S. shooting down a Chinese spy balloon to find out what they used. Let me try a different search query.\n",
      "Action 4: Search[U.S. shoots down Chinese spy balloon specific event]\n",
      "Observation 4: Could not find U.S. shoots down Chinese spy balloon specific event. Similar: ['2023 Chinese balloon incident', 'China–United States relations', '2016 in aviation (section Events)', '2022–2023 Pentagon document leaks (redirect from 2023 US classified information leak)', 'Timeline of events associated with Anonymous'].\n",
      "\n",
      "Thought 5: I need to search for the specific incident involving the U.S. shooting down a Chinese spy balloon to find out what they used. Let me try a different search query.\n",
      "Action 5: Search[U.S. shoots down Chinese spy balloon specific case]\n",
      "Observation 5: Could not find U.S. shoots down Chinese spy balloon specific case. Similar: ['China–United States relations', '2016 in aviation', '2022–2023 Pentagon document leaks (redirect from 2023 US classified information leak)', 'Islam in China', 'Lockheed Martin F-22 Raptor (redirect from U.S._Air_Force_F-22_Raptor)'].\n",
      "\n",
      "Thought 6: I need to search for the specific incident involving the U.S. shooting down a Chinese spy balloon to find out what they used. Let me try a different search query.\n",
      "Action 6: Search[U.S. shoots down Chinese spy balloon specific details]\n",
      "Observation 6: Could not find U.S. shoots down Chinese spy balloon specific details. Similar: ['2023 Chinese balloon incident', 'China–United States relations', '2022–2023 Pentagon document leaks (redirect from 2023 US classified information leak)', '2016 in aviation', 'Timeline of events associated with Anonymous (category CS1 Chinese (China)-language sources (zh-cn))'].\n",
      "\n"
     ]
    },
    {
     "name": "stderr",
     "output_type": "stream",
     "text": [
      "100%|██████████| 1/1 [00:17<00:00, 17.30s/it]"
     ]
    },
    {
     "name": "stdout",
     "output_type": "stream",
     "text": [
      "Thought 7: I am unable to find the specific incident involving the U.S. shooting down a Chinese spy balloon. I will need to look for more information or try a different search query to find out what they used. Let me try another search query.\n",
      "Action 7: Search[U.S. shoots down Chinese spy balloon specific weapon]\n",
      "Observation 7: Could not find U.S. shoots down Chinese spy balloon specific weapon. Similar: ['2023 Chinese balloon incident', 'China–United States relations', '2016 in aviation', '2022–2023 Pentagon document leaks (redirect from 2023 US classified information leak)', 'History of aerial warfare (section Balloon warfare)'].\n",
      "\n",
      "OURS: \n",
      "CORRECT: 3677 seated\n",
      "{'steps': 8, 'answer': '', 'gt_answer': '3,677 seated', 'question_idx': 7, 'reward': False, 'em': False, 'f1': 0} \n",
      "\n",
      "0 1 0.0 17.3018741607666\n",
      "-----------\n",
      "\n"
     ]
    },
    {
     "name": "stderr",
     "output_type": "stream",
     "text": [
      "\n"
     ]
    }
   ],
   "source": [
    "import random\n",
    "import time\n",
    "from tqdm import tqdm\n",
    "import json\n",
    "\n",
    "idxs = list(range(7405))\n",
    "# random.Random(233).shuffle(idxs)\n",
    "\n",
    "rs = []\n",
    "infos = []\n",
    "old_time = time.time()\n",
    "ID = 7\n",
    "for i in tqdm(idxs[ID:ID+1]):\n",
    "    r, info = webthink(i, to_print=True)\n",
    "    rs.append(info['em'])\n",
    "    infos.append(info)\n",
    "    print(sum(rs), len(rs), sum(rs) / len(rs), (time.time() - old_time) / len(rs))\n",
    "    print('-----------')\n",
    "    print()\n",
    "\n",
    "with open('react_baseline_2.json', 'w') as f:\n",
    "    json.dump(infos, f)"
   ]
  },
  {
   "cell_type": "code",
   "execution_count": 30,
   "metadata": {},
   "outputs": [],
   "source": []
  }
 ],
 "metadata": {
  "kernelspec": {
   "display_name": "Python 3",
   "language": "python",
   "name": "python3"
  },
  "language_info": {
   "codemirror_mode": {
    "name": "ipython",
    "version": 3
   },
   "file_extension": ".py",
   "mimetype": "text/x-python",
   "name": "python",
   "nbconvert_exporter": "python",
   "pygments_lexer": "ipython3",
   "version": "3.11.7"
  }
 },
 "nbformat": 4,
 "nbformat_minor": 2
}
