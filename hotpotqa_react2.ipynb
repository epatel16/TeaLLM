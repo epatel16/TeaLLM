{
 "cells": [
  {
   "cell_type": "markdown",
   "metadata": {},
   "source": [
    "# Setup"
   ]
  },
  {
   "cell_type": "code",
   "execution_count": 2,
   "metadata": {},
   "outputs": [],
   "source": [
    "import os\n",
    "import openai\n",
    "import requests\n",
    " \n",
    "\n",
    "client = openai.OpenAI(api_key=input())\n",
    "\n",
    "def llm(prompt, stop=[\"\\n\"]):\n",
    "    response = client.chat.completions.create(\n",
    "      model=\"gpt-3.5-turbo\",\n",
    "      messages=[{'role' : 'user', 'content' : prompt}],\n",
    "      temperature=0,\n",
    "      max_tokens=100,\n",
    "      top_p=1,\n",
    "      frequency_penalty=0.0,\n",
    "      presence_penalty=0.0,\n",
    "      stop=stop\n",
    "    )\n",
    "    return response.choices[0].message.content"
   ]
  },
  {
   "cell_type": "code",
   "execution_count": 3,
   "metadata": {},
   "outputs": [
    {
     "name": "stdout",
     "output_type": "stream",
     "text": [
      "Requirement already satisfied: gym in /opt/anaconda3/lib/python3.11/site-packages (0.26.2)\n",
      "Requirement already satisfied: numpy>=1.18.0 in /opt/anaconda3/lib/python3.11/site-packages (from gym) (1.26.4)\n",
      "Requirement already satisfied: cloudpickle>=1.2.0 in /opt/anaconda3/lib/python3.11/site-packages (from gym) (2.2.1)\n",
      "Requirement already satisfied: gym-notices>=0.0.4 in /opt/anaconda3/lib/python3.11/site-packages (from gym) (0.0.8)\n",
      "Note: you may need to restart the kernel to use updated packages.\n"
     ]
    }
   ],
   "source": [
    "%pip install gym"
   ]
  },
  {
   "cell_type": "code",
   "execution_count": 4,
   "metadata": {},
   "outputs": [],
   "source": [
    "import wikienv, wrappers\n",
    "env = wikienv.WikiEnv()\n",
    "env = wrappers.HotPotQAWrapper(env, split=\"dev\")\n",
    "env = wrappers.LoggingWrapper(env)\n",
    "\n",
    "def step(env, action):\n",
    "    attempts = 0\n",
    "    while attempts < 10:\n",
    "        try:\n",
    "            return env.step(action)\n",
    "        except requests.exceptions.Timeout:\n",
    "            attempts += 1"
   ]
  },
  {
   "cell_type": "markdown",
   "metadata": {},
   "source": [
    "# ReAct"
   ]
  },
  {
   "cell_type": "code",
   "execution_count": 5,
   "metadata": {},
   "outputs": [
    {
     "name": "stdout",
     "output_type": "stream",
     "text": [
      "Solve a question answering task with interleaving Thought, Action, Observation steps. Thought can reason about the current situation, and Action can be three types: \n",
      "(1) Search[entity], which searches the exact entity on Wikipedia and returns the first paragraph if it exists. If not, it will return some similar entities to search.\n",
      "(2) Lookup[keyword], which returns the next sentence containing keyword in the current passage.\n",
      "(3) Finish[answer], which returns the answer and finishes the task.\n",
      "Here are some examples.\n",
      "\n",
      "Question: What is the elevation range for the area that the eastern sector of the Colorado orogeny extends into?\n",
      "Thought 1: I need to search Colorado orogeny, find the area that the eastern sector of the Colorado orogeny extends into, then find the elevation range of the area.\n",
      "Action 1: Search[Colorado orogeny]\n",
      "Observation 1: The Colorado orogeny was an episode of mountain building (an orogeny) in Colorado and surrounding areas.\n",
      "Thought 2: It does not mention the eastern sector. So I need to look up eastern sector.\n",
      "Action 2: Lookup[eastern sector]\n",
      "Observation 2: (Result 1 / 1) The eastern sector extends into the High Plains and is called the Central Plains orogeny.\n",
      "Thought 3: The eastern sector of Colorado orogeny extends into the High Plains. So I need to search High Plains and find its elevation range.\n",
      "Action 3: Search[High Plains]\n",
      "Observation 3: High Plains refers to one of two distinct land regions:\n",
      "Thought 4: I need to instead search High Plains (United States).\n",
      "Action 4: Search[High Plains (United States)]\n",
      "Observation 4: The High Plains are a subregion of the Great Plains. From east to west, the High Plains rise in elevation from around 1,800 to 7,000 ft (550 to 2,130 m).[3]\n",
      "Thought 5: High Plains rise in elevation from around 1,800 to 7,000 ft, so the answer is 1,800 to 7,000 ft.\n",
      "Action 5: Finish[1,800 to 7,000 ft]\n",
      "Question: Musician and satirist Allie Goertz wrote a song about the \"The Simpsons\" character Milhouse, who Matt Groening named after who?\n",
      "Thought 1: The question simplifies to \"The Simpsons\" character Milhouse is named after who. I only need to search Milhouse and find who it is named after.\n",
      "Action 1: Search[Milhouse]\n",
      "Observation 1: Milhouse Mussolini Van Houten is a recurring character in the Fox animated television series The Simpsons voiced by Pamela Hayden and created by Matt Groening.\n",
      "Thought 2: The paragraph does not tell who Milhouse is named after, maybe I can look up \"named after\".\n",
      "Action 2: Lookup[named after]\n",
      "Observation 2: (Result 1 / 1) Milhouse was named after U.S. president Richard Nixon, whose middle name was Milhous. \n",
      "Thought 3: Milhouse was named after U.S. president Richard Nixon, so the answer is Richard Nixon.\n",
      "Action 3: Finish[Richard Nixon]\n",
      "Question: Which documentary is about Finnish rock groups, Adam Clayton Powell or The Saimaa Gesture?\n",
      "Thought 1: I need to search Adam Clayton Powell and The Saimaa Gesture, and find which documentary is about Finnish rock groups.\n",
      "Action 1: Search[Adam Clayton Powell]\n",
      "Observation 1: Could not find [Adam Clayton Powell]. Similar: ['Adam Clayton Powell III', 'Seventh Avenue (Manhattan)', 'Adam Clayton Powell Jr. State Office Building', 'Isabel Washington Powell', 'Adam Powell', 'Adam Clayton Powell (film)', 'Giancarlo Esposito'].\n",
      "Thought 2: To find the documentary, I can search Adam Clayton Powell (film).\n",
      "Action 2: Search[Adam Clayton Powell (film)]\n",
      "Observation 2: Adam Clayton Powell is a 1989 American documentary film directed by Richard Kilberg.\n",
      "The film is about the rise and fall of influential African-American politician Adam Clayton Powell Jr.[3][4] It was later aired as part of the PBS series The American Experience.\n",
      "Thought 3: Adam Clayton Powell (film) is a documentary about an African-American politician, not Finnish rock groups. So the documentary about Finnish rock groups must instead be The Saimaa Gesture.\n",
      "Action 3: Finish[The Saimaa Gesture]\n",
      "Question: What profession does Nicholas Ray and Elia Kazan have in common?\n",
      "Thought 1: I need to search Nicholas Ray and Elia Kazan, find their professions, then find the profession they have in common.\n",
      "Action 1: Search[Nicholas Ray]\n",
      "Observation 1: Nicholas Ray (born Raymond Nicholas Kienzle Jr., August 7, 1911 – June 16, 1979) was an American film director, screenwriter, and actor best known for the 1955 film Rebel Without a Cause.\n",
      "Thought 2: Professions of Nicholas Ray are director, screenwriter, and actor. I need to search Elia Kazan next and find his professions.\n",
      "Action 2: Search[Elia Kazan]\n",
      "Observation 2: Elia Kazan was an American film and theatre director, producer, screenwriter and actor.\n",
      "Thought 3: Professions of Elia Kazan are director, producer, screenwriter, and actor. So profession Nicholas Ray and Elia Kazan have in common is director, screenwriter, and actor.\n",
      "Action 3: Finish[director, screenwriter, actor]\n",
      "Question: Which magazine was started first Arthur's Magazine or First for Women?\n",
      "Thought 1: I need to search Arthur's Magazine and First for Women, and find which was started first.\n",
      "Action 1: Search[Arthur's Magazine]\n",
      "Observation 1: Arthur's Magazine (1844-1846) was an American literary periodical published in Philadelphia in the 19th century. \n",
      "Thought 2: Arthur's Magazine was started in 1844. I need to search First for Women next.\n",
      "Action 2: Search[First for Women]\n",
      "Observation 2: First for Women is a woman's magazine published by Bauer Media Group in the USA.[1] The magazine was started in 1989. \n",
      "Thought 3: First for Women was started in 1989. 1844 (Arthur's Magazine) < 1989 (First for Women), so Arthur's Magazine was started first.\n",
      "Action 3: Finish[Arthur's Magazine]\n",
      "Question: Were Pavel Urysohn and Leonid Levin known for the same type of work?\n",
      "Thought 1: I need to search Pavel Urysohn and Leonid Levin, find their types of work, then find if they are the same.\n",
      "Action 1: Search[Pavel Urysohn]\n",
      "Observation 1: Pavel Samuilovich Urysohn (February 3, 1898 â August 17, 1924) was a Soviet mathematician who is best known for his contributions in dimension theory.\n",
      "Thought 2: Pavel Urysohn is a mathematician. I need to search Leonid Levin next and find its type of work.\n",
      "Action 2: Search[Leonid Levin]\n",
      "Observation 2: Leonid Anatolievich Levin is a Soviet-American mathematician and computer scientist. \n",
      "Thought 3: Leonid Levin is a mathematician and computer scientist. So Pavel Urysohn and Leonid Levin have the same type of work. \n",
      "Action 3: Finish[yes]\n",
      "\n"
     ]
    }
   ],
   "source": [
    "import json\n",
    "import sys\n",
    "\n",
    "folder = './prompts/'\n",
    "prompt_file = 'prompts_naive.json'\n",
    "with open(folder + prompt_file, 'r') as f:\n",
    "    prompt_dict = json.load(f)\n",
    "\n",
    "webthink_examples = prompt_dict['webthink_simple6']\n",
    "instruction = \"\"\"Solve a question answering task with interleaving Thought, Action, Observation steps. Thought can reason about the current situation, and Action can be three types: \n",
    "(1) Search[entity], which searches the exact entity on Wikipedia and returns the first paragraph if it exists. If not, it will return some similar entities to search.\n",
    "(2) Lookup[keyword], which returns the next sentence containing keyword in the current passage.\n",
    "(3) Finish[answer], which returns the answer and finishes the task.\n",
    "Here are some examples.\n",
    "\"\"\"\n",
    "webthink_prompt = instruction + webthink_examples\n",
    "print(webthink_prompt)\n",
    "def webthink(idx=None, prompt=webthink_prompt, to_print=True):\n",
    "    question = env.reset(idx=idx)\n",
    "    question = 'What did the U.S. use to shoot down the Chinese spy balloon?'\n",
    "    if to_print:\n",
    "        print(idx, question)\n",
    "    prompt += question + \"\\n\"\n",
    "    n_calls, n_badcalls = 0, 0\n",
    "    for i in range(1, 8):\n",
    "        n_calls += 1\n",
    "        thought_action = llm(prompt + f\"Thought {i}:\", stop=[f\"\\nObservation {i}:\"])\n",
    "        try:\n",
    "            thought, action = thought_action.strip().split(f\"\\nAction {i}: \")\n",
    "        except:\n",
    "            print('ohh...', thought_action)\n",
    "            n_badcalls += 1\n",
    "            n_calls += 1\n",
    "            thought = thought_action.strip().split('\\n')[0]\n",
    "            action = llm(prompt + f\"Thought {i}: {thought}\\nAction {i}:\", stop=[f\"\\n\"]).strip()\n",
    "        obs, r, done, info = step(env, action[0].lower() + action[1:])\n",
    "        obs = obs.replace('\\\\n', '')\n",
    "        step_str = f\"Thought {i}: {thought}\\nAction {i}: {action}\\nObservation {i}: {obs}\\n\"\n",
    "        prompt += step_str\n",
    "        if to_print:\n",
    "            print(step_str)\n",
    "        if done:\n",
    "            break\n",
    "    if not done:\n",
    "        obs, r, done, info = step(env, \"finish[]\")\n",
    "    if to_print:\n",
    "        print(info, '\\n')\n",
    "    info.update({'n_calls': n_calls, 'n_badcalls': n_badcalls, 'traj': prompt})\n",
    "    return r, info"
   ]
  },
  {
   "cell_type": "code",
   "execution_count": 6,
   "metadata": {},
   "outputs": [
    {
     "name": "stderr",
     "output_type": "stream",
     "text": [
      "  0%|          | 0/1 [00:00<?, ?it/s]"
     ]
    },
    {
     "name": "stdout",
     "output_type": "stream",
     "text": [
      "7 What did the U.S. use to shoot down the Chinese spy balloon?\n",
      "Thought 1: I need to search for information on what the U.S. used to shoot down the Chinese spy balloon.\n",
      "Action 1: Search[U.S. shoot down Chinese spy balloon]\n",
      "Observation 1: Could not find U.S. shoot down Chinese spy balloon. Similar: ['2023 Chinese balloon incident', '2023 Alaska high-altitude object (redirect from 2023 Alaska shoot down)', 'List of high-altitude object events in 2023 (redirect from 2023 balloon incidents)', '2023 Lake Huron high-altitude object (redirect from Lake Huron shoot down)', 'Chinese intelligence activity abroad'].\n",
      "\n",
      "Thought 2: I need to search for the specific incident involving the U.S. shooting down a Chinese spy balloon.\n",
      "Action 2: Search[U.S. shoots down Chinese spy balloon]\n",
      "Observation 2: Could not find U.S. shoots down Chinese spy balloon. Similar: ['2023 Chinese balloon incident', 'List of high-altitude object events in 2023 (redirect from 2023 balloon incidents)', '2023 Alaska high-altitude object (redirect from 2023 Alaska shoot down)', 'AIM-9 Sidewinder (section 2023 North American balloon & unidentified object shootdowns)', '2023 Lake Huron high-altitude object (redirect from Lake Huron shoot down)'].\n",
      "\n",
      "Thought 3: I need to search for the specific incident involving the U.S. shooting down a Chinese spy balloon to find out what they used.\n",
      "Action 3: Search[U.S. shoots down Chinese spy balloon specific incident]\n",
      "Observation 3: Could not find U.S. shoots down Chinese spy balloon specific incident. Similar: ['2023 Chinese balloon incident', 'China–United States relations', '2016 in aviation', '2022–2023 Pentagon document leaks (redirect from 2023 US classified information leak)', 'History of aerial warfare (section Balloon warfare)'].\n",
      "\n",
      "Thought 4: I need to search for a specific incident involving the U.S. shooting down a Chinese spy balloon to find out what they used. Let me try a different search query.\n",
      "Action 4: Search[U.S. shoots down Chinese spy balloon specific event]\n",
      "Observation 4: Could not find U.S. shoots down Chinese spy balloon specific event. Similar: ['2023 Chinese balloon incident', 'China–United States relations', '2016 in aviation (section Events)', '2022–2023 Pentagon document leaks (redirect from 2023 US classified information leak)', 'Timeline of events associated with Anonymous'].\n",
      "\n",
      "Thought 5: I need to search for the specific incident involving the U.S. shooting down a Chinese spy balloon to find out what they used. Let me try a different search query.\n",
      "Action 5: Search[U.S. shoots down Chinese spy balloon specific case]\n",
      "Observation 5: Could not find U.S. shoots down Chinese spy balloon specific case. Similar: ['China–United States relations', '2016 in aviation', '2022–2023 Pentagon document leaks (redirect from 2023 US classified information leak)', 'Islam in China', 'Lockheed Martin F-22 Raptor (redirect from U.S._Air_Force_F-22_Raptor)'].\n",
      "\n",
      "Thought 6: I need to search for the specific incident involving the U.S. shooting down a Chinese spy balloon to find out what they used. Let me try a different search query.\n",
      "Action 6: Search[U.S. shoots down Chinese spy balloon specific details]\n",
      "Observation 6: Could not find U.S. shoots down Chinese spy balloon specific details. Similar: ['2023 Chinese balloon incident', 'China–United States relations', '2022–2023 Pentagon document leaks (redirect from 2023 US classified information leak)', '2016 in aviation', 'Timeline of events associated with Anonymous (category CS1 Chinese (China)-language sources (zh-cn))'].\n",
      "\n"
     ]
    },
    {
     "name": "stderr",
     "output_type": "stream",
     "text": [
      "100%|██████████| 1/1 [00:17<00:00, 17.30s/it]"
     ]
    },
    {
     "name": "stdout",
     "output_type": "stream",
     "text": [
      "Thought 7: I am unable to find the specific incident involving the U.S. shooting down a Chinese spy balloon. I will need to look for more information or try a different search query to find out what they used. Let me try another search query.\n",
      "Action 7: Search[U.S. shoots down Chinese spy balloon specific weapon]\n",
      "Observation 7: Could not find U.S. shoots down Chinese spy balloon specific weapon. Similar: ['2023 Chinese balloon incident', 'China–United States relations', '2016 in aviation', '2022–2023 Pentagon document leaks (redirect from 2023 US classified information leak)', 'History of aerial warfare (section Balloon warfare)'].\n",
      "\n",
      "OURS: \n",
      "CORRECT: 3677 seated\n",
      "{'steps': 8, 'answer': '', 'gt_answer': '3,677 seated', 'question_idx': 7, 'reward': False, 'em': False, 'f1': 0} \n",
      "\n",
      "0 1 0.0 17.3018741607666\n",
      "-----------\n",
      "\n"
     ]
    },
    {
     "name": "stderr",
     "output_type": "stream",
     "text": [
      "\n"
     ]
    }
   ],
   "source": [
    "import random\n",
    "import time\n",
    "from tqdm import tqdm\n",
    "import json\n",
    "\n",
    "idxs = list(range(7405))\n",
    "# random.Random(233).shuffle(idxs)\n",
    "\n",
    "rs = []\n",
    "infos = []\n",
    "old_time = time.time()\n",
    "ID = 7\n",
    "for i in tqdm(idxs[ID:ID+1]):\n",
    "    r, info = webthink(i, to_print=True)\n",
    "    rs.append(info['em'])\n",
    "    infos.append(info)\n",
    "    print(sum(rs), len(rs), sum(rs) / len(rs), (time.time() - old_time) / len(rs))\n",
    "    print('-----------')\n",
    "    print()\n",
    "\n",
    "with open('react_baseline_2.json', 'w') as f:\n",
    "    json.dump(infos, f)"
   ]
  },
  {
   "cell_type": "code",
   "execution_count": 30,
   "metadata": {},
   "outputs": [],
   "source": []
  }
 ],
 "metadata": {
  "kernelspec": {
   "display_name": "Python 3",
   "language": "python",
   "name": "python3"
  },
  "language_info": {
   "codemirror_mode": {
    "name": "ipython",
    "version": 3
   },
   "file_extension": ".py",
   "mimetype": "text/x-python",
   "name": "python",
   "nbconvert_exporter": "python",
   "pygments_lexer": "ipython3",
   "version": "3.11.7"
  }
 },
 "nbformat": 4,
 "nbformat_minor": 2
}
