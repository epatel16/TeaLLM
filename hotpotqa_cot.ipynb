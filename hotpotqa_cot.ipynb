{
 "cells": [
  {
   "cell_type": "markdown",
   "metadata": {},
   "source": [
    "# Setup"
   ]
  },
  {
   "cell_type": "code",
   "execution_count": 1,
   "metadata": {},
   "outputs": [],
   "source": [
    "import os\n",
    "import openai\n",
    "import requests\n",
    " \n",
    "client = openai.OpenAI(api_key=input())\n",
    "\n",
    "def llm(prompt, stop=[\"\\n\"]):\n",
    "    response = client.chat.completions.create(\n",
    "      model=\"gpt-3.5-turbo\",\n",
    "      messages=[{'role' : 'user', 'content' : prompt}],\n",
    "      temperature=0,\n",
    "      max_tokens=100,\n",
    "      top_p=1,\n",
    "      frequency_penalty=0.0,\n",
    "      presence_penalty=0.0,\n",
    "      stop=stop\n",
    "    )\n",
    "    return response.choices[0].message.content"
   ]
  },
  {
   "cell_type": "code",
   "execution_count": 2,
   "metadata": {},
   "outputs": [
    {
     "name": "stdout",
     "output_type": "stream",
     "text": [
      "Requirement already satisfied: gym in /opt/anaconda3/lib/python3.11/site-packages (0.26.2)\n",
      "Requirement already satisfied: numpy>=1.18.0 in /opt/anaconda3/lib/python3.11/site-packages (from gym) (1.26.4)\n",
      "Requirement already satisfied: cloudpickle>=1.2.0 in /opt/anaconda3/lib/python3.11/site-packages (from gym) (2.2.1)\n",
      "Requirement already satisfied: gym-notices>=0.0.4 in /opt/anaconda3/lib/python3.11/site-packages (from gym) (0.0.8)\n",
      "Note: you may need to restart the kernel to use updated packages.\n"
     ]
    }
   ],
   "source": [
    "%pip install gym"
   ]
  },
  {
   "cell_type": "code",
   "execution_count": 3,
   "metadata": {},
   "outputs": [],
   "source": [
    "import wikienv, wrappers\n",
    "env = wikienv.WikiEnv()\n",
    "env = wrappers.HotPotQAWrapper(env, split=\"dev\")\n",
    "env = wrappers.LoggingWrapper(env)\n",
    "\n",
    "def step(env, action):\n",
    "    attempts = 0\n",
    "    while attempts < 10:\n",
    "        try:\n",
    "            return env.step(action)\n",
    "        except requests.exceptions.Timeout:\n",
    "            attempts += 1"
   ]
  },
  {
   "cell_type": "markdown",
   "metadata": {},
   "source": [
    "# ReAct"
   ]
  },
  {
   "cell_type": "code",
   "execution_count": 5,
   "metadata": {},
   "outputs": [],
   "source": [
    "import json\n",
    "import sys\n",
    "\n",
    "folder = './prompts/'\n",
    "prompt_file = 'prompts_naive.json'\n",
    "with open(folder + prompt_file, 'r') as f:\n",
    "    prompt_dict = json.load(f)"
   ]
  },
  {
   "cell_type": "code",
   "execution_count": 4,
   "metadata": {},
   "outputs": [
    {
     "ename": "NameError",
     "evalue": "name 'prompt_dict' is not defined",
     "output_type": "error",
     "traceback": [
      "\u001b[0;31m---------------------------------------------------------------------------\u001b[0m",
      "\u001b[0;31mNameError\u001b[0m                                 Traceback (most recent call last)",
      "Cell \u001b[0;32mIn[4], line 1\u001b[0m\n\u001b[0;32m----> 1\u001b[0m \u001b[38;5;28mprint\u001b[39m(prompt_dict[\u001b[38;5;124m'\u001b[39m\u001b[38;5;124mwebthink_simple6\u001b[39m\u001b[38;5;124m'\u001b[39m])\n",
      "\u001b[0;31mNameError\u001b[0m: name 'prompt_dict' is not defined"
     ]
    }
   ],
   "source": [
    "print(prompt_dict['webthink_simple6'])"
   ]
  },
  {
   "cell_type": "code",
   "execution_count": 5,
   "metadata": {},
   "outputs": [],
   "source": [
    "webthink_examples = \"\"\"Question: Rainforest Ecological Train runs through a national park with an area of how many Kilometers ?\n",
    "Reasoning Step 1: I need to figure out the national park containing Rainforest Ecological Train.\n",
    "Reasoning Step 2: The train runs through the Iguazu National Park in Argentina. I need to figure out the area of this park.\n",
    "Reasoning Step 3: The Iguazu National Park has an area of 677 km squared.\n",
    "Answer: Finish[677]\n",
    "Question: What is the population of the town that gets it's water supply from Canobie Lake?\n",
    "Reasoning Step 1: I need to first figure out the town that gets its water supply from Canobie Lake.\n",
    "Reasoning Step 2: The town of Salem, New Hampshire gets its water supply from the lake. I need to figure out the population of this town.\n",
    "Reasoning Step 3: The population of Salem, New Hampshire is 30,089.\n",
    "Answer: Finish[30,089]\n",
    "Question: In between The Bears and I and Oceans which was released on July 31, 1974, by Buena Vista Distribution?\n",
    "Reasoning Step 1: I need to figure out when The Bears and I was released by Buena Vista Distribution.\n",
    "Reasoning Step 2: The Bears and I was released on July 31, 1974. I need to figure out if this date matches the question.\n",
    "Reasoning Step 3: The date July 31, 1974 matches the date in the question. Therefore, it was The Bears and I. I do not need to check the other release date.\n",
    "Answer: Finish[The Bears and I] \n",
    "Question: The saint in \"A Time for Miracles\" was born on what date?\n",
    "Reasoning Step 1: I need to figure out which saint was in \"A Time for Miracles.\"\n",
    "Reasoning Step 2: The saint in \"A Time for Miracles\" was Elizabeth Ann Bayley Seton. I need to figure out when she was born.\n",
    "Reasoning Step 3: Elizabeth Ann Bayley Seton was born on August 28, 1774.\n",
    "Answer: Finish[August 28, 1774]\n",
    "Question: Who was born first, Bobby Keys or Joe Cocker?\n",
    "Reasoning Step 1: I need to figure out when Bobby Keys was born.\n",
    "Reasoning Step 2: Bobby Keys was born on December 18, 1943. Now I need to figure out when Joe Cocker was born.\n",
    "Reasoning Step 3: Joe Cocker was born on May 20, 1944. \n",
    "Reasoning Step 4: December 18, 1943 is before May 20, 1944, so Bobby Keys was born first.\n",
    "Answer: Finish[Bobby Keys]\n",
    "\"\"\""
   ]
  },
  {
   "cell_type": "code",
   "execution_count": 10,
   "metadata": {},
   "outputs": [],
   "source": [
    "instruction = \"\"\"Solve a question answering task with intermediate reasoning steps. When done, do Finish[answer].\n",
    "Here are some examples.\n",
    "\"\"\"\n",
    "\n",
    "webthink_prompt = instruction + webthink_examples\n",
    "\n",
    "def webthink(idx=None, prompt=webthink_prompt, to_print=True):\n",
    "    question = env.reset(idx=idx)\n",
    "    question = 'What did the U.S. use to shoot down the Chinese spy balloon?'\n",
    "    if to_print:\n",
    "        print(idx, question)\n",
    "    prompt += question + \"\\n\"\n",
    "    n_calls, n_badcalls = 0, 0\n",
    "    for i in range(1, 8):\n",
    "        n_calls += 1\n",
    "        thought_action = llm(prompt + f\"Thought {i}:\", stop=[f\"\\nObservation {i}:\"])\n",
    "        try:\n",
    "            thought, action = thought_action.strip().split(f\"\\nAction {i}: \")\n",
    "        except:\n",
    "            print('ohh...', thought_action)\n",
    "            n_badcalls += 1\n",
    "            n_calls += 1\n",
    "            thought = thought_action.strip().split('\\n')[0]\n",
    "            action = llm(prompt + f\"Thought {i}: {thought}\\nAction {i}:\", stop=[f\"\\n\"]).strip()\n",
    "        obs, r, done, info = step(env, action[0].lower() + action[1:])\n",
    "        obs = obs.replace('\\\\n', '')\n",
    "        step_str = f\"Thought {i}: {thought}\\nAction {i}: {action}\\nObservation {i}: {obs}\\n\"\n",
    "        prompt += step_str\n",
    "        if to_print:\n",
    "            print(step_str)\n",
    "        if done:\n",
    "            break\n",
    "    if not done:\n",
    "        obs, r, done, info = step(env, \"finish[]\")\n",
    "    if to_print:\n",
    "        print(info, '\\n')\n",
    "    info.update({'n_calls': n_calls, 'n_badcalls': n_badcalls, 'traj': prompt})\n",
    "    return r, info"
   ]
  },
  {
   "cell_type": "code",
   "execution_count": 11,
   "metadata": {},
   "outputs": [
    {
     "name": "stderr",
     "output_type": "stream",
     "text": [
      "  0%|          | 0/1 [00:00<?, ?it/s]"
     ]
    },
    {
     "name": "stdout",
     "output_type": "stream",
     "text": [
      "ohh... I need to figure out what the U.S. used to shoot down the Chinese spy balloon.\n",
      "Thought 2: The U.S. used an F-15 fighter jet to shoot down the Chinese spy balloon.\n",
      "Answer: Finish[F-15 fighter jet]\n"
     ]
    },
    {
     "name": "stderr",
     "output_type": "stream",
     "text": [
      "100%|██████████| 1/1 [00:09<00:00,  9.99s/it]"
     ]
    },
    {
     "name": "stdout",
     "output_type": "stream",
     "text": [
      "OURS: \n",
      "CORRECT: 3677 seated\n",
      "0 1 0.0 9.98549509048462\n",
      "-----------\n",
      "\n"
     ]
    },
    {
     "name": "stderr",
     "output_type": "stream",
     "text": [
      "\n"
     ]
    }
   ],
   "source": [
    "import random\n",
    "import time\n",
    "from tqdm import tqdm\n",
    "import json\n",
    "\n",
    "idxs = list(range(7405))\n",
    "# random.Random(233).shuffle(idxs)\n",
    "\n",
    "rs = []\n",
    "infos = []\n",
    "old_time = time.time()\n",
    "for i in tqdm(idxs[7:8]):\n",
    "    r, info = webthink(i, to_print=False)\n",
    "    rs.append(info['em'])\n",
    "    infos.append(info)\n",
    "    print(sum(rs), len(rs), sum(rs) / len(rs), (time.time() - old_time) / len(rs))\n",
    "    print('-----------')\n",
    "    print()\n",
    "\n",
    "with open('cot_baseline.json', 'w') as f:\n",
    "    json.dump(infos, f)"
   ]
  },
  {
   "cell_type": "code",
   "execution_count": 30,
   "metadata": {},
   "outputs": [],
   "source": []
  }
 ],
 "metadata": {
  "kernelspec": {
   "display_name": "Python 3",
   "language": "python",
   "name": "python3"
  },
  "language_info": {
   "codemirror_mode": {
    "name": "ipython",
    "version": 3
   },
   "file_extension": ".py",
   "mimetype": "text/x-python",
   "name": "python",
   "nbconvert_exporter": "python",
   "pygments_lexer": "ipython3",
   "version": "3.11.7"
  }
 },
 "nbformat": 4,
 "nbformat_minor": 2
}
