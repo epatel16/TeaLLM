{
 "cells": [
  {
   "cell_type": "code",
   "execution_count": 1,
   "metadata": {},
   "outputs": [],
   "source": [
    "import json\n",
    "import pandas as pd"
   ]
  },
  {
   "cell_type": "code",
   "execution_count": 2,
   "metadata": {},
   "outputs": [],
   "source": [
    "files = ['0-70react_baseline_2.json',\n",
    "         '71-150react_baseline_2.json',\n",
    "         '151-292react_baseline_2.json',\n",
    "         '293-410react_baseline_2.json',\n",
    "         '411-536react_baseline_2.json',\n",
    "         '537-584react_baseline_2.json',\n",
    "         '585-611react_baseline_2.json',\n",
    "         '612-717react_baseline_2.json',\n",
    "         '718-757react_baseline_2.json',\n",
    "         '758-react_baseline_2.json']\n",
    "dfs = []\n",
    "for file in files:\n",
    "    with open(file, 'r') as f:\n",
    "        dfs.append(pd.read_json(f))\n",
    "\n",
    "results = pd.concat(dfs)"
   ]
  },
  {
   "cell_type": "code",
   "execution_count": 3,
   "metadata": {},
   "outputs": [
    {
     "data": {
      "text/html": [
       "<div>\n",
       "<style scoped>\n",
       "    .dataframe tbody tr th:only-of-type {\n",
       "        vertical-align: middle;\n",
       "    }\n",
       "\n",
       "    .dataframe tbody tr th {\n",
       "        vertical-align: top;\n",
       "    }\n",
       "\n",
       "    .dataframe thead th {\n",
       "        text-align: right;\n",
       "    }\n",
       "</style>\n",
       "<table border=\"1\" class=\"dataframe\">\n",
       "  <thead>\n",
       "    <tr style=\"text-align: right;\">\n",
       "      <th></th>\n",
       "      <th>steps</th>\n",
       "      <th>answer</th>\n",
       "      <th>gt_answer</th>\n",
       "      <th>reward</th>\n",
       "      <th>em</th>\n",
       "      <th>f1</th>\n",
       "      <th>n_calls</th>\n",
       "      <th>n_badcalls</th>\n",
       "      <th>traj</th>\n",
       "    </tr>\n",
       "    <tr>\n",
       "      <th>question_idx</th>\n",
       "      <th></th>\n",
       "      <th></th>\n",
       "      <th></th>\n",
       "      <th></th>\n",
       "      <th></th>\n",
       "      <th></th>\n",
       "      <th></th>\n",
       "      <th></th>\n",
       "      <th></th>\n",
       "    </tr>\n",
       "  </thead>\n",
       "  <tbody>\n",
       "    <tr>\n",
       "      <th>0</th>\n",
       "      <td>3</td>\n",
       "      <td>Yes</td>\n",
       "      <td>yes</td>\n",
       "      <td>True</td>\n",
       "      <td>True</td>\n",
       "      <td>1.00</td>\n",
       "      <td>3</td>\n",
       "      <td>0</td>\n",
       "      <td>Solve a question answering task with interleav...</td>\n",
       "    </tr>\n",
       "    <tr>\n",
       "      <th>1</th>\n",
       "      <td>8</td>\n",
       "      <td>NO ANSWER REACHED</td>\n",
       "      <td>Chief of Protocol</td>\n",
       "      <td>False</td>\n",
       "      <td>False</td>\n",
       "      <td>0.00</td>\n",
       "      <td>7</td>\n",
       "      <td>0</td>\n",
       "      <td>Solve a question answering task with interleav...</td>\n",
       "    </tr>\n",
       "    <tr>\n",
       "      <th>2</th>\n",
       "      <td>8</td>\n",
       "      <td>NO ANSWER REACHED</td>\n",
       "      <td>Animorphs</td>\n",
       "      <td>False</td>\n",
       "      <td>False</td>\n",
       "      <td>0.00</td>\n",
       "      <td>7</td>\n",
       "      <td>0</td>\n",
       "      <td>Solve a question answering task with interleav...</td>\n",
       "    </tr>\n",
       "    <tr>\n",
       "      <th>3</th>\n",
       "      <td>3</td>\n",
       "      <td>No, the Laleli Mosque and Esma Sultan Mansion...</td>\n",
       "      <td>no</td>\n",
       "      <td>False</td>\n",
       "      <td>False</td>\n",
       "      <td>0.00</td>\n",
       "      <td>3</td>\n",
       "      <td>0</td>\n",
       "      <td>Solve a question answering task with interleav...</td>\n",
       "    </tr>\n",
       "    <tr>\n",
       "      <th>4</th>\n",
       "      <td>4</td>\n",
       "      <td>New York City</td>\n",
       "      <td>Greenwich Village, New York City</td>\n",
       "      <td>False</td>\n",
       "      <td>False</td>\n",
       "      <td>0.75</td>\n",
       "      <td>4</td>\n",
       "      <td>0</td>\n",
       "      <td>Solve a question answering task with interleav...</td>\n",
       "    </tr>\n",
       "    <tr>\n",
       "      <th>...</th>\n",
       "      <td>...</td>\n",
       "      <td>...</td>\n",
       "      <td>...</td>\n",
       "      <td>...</td>\n",
       "      <td>...</td>\n",
       "      <td>...</td>\n",
       "      <td>...</td>\n",
       "      <td>...</td>\n",
       "      <td>...</td>\n",
       "    </tr>\n",
       "    <tr>\n",
       "      <th>754</th>\n",
       "      <td>8</td>\n",
       "      <td>NO ANSWER REACHED</td>\n",
       "      <td>Girlfriends</td>\n",
       "      <td>False</td>\n",
       "      <td>False</td>\n",
       "      <td>0.00</td>\n",
       "      <td>7</td>\n",
       "      <td>0</td>\n",
       "      <td>Solve a question answering task with interleav...</td>\n",
       "    </tr>\n",
       "    <tr>\n",
       "      <th>755</th>\n",
       "      <td>3</td>\n",
       "      <td>\"Paper Trail\"</td>\n",
       "      <td>Paper Trail</td>\n",
       "      <td>True</td>\n",
       "      <td>True</td>\n",
       "      <td>1.00</td>\n",
       "      <td>3</td>\n",
       "      <td>0</td>\n",
       "      <td>Solve a question answering task with interleav...</td>\n",
       "    </tr>\n",
       "    <tr>\n",
       "      <th>756</th>\n",
       "      <td>8</td>\n",
       "      <td>NO ANSWER REACHED</td>\n",
       "      <td>AngloGold Ashanti</td>\n",
       "      <td>False</td>\n",
       "      <td>False</td>\n",
       "      <td>0.00</td>\n",
       "      <td>7</td>\n",
       "      <td>0</td>\n",
       "      <td>Solve a question answering task with interleav...</td>\n",
       "    </tr>\n",
       "    <tr>\n",
       "      <th>757</th>\n",
       "      <td>5</td>\n",
       "      <td>Dallas Cowboys</td>\n",
       "      <td>Dallas Cowboys</td>\n",
       "      <td>True</td>\n",
       "      <td>True</td>\n",
       "      <td>1.00</td>\n",
       "      <td>5</td>\n",
       "      <td>0</td>\n",
       "      <td>Solve a question answering task with interleav...</td>\n",
       "    </tr>\n",
       "    <tr>\n",
       "      <th>10</th>\n",
       "      <td>6</td>\n",
       "      <td>\"I'm a Jayhawk\"</td>\n",
       "      <td>Kansas Song</td>\n",
       "      <td>False</td>\n",
       "      <td>False</td>\n",
       "      <td>0.00</td>\n",
       "      <td>6</td>\n",
       "      <td>0</td>\n",
       "      <td>Solve a question answering task with interleav...</td>\n",
       "    </tr>\n",
       "  </tbody>\n",
       "</table>\n",
       "<p>758 rows × 9 columns</p>\n",
       "</div>"
      ],
      "text/plain": [
       "              steps                                             answer  \\\n",
       "question_idx                                                             \n",
       "0                 3                                                Yes   \n",
       "1                 8                                  NO ANSWER REACHED   \n",
       "2                 8                                  NO ANSWER REACHED   \n",
       "3                 3   No, the Laleli Mosque and Esma Sultan Mansion...   \n",
       "4                 4                                      New York City   \n",
       "...             ...                                                ...   \n",
       "754               8                                  NO ANSWER REACHED   \n",
       "755               3                                      \"Paper Trail\"   \n",
       "756               8                                  NO ANSWER REACHED   \n",
       "757               5                                     Dallas Cowboys   \n",
       "10                6                                    \"I'm a Jayhawk\"   \n",
       "\n",
       "                                     gt_answer  reward     em    f1  n_calls  \\\n",
       "question_idx                                                                   \n",
       "0                                          yes    True   True  1.00        3   \n",
       "1                            Chief of Protocol   False  False  0.00        7   \n",
       "2                                    Animorphs   False  False  0.00        7   \n",
       "3                                           no   False  False  0.00        3   \n",
       "4             Greenwich Village, New York City   False  False  0.75        4   \n",
       "...                                        ...     ...    ...   ...      ...   \n",
       "754                                Girlfriends   False  False  0.00        7   \n",
       "755                                Paper Trail    True   True  1.00        3   \n",
       "756                          AngloGold Ashanti   False  False  0.00        7   \n",
       "757                             Dallas Cowboys    True   True  1.00        5   \n",
       "10                                 Kansas Song   False  False  0.00        6   \n",
       "\n",
       "              n_badcalls                                               traj  \n",
       "question_idx                                                                 \n",
       "0                      0  Solve a question answering task with interleav...  \n",
       "1                      0  Solve a question answering task with interleav...  \n",
       "2                      0  Solve a question answering task with interleav...  \n",
       "3                      0  Solve a question answering task with interleav...  \n",
       "4                      0  Solve a question answering task with interleav...  \n",
       "...                  ...                                                ...  \n",
       "754                    0  Solve a question answering task with interleav...  \n",
       "755                    0  Solve a question answering task with interleav...  \n",
       "756                    0  Solve a question answering task with interleav...  \n",
       "757                    0  Solve a question answering task with interleav...  \n",
       "10                     0  Solve a question answering task with interleav...  \n",
       "\n",
       "[758 rows x 9 columns]"
      ]
     },
     "execution_count": 3,
     "metadata": {},
     "output_type": "execute_result"
    }
   ],
   "source": [
    "results = results.set_index('question_idx')\n",
    "results"
   ]
  },
  {
   "cell_type": "code",
   "execution_count": 9,
   "metadata": {},
   "outputs": [
    {
     "name": "stdout",
     "output_type": "stream",
     "text": [
      "avg 0.25065963060686014 std 0.43339287048922776\n"
     ]
    }
   ],
   "source": [
    "import numpy as np\n",
    "avg = len(results[results['em'] == True]) / len(results)\n",
    "vals = np.array(results['em']).astype(int)\n",
    "std = np.std(vals)\n",
    "print('avg', avg, 'std', std)"
   ]
  },
  {
   "cell_type": "code",
   "execution_count": 29,
   "metadata": {},
   "outputs": [],
   "source": [
    "results.to_json('team_temp.json')"
   ]
  },
  {
   "cell_type": "markdown",
   "metadata": {},
   "source": [
    "# REACT"
   ]
  },
  {
   "cell_type": "code",
   "execution_count": 10,
   "metadata": {},
   "outputs": [
    {
     "name": "stdout",
     "output_type": "stream",
     "text": [
      "avg 0.268 std 0.4429175995600084\n"
     ]
    }
   ],
   "source": [
    "react_df = pd.read_json('react_baseline_1.json')\n",
    "react_df = react_df.set_index('question_idx')\n",
    "len(react_df[react_df['em'] == True]) / len(react_df)\n",
    "avg = len(react_df[react_df['em'] == True]) / len(react_df)\n",
    "vals = np.array(react_df['em']).astype(int)\n",
    "std = np.std(vals)\n",
    "print('avg', avg, 'std', std)"
   ]
  },
  {
   "cell_type": "markdown",
   "metadata": {},
   "source": [
    "# CoT"
   ]
  },
  {
   "cell_type": "code",
   "execution_count": 13,
   "metadata": {},
   "outputs": [
    {
     "name": "stdout",
     "output_type": "stream",
     "text": [
      "avg 0.157 std 0.3638007696528417\n"
     ]
    }
   ],
   "source": [
    "cot_df = pd.read_json('cot_baseline.json')\n",
    "# cot_df = react_df.set_index('question_idx')\n",
    "len(cot_df[cot_df['em'] == True]) / len(cot_df)\n",
    "avg = len(cot_df[cot_df['em'] == True]) / len(cot_df)\n",
    "vals = np.array(cot_df['em']).astype(int)\n",
    "std = np.std(vals)\n",
    "print('avg', avg, 'std', std)"
   ]
  },
  {
   "cell_type": "code",
   "execution_count": null,
   "metadata": {},
   "outputs": [],
   "source": []
  }
 ],
 "metadata": {
  "kernelspec": {
   "display_name": "base",
   "language": "python",
   "name": "python3"
  },
  "language_info": {
   "codemirror_mode": {
    "name": "ipython",
    "version": 3
   },
   "file_extension": ".py",
   "mimetype": "text/x-python",
   "name": "python",
   "nbconvert_exporter": "python",
   "pygments_lexer": "ipython3",
   "version": "3.11.7"
  }
 },
 "nbformat": 4,
 "nbformat_minor": 2
}
