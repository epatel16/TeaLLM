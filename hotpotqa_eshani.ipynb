{
 "cells": [
  {
   "cell_type": "markdown",
   "metadata": {},
   "source": [
    "# Setup"
   ]
  },
  {
   "cell_type": "code",
   "execution_count": 1,
   "metadata": {},
   "outputs": [],
   "source": [
    "\n",
    "import os\n",
    "import openai\n",
    "import requests\n",
    " \n",
    "\n",
    "client = openai.OpenAI(api_key=input())\n",
    "os.environ[\"OPENAI_API_KEY\"] = input() \n",
    "def llm(prompt, stop=[\"\\n\"]):\n",
    "    response = client.chat.completions.create(\n",
    "      model=\"gpt-3.5-turbo\",\n",
    "      messages=[{'role' : 'user', 'content' : prompt}],\n",
    "      temperature=0,\n",
    "      max_tokens=100,\n",
    "      top_p=1,\n",
    "      frequency_penalty=0.0,\n",
    "      presence_penalty=0.0,\n",
    "      stop=stop\n",
    "    )\n",
    "    return response.choices[0].message.content"
   ]
  },
  {
   "cell_type": "code",
   "execution_count": 2,
   "metadata": {},
   "outputs": [
    {
     "name": "stdout",
     "output_type": "stream",
     "text": [
      "Requirement already satisfied: gym in /opt/anaconda3/lib/python3.11/site-packages (0.26.2)\n",
      "Requirement already satisfied: numpy>=1.18.0 in /opt/anaconda3/lib/python3.11/site-packages (from gym) (1.26.4)\n",
      "Requirement already satisfied: cloudpickle>=1.2.0 in /opt/anaconda3/lib/python3.11/site-packages (from gym) (2.2.1)\n",
      "Requirement already satisfied: gym-notices>=0.0.4 in /opt/anaconda3/lib/python3.11/site-packages (from gym) (0.0.8)\n",
      "Note: you may need to restart the kernel to use updated packages.\n"
     ]
    }
   ],
   "source": [
    "%pip install gym"
   ]
  },
  {
   "cell_type": "code",
   "execution_count": 3,
   "metadata": {},
   "outputs": [],
   "source": [
    "import scraper, wrappers\n",
    "env = scraper.WikiSearch(api_key=input())\n",
    "env = wrappers.HotPotQAWrapper(env, split=\"dev\")\n",
    "env = wrappers.LoggingWrapper(env)\n",
    "\n",
    "def step(env, action):\n",
    "    attempts = 0\n",
    "    while attempts < 10:\n",
    "        try:\n",
    "            return env.step(action)\n",
    "        except requests.exceptions.Timeout:\n",
    "            attempts += 1"
   ]
  },
  {
   "cell_type": "markdown",
   "metadata": {},
   "source": [
    "# ReAct"
   ]
  },
  {
   "cell_type": "code",
   "execution_count": 4,
   "metadata": {},
   "outputs": [],
   "source": [
    "import json\n",
    "import sys\n",
    "\n",
    "folder = './prompts/'\n",
    "prompt_file = 'prompts_naive.json'\n",
    "with open(folder + prompt_file, 'r') as f:\n",
    "    prompt_dict = json.load(f)\n",
    "\n",
    "# webthink_examples = prompt_dict['webthink_simple6']\n",
    "# instruction = \"\"\"Solve a question answering task with interleaving Thought, Action, Observation steps. Thought can reason about the current situation, and Action can be three types: \n",
    "# (1) Search[entity], which searches the exact entity on Wikipedia and returns the first paragraph if it exists. If not, it will return some similar entities to search.\n",
    "# (2) Lookup[keyword], which returns the next sentence containing keyword in the current passage.\n",
    "# (3) Finish[answer], which returns the answer and finishes the task.\n",
    "# Here are some examples.\n",
    "# \"\"\"\n",
    "# webthink_prompt = instruction + webthink_examples\n",
    "with open('prompts/team.txt', 'r') as f:\n",
    "    prompt = '\\n'.join(f.readlines())\n",
    "def webthink(idx=None, prompt=prompt, to_print=True):\n",
    "    question = env.reset(idx=idx)\n",
    "    if to_print:\n",
    "        print(idx, question)\n",
    "    prompt += question + \"\\n\"\n",
    "    n_calls, n_badcalls = 0, 0\n",
    "    for i in range(1, 8):\n",
    "        n_calls += 1\n",
    "        try:\n",
    "            thought_action = llm(prompt + f\"Thought {i}:\", stop=[f\"\\nObservation {i}:\"])\n",
    "        except Exception as e:\n",
    "            print(f'too long? bad error {e}')\n",
    "            return 0, info\n",
    "        try:\n",
    "            thought, action = thought_action.strip().split(f\"\\nAction {i}: \")\n",
    "        except:\n",
    "            print('ohh...', thought_action)\n",
    "            n_badcalls += 1\n",
    "            n_calls += 1\n",
    "            thought = thought_action.strip().split('\\n')[0]\n",
    "            action = llm(prompt + f\"Thought {i}: {thought}\\nAction {i}:\", stop=[f\"\\n\"]).strip()\n",
    "        obs, r, done, info = step(env, action[0].lower() + action[1:])\n",
    "        obs = obs.replace('\\\\n', '')\n",
    "        step_str = f\"Thought {i}: {thought}\\nAction {i}: {action}\\nObservation {i}: {obs}\\n\"\n",
    "        prompt += step_str\n",
    "        if to_print:\n",
    "            print(step_str)\n",
    "        if done:\n",
    "            break\n",
    "    if not done:\n",
    "        obs, r, done, info = step(env, \"finish | NO ANSWER REACHED\")\n",
    "    if to_print:\n",
    "        print(info, '\\n')\n",
    "    info.update({'n_calls': n_calls, 'n_badcalls': n_badcalls, 'traj': prompt})\n",
    "    return r, info"
   ]
  },
  {
   "cell_type": "code",
   "execution_count": 6,
   "metadata": {},
   "outputs": [
    {
     "name": "stderr",
     "output_type": "stream",
     "text": [
      "  0%|          | 0/929 [00:00<?, ?it/s]"
     ]
    },
    {
     "name": "stdout",
     "output_type": "stream",
     "text": [
      "['Background']\n",
      "['Background']\n",
      "No results found.\n",
      "Unknown error occured during finding and scraping...\n",
      "['Background']\n"
     ]
    },
    {
     "name": "stderr",
     "output_type": "stream",
     "text": [
      "  0%|          | 1/929 [00:22<5:51:09, 22.70s/it]"
     ]
    },
    {
     "name": "stdout",
     "output_type": "stream",
     "text": [
      "OURS: no answer reached\n",
      "CORRECT: 276170 inhabitants\n",
      "0 1 0.0 22.705573797225952\n",
      "-----------\n",
      "\n",
      "['History', 'Importance and meaning']\n",
      "['Festivities', 'Activities']\n"
     ]
    },
    {
     "name": "stderr",
     "output_type": "stream",
     "text": [
      "  0%|          | 2/929 [00:31<3:48:22, 14.78s/it]"
     ]
    },
    {
     "name": "stdout",
     "output_type": "stream",
     "text": [
      "OURS: orange\n",
      "CORRECT: orange\n",
      "1 2 0.5 15.970930933952332\n",
      "-----------\n",
      "\n",
      "['Plot']\n"
     ]
    },
    {
     "name": "stderr",
     "output_type": "stream",
     "text": [
      "  0%|          | 3/929 [00:38<2:48:29, 10.92s/it]"
     ]
    },
    {
     "name": "stdout",
     "output_type": "stream",
     "text": [
      "OURS: tromeo and juliet\n",
      "CORRECT: tromeo and juliet\n",
      "2 3 0.6666666666666666 12.753423690795898\n",
      "-----------\n",
      "\n",
      "['Career']\n",
      "['State of Arkansas']\n"
     ]
    },
    {
     "name": "stderr",
     "output_type": "stream",
     "text": [
      "  0%|          | 4/929 [00:49<2:50:37, 11.07s/it]"
     ]
    },
    {
     "name": "stdout",
     "output_type": "stream",
     "text": [
      "OURS: bill clinton\n",
      "CORRECT: william jefferson clinton\n",
      "2 4 0.5 12.389811277389526\n",
      "-----------\n",
      "\n",
      "['S']\n",
      "['Winners']\n",
      "['Victories']\n",
      "['Victories']\n"
     ]
    },
    {
     "name": "stderr",
     "output_type": "stream",
     "text": [
      "  1%|          | 5/929 [01:08<3:33:29, 13.86s/it]"
     ]
    },
    {
     "name": "stdout",
     "output_type": "stream",
     "text": [
      "OURS: no answer reached\n",
      "CORRECT: john john florence\n",
      "2 5 0.4 13.67545199394226\n",
      "-----------\n",
      "\n",
      "['Plot']\n",
      "['Early life', 'Personal life']\n",
      "['Major associations']\n"
     ]
    },
    {
     "name": "stderr",
     "output_type": "stream",
     "text": [
      "  1%|          | 6/929 [01:24<3:44:13, 14.58s/it]"
     ]
    },
    {
     "name": "stdout",
     "output_type": "stream",
     "text": [
      "OURS: middle name information not available\n",
      "CORRECT: ann\n",
      "2 6 0.3333333333333333 14.056020657221476\n",
      "-----------\n",
      "\n",
      "[]\n",
      "[\"Pedro's bluff\", 'Enslavement, war, and disease']\n"
     ]
    },
    {
     "name": "stderr",
     "output_type": "stream",
     "text": [
      "  1%|          | 7/929 [01:34<3:20:04, 13.02s/it]"
     ]
    },
    {
     "name": "stdout",
     "output_type": "stream",
     "text": [
      "OURS: ais people\n",
      "CORRECT: apalachees\n",
      "2 7 0.2857142857142857 13.450816018240792\n",
      "-----------\n",
      "\n",
      "['Selected bibliography']\n",
      "['Personal life']\n"
     ]
    },
    {
     "name": "stderr",
     "output_type": "stream",
     "text": [
      "  1%|          | 8/929 [01:42<2:55:22, 11.43s/it]"
     ]
    },
    {
     "name": "stdout",
     "output_type": "stream",
     "text": [
      "OURS: british\n",
      "CORRECT: british\n",
      "3 8 0.375 12.77064898610115\n",
      "-----------\n",
      "\n",
      "['The Most Excellent Order of the British Empire']\n",
      "['Knight Commander (KBE)']\n",
      "['Early life and education']\n"
     ]
    },
    {
     "name": "stderr",
     "output_type": "stream",
     "text": [
      "  1%|          | 9/929 [01:55<3:03:40, 11.98s/it]"
     ]
    },
    {
     "name": "stdout",
     "output_type": "stream",
     "text": [
      "OURS: 1865\n",
      "CORRECT: 1865\n",
      "4 9 0.4444444444444444 12.817766004138523\n",
      "-----------\n",
      "\n",
      "['References']\n",
      "['County Commission', 'General court', 'City', 'Towns', 'County services', 'Geography', 'Communities']\n"
     ]
    },
    {
     "name": "stderr",
     "output_type": "stream",
     "text": [
      "  1%|          | 10/929 [02:02<2:40:37, 10.49s/it]"
     ]
    },
    {
     "name": "stdout",
     "output_type": "stream",
     "text": [
      "OURS: newport\n",
      "CORRECT: newport\n",
      "5 10 0.5 12.250617599487304\n",
      "-----------\n",
      "\n",
      "['The Decibels and The Town Criers', 'Doug Brown & The Omens', 'The Last Heard', 'The Bob Seger System', 'Solo', 'The Silver Bullet Band']\n"
     ]
    },
    {
     "name": "stderr",
     "output_type": "stream",
     "text": [
      "  1%|          | 11/929 [02:09<2:26:13,  9.56s/it]"
     ]
    },
    {
     "name": "stdout",
     "output_type": "stream",
     "text": [
      "OURS: bob seger\n",
      "CORRECT: bob seger\n",
      "6 11 0.5454545454545454 11.81418845870278\n",
      "-----------\n",
      "\n",
      "['Opinion of the Court']\n"
     ]
    },
    {
     "name": "stderr",
     "output_type": "stream",
     "text": [
      "  1%|▏         | 12/929 [02:14<2:04:54,  8.17s/it]"
     ]
    },
    {
     "name": "stdout",
     "output_type": "stream",
     "text": [
      "OURS: requiring only men to register for draft\n",
      "CORRECT: conscription\n",
      "6 12 0.5 11.246782819430033\n",
      "-----------\n",
      "\n",
      "['Mass production']\n",
      "['Brands', 'Corporate affairs', 'Controversies']\n",
      "['Current brands', 'Former brands']\n"
     ]
    },
    {
     "name": "stderr",
     "output_type": "stream",
     "text": [
      "  1%|▏         | 13/929 [02:31<2:41:42, 10.59s/it]"
     ]
    },
    {
     "name": "stdout",
     "output_type": "stream",
     "text": [
      "OURS: unable to determine\n",
      "CORRECT: mondelez international inc\n",
      "6 13 0.46153846153846156 11.62470762546246\n",
      "-----------\n",
      "\n",
      "['Content and themes', 'News coverage and controversy']\n",
      "['Judicial appointments', 'Impeachment and acquittal']\n",
      "['Impeachment and acquittal', 'Elections during the Clinton presidency']\n",
      "['Administration', 'Impeachment and acquittal']\n",
      "['News coverage and controversy']\n",
      "['Allegations against Bill Clinton']\n",
      "['Allegations against Bill Clinton', 'Clinton response to allegations', 'Aftermath']\n"
     ]
    },
    {
     "name": "stderr",
     "output_type": "stream",
     "text": [
      "  2%|▏         | 14/929 [03:14<5:12:15, 20.48s/it]"
     ]
    },
    {
     "name": "stdout",
     "output_type": "stream",
     "text": [
      "OURS: no answer reached\n",
      "CORRECT: monica lewinsky\n",
      "6 14 0.42857142857142855 13.888196996280126\n",
      "-----------\n",
      "\n",
      "['Background']\n",
      "['Eligibility for president']\n",
      "['Overview', 'History', 'Lobbying by country']\n"
     ]
    },
    {
     "name": "stderr",
     "output_type": "stream",
     "text": [
      "  2%|▏         | 15/929 [03:42<5:48:10, 22.86s/it]"
     ]
    },
    {
     "name": "stdout",
     "output_type": "stream",
     "text": [
      "OURS: birthdate not found\n",
      "CORRECT: april 1 1949\n",
      "6 15 0.4 14.853848139444986\n",
      "-----------\n",
      "\n",
      "['Main characters']\n",
      "['Literature']\n",
      "['Critical response', 'Accolades', 'Reception']\n"
     ]
    },
    {
     "name": "stderr",
     "output_type": "stream",
     "text": [
      "  2%|▏         | 16/929 [03:58<5:15:12, 20.71s/it]"
     ]
    },
    {
     "name": "stdout",
     "output_type": "stream",
     "text": [
      "OURS: 2014\n",
      "CORRECT: 1866\n",
      "6 16 0.375 14.909317687153816\n",
      "-----------\n",
      "\n",
      "['Geography and climate']\n",
      "['Environment']\n"
     ]
    },
    {
     "name": "stderr",
     "output_type": "stream",
     "text": [
      "  2%|▏         | 17/929 [04:10<4:36:38, 18.20s/it]"
     ]
    },
    {
     "name": "stdout",
     "output_type": "stream",
     "text": [
      "OURS: teide national park is located in tenerife canary islands spain and garajonay national park is located in center and north of island of la gom\n",
      "CORRECT: canary islands spain\n",
      "6 17 0.35294117647058826 14.758820477653952\n",
      "-----------\n",
      "\n",
      "['Adaptations']\n",
      "[\"Children's fiction\", 'Screenplays', 'Writing', 'Filmography']\n",
      "['Literature', 'Music', 'Cinema']\n",
      "['Cinema', 'Broadcasting']\n"
     ]
    },
    {
     "name": "stderr",
     "output_type": "stream",
     "text": [
      "  2%|▏         | 18/929 [04:46<5:54:22, 23.34s/it]"
     ]
    },
    {
     "name": "stdout",
     "output_type": "stream",
     "text": [
      "OURS: unable to determine exact number of copies sold\n",
      "CORRECT: 250 million\n",
      "6 18 0.3333333333333333 15.900363895628187\n",
      "-----------\n",
      "\n",
      "['As cinematographer', 'As director']\n",
      "['As editor (partial list)', 'As director (partial list)', 'Life and work']\n"
     ]
    },
    {
     "name": "stderr",
     "output_type": "stream",
     "text": [
      "  2%|▏         | 19/929 [05:17<6:32:10, 25.86s/it]"
     ]
    },
    {
     "name": "stdout",
     "output_type": "stream",
     "text": [
      "OURS: film industry\n",
      "CORRECT: director\n",
      "6 19 0.3157894736842105 16.73305401049162\n",
      "-----------\n",
      "\n",
      "['Career', 'The Conversation']\n"
     ]
    },
    {
     "name": "stderr",
     "output_type": "stream",
     "text": [
      "  2%|▏         | 20/929 [05:23<5:00:50, 19.86s/it]"
     ]
    },
    {
     "name": "stdout",
     "output_type": "stream",
     "text": [
      "OURS: conversation\n",
      "CORRECT: conversation\n",
      "7 20 0.35 16.19010385274887\n",
      "-----------\n",
      "\n",
      "['Ceremonies']\n",
      "['Winners and nominees']\n"
     ]
    },
    {
     "name": "stderr",
     "output_type": "stream",
     "text": [
      "  2%|▏         | 21/929 [05:33<4:12:41, 16.70s/it]"
     ]
    },
    {
     "name": "stdout",
     "output_type": "stream",
     "text": [
      "OURS: john waters\n",
      "CORRECT: john waters\n",
      "8 21 0.38095238095238093 15.863371860413324\n",
      "-----------\n",
      "\n",
      "['First trial', 'Second trial']\n",
      "['First trial', 'Second trial']\n",
      "['Stand-up comedy']\n",
      "['Nevada lawsuits']\n"
     ]
    },
    {
     "name": "stderr",
     "output_type": "stream",
     "text": [
      "  2%|▏         | 22/929 [05:50<4:13:50, 16.79s/it]"
     ]
    },
    {
     "name": "stdout",
     "output_type": "stream",
     "text": [
      "OURS: las vegas nevada\n",
      "CORRECT: las vegas strip in paradise\n",
      "8 22 0.36363636363636365 15.91567232392051\n",
      "-----------\n",
      "\n",
      "['Alcohol abuse and legal issues']\n",
      "['See also']\n"
     ]
    },
    {
     "name": "stderr",
     "output_type": "stream",
     "text": [
      "  2%|▏         | 23/929 [06:00<3:43:35, 14.81s/it]"
     ]
    },
    {
     "name": "stdout",
     "output_type": "stream",
     "text": [
      "OURS: no\n",
      "CORRECT: no\n",
      "9 23 0.391304347826087 15.666197600572005\n",
      "-----------\n",
      "\n",
      "['Film festival']\n",
      "['History']\n",
      "['Online literary magazines']\n",
      "['Currently published']\n"
     ]
    },
    {
     "name": "stderr",
     "output_type": "stream",
     "text": [
      "  3%|▎         | 24/929 [06:27<4:39:46, 18.55s/it]"
     ]
    },
    {
     "name": "stdout",
     "output_type": "stream",
     "text": [
      "OURS: information not available\n",
      "CORRECT: march and april\n",
      "9 24 0.375 16.149887373050053\n",
      "-----------\n",
      "\n",
      "['Layout and tenants']\n",
      "['Geography']\n"
     ]
    },
    {
     "name": "stderr",
     "output_type": "stream",
     "text": [
      "  3%|▎         | 25/929 [06:41<4:20:13, 17.27s/it]"
     ]
    },
    {
     "name": "stdout",
     "output_type": "stream",
     "text": [
      "OURS: fairfax county\n",
      "CORRECT: fairfax county\n",
      "10 25 0.4 16.075548038482665\n",
      "-----------\n",
      "\n",
      "['Career']\n",
      "['History']\n"
     ]
    },
    {
     "name": "stderr",
     "output_type": "stream",
     "text": [
      "  3%|▎         | 26/929 [06:53<3:54:44, 15.60s/it]"
     ]
    },
    {
     "name": "stdout",
     "output_type": "stream",
     "text": [
      "OURS: it products and services\n",
      "CORRECT: it products and services\n",
      "11 26 0.4230769230769231 15.906947768651522\n",
      "-----------\n",
      "\n",
      "['Tales of Mere Existence']\n",
      "['Filmmaker', 'Awards and accolades', 'Selected filmography']\n"
     ]
    },
    {
     "name": "stderr",
     "output_type": "stream",
     "text": [
      "  3%|▎         | 27/929 [07:06<3:43:33, 14.87s/it]"
     ]
    },
    {
     "name": "stdout",
     "output_type": "stream",
     "text": [
      "OURS: lev yilmaz\n",
      "CORRECT: levni yilmaz\n",
      "11 27 0.4074074074074074 15.805857808501631\n",
      "-----------\n",
      "\n",
      "['History', 'Administrative divisions']\n",
      "['Investment by country', 'Investment by sector']\n",
      "['Tangier', 'Economy of Western Sahara', 'Development of the Northern Region', 'Infrastructure']\n",
      "['France', 'Scotland', 'England', 'Hungary', 'Portugal', 'Greece', 'Kosovo', 'Serbia', 'Denmark', 'Italy', 'Republic of Ireland', 'Northern Ireland', 'Poland', 'Spain', 'The Netherlands', 'Belgium', 'Luxembourg', 'Bosnia and Herzegovina', 'Cyprus', 'Malta', 'Ukraine', 'Romania', 'Türkiye', 'Bulgaria', 'Algeria', 'Morocco', 'Egypt', 'Tunisia', 'Libya', 'Sudan', 'Rwanda', 'Lesotho', 'South Africa', 'Bangladesh', 'China', 'Palestine', 'Jordan', 'Iraq', 'Saudi Arabia', 'Syria', 'United Arab Emirates', 'Malaysia', 'Lebanon', 'India', 'Iran', 'Australia', 'New Zealand', 'Canada', 'United States']\n",
      "['France', 'Scotland', 'England', 'Hungary', 'Portugal', 'Greece', 'Kosovo', 'Serbia', 'Denmark', 'Italy', 'Republic of Ireland', 'Northern Ireland', 'Poland', 'Spain', 'The Netherlands', 'Belgium', 'Luxembourg', 'Bosnia and Herzegovina', 'Cyprus', 'Malta', 'Ukraine', 'Romania', 'Türkiye', 'Bulgaria', 'Algeria', 'Morocco', 'Egypt', 'Tunisia', 'Libya', 'Sudan', 'Rwanda', 'Lesotho', 'South Africa', 'Bangladesh', 'China', 'Palestine', 'Jordan', 'Iraq', 'Saudi Arabia', 'Syria', 'United Arab Emirates', 'Malaysia', 'Lebanon', 'India', 'Iran', 'Australia', 'New Zealand', 'Canada', 'United States']\n",
      "['France', 'Scotland', 'England', 'Hungary', 'Portugal', 'Greece', 'Kosovo', 'Serbia', 'Denmark', 'Italy', 'Republic of Ireland', 'Northern Ireland', 'Poland', 'Spain', 'The Netherlands', 'Belgium', 'Luxembourg', 'Bosnia and Herzegovina', 'Cyprus', 'Malta', 'Ukraine', 'Romania', 'Türkiye', 'Bulgaria', 'Algeria', 'Morocco', 'Egypt', 'Tunisia', 'Libya', 'Sudan', 'Rwanda', 'Lesotho', 'South Africa', 'Bangladesh', 'China', 'Palestine', 'Jordan', 'Iraq', 'Saudi Arabia', 'Syria', 'United Arab Emirates', 'Malaysia', 'Lebanon', 'India', 'Iran', 'Australia', 'New Zealand', 'Canada', 'United States']\n"
     ]
    },
    {
     "name": "stderr",
     "output_type": "stream",
     "text": [
      "  3%|▎         | 28/929 [09:15<12:16:13, 49.03s/it]"
     ]
    },
    {
     "name": "stdout",
     "output_type": "stream",
     "text": [
      "OURS: no answer reached\n",
      "CORRECT: beijing\n",
      "11 28 0.39285714285714285 19.83842182159424\n",
      "-----------\n",
      "\n",
      "['Administrative divisions']\n",
      "['Administrative']\n"
     ]
    },
    {
     "name": "stderr",
     "output_type": "stream",
     "text": [
      "  3%|▎         | 29/929 [09:26<9:23:21, 37.56s/it] "
     ]
    },
    {
     "name": "stdout",
     "output_type": "stream",
     "text": [
      "OURS: yingkou is prefecturelevel city while fuding is countylevel city\n",
      "CORRECT: no\n",
      "11 29 0.3793103448275862 19.52659176135885\n",
      "-----------\n",
      "\n",
      "['Migration to Mexico', 'Indian Territory/Oklahoma', 'Texas community']\n"
     ]
    },
    {
     "name": "stderr",
     "output_type": "stream",
     "text": [
      "  3%|▎         | 30/929 [09:36<7:20:57, 29.43s/it]"
     ]
    },
    {
     "name": "stdout",
     "output_type": "stream",
     "text": [
      "OURS: seminole nation of oklahoma florida texas bahamas and northern mexico\n",
      "CORRECT: coahuila mexico\n",
      "11 30 0.36666666666666664 19.224677737553915\n",
      "-----------\n",
      "\n",
      "['References']\n",
      "ohh... It seems like the search function is not working properly for this specific query. I will need to manually search for gospel singers born in July and then look for any collaborations they may have had with David Huntsinger on my own. Let me try to find this information outside of the Wikipedia search function.\n"
     ]
    },
    {
     "name": "stderr",
     "output_type": "stream",
     "text": [
      "  3%|▎         | 31/929 [09:51<6:16:50, 25.18s/it]"
     ]
    },
    {
     "name": "stdout",
     "output_type": "stream",
     "text": [
      "OURS: i will manually search for gospel singers born in july and their collaborations with david huntsinger\n",
      "CORRECT: larnelle harris\n",
      "11 31 0.3548387096774194 19.096756035281764\n",
      "-----------\n",
      "\n",
      "['Player selections']\n",
      "['Player selections']\n",
      "['Professional career']\n"
     ]
    },
    {
     "name": "stderr",
     "output_type": "stream",
     "text": [
      "  3%|▎         | 32/929 [10:11<5:52:45, 23.60s/it]"
     ]
    },
    {
     "name": "stdout",
     "output_type": "stream",
     "text": [
      "OURS: 2004\n",
      "CORRECT: 2003\n",
      "11 32 0.34375 19.12188796699047\n",
      "-----------\n",
      "\n",
      "['Football']\n"
     ]
    },
    {
     "name": "stderr",
     "output_type": "stream",
     "text": [
      "  4%|▎         | 33/929 [10:19<4:41:57, 18.88s/it]"
     ]
    },
    {
     "name": "stdout",
     "output_type": "stream",
     "text": [
      "OURS: bobby dodd stadium at historic grant field\n",
      "CORRECT: north avenue at techwood drive\n",
      "11 33 0.3333333333333333 18.78126366210706\n",
      "-----------\n",
      "\n"
     ]
    },
    {
     "name": "stderr",
     "output_type": "stream",
     "text": [
      "  4%|▎         | 34/929 [10:33<4:20:46, 17.48s/it]"
     ]
    },
    {
     "name": "stdout",
     "output_type": "stream",
     "text": [
      "OURS: no answer reached\n",
      "CORRECT: leo varadkar\n",
      "11 34 0.3235294117647059 18.64705996653613\n",
      "-----------\n",
      "\n",
      "['Cast']\n",
      "['Early life and career', 'Later career', 'Personal life']\n"
     ]
    },
    {
     "name": "stderr",
     "output_type": "stream",
     "text": [
      "  4%|▍         | 35/929 [10:49<4:10:30, 16.81s/it]"
     ]
    },
    {
     "name": "stdout",
     "output_type": "stream",
     "text": [
      "OURS: george raft\n",
      "CORRECT: george raft\n",
      "12 35 0.34285714285714286 18.550041457584925\n",
      "-----------\n",
      "\n",
      "['Plot']\n"
     ]
    },
    {
     "name": "stderr",
     "output_type": "stream",
     "text": [
      "  4%|▍         | 36/929 [11:14<4:46:37, 19.26s/it]"
     ]
    },
    {
     "name": "stdout",
     "output_type": "stream",
     "text": [
      "OURS: 1887\n",
      "CORRECT: 1887\n",
      "13 36 0.3611111111111111 18.728200806511772\n",
      "-----------\n",
      "\n",
      "['Estimating Average Capital Expenditures']\n",
      "['Investment philosophy']\n",
      "['Investments']\n"
     ]
    },
    {
     "name": "stderr",
     "output_type": "stream",
     "text": [
      "  4%|▍         | 37/929 [11:31<4:36:07, 18.57s/it]"
     ]
    },
    {
     "name": "stdout",
     "output_type": "stream",
     "text": [
      "OURS: managing concentrated portfolio of equities and investments and involvement in insurance and reinsurance business activities\n",
      "CORRECT: business\n",
      "13 37 0.35135135135135137 18.68086524911829\n",
      "-----------\n",
      "\n",
      "['Match']\n",
      "['One-Day Internationals']\n",
      "['Squads']\n",
      "['Early and personal life']\n"
     ]
    },
    {
     "name": "stderr",
     "output_type": "stream",
     "text": [
      "  4%|▍         | 38/929 [11:50<4:38:37, 18.76s/it]"
     ]
    },
    {
     "name": "stdout",
     "output_type": "stream",
     "text": [
      "OURS: 7 october 1978\n",
      "CORRECT: 7 october 1978\n",
      "14 38 0.3684210526315789 18.694585128834373\n",
      "-----------\n",
      "\n",
      "['Flight testing', 'Aircraft']\n",
      "['Early powered flights', 'Development of jet aircraft', 'History']\n",
      "['Development']\n",
      "['Development', 'Design', 'Operational history', 'Variants']\n",
      "['Development', 'Design', 'Operational history', 'Variants', 'Operators']\n"
     ]
    },
    {
     "name": "stderr",
     "output_type": "stream",
     "text": [
      "  4%|▍         | 39/929 [12:56<8:08:21, 32.92s/it]"
     ]
    },
    {
     "name": "stdout",
     "output_type": "stream",
     "text": [
      "OURS: fairchild republic a10 thunderbolt ii\n",
      "CORRECT: b17 flying fortress bomber\n",
      "14 39 0.358974358974359 19.906637460757526\n",
      "-----------\n",
      "\n",
      "['Cast']\n",
      "['Cast']\n",
      "['Performers and shows']\n",
      "['Boys Town Gang version', 'Lauryn Hill version', 'Other cover versions']\n",
      "['Cast and characters']\n"
     ]
    },
    {
     "name": "stderr",
     "output_type": "stream",
     "text": [
      "  4%|▍         | 40/929 [13:25<7:51:05, 31.79s/it]"
     ]
    },
    {
     "name": "stdout",
     "output_type": "stream",
     "text": [
      "OURS: no answer reached\n",
      "CORRECT: blake shelton\n",
      "14 40 0.35 20.138017523288728\n",
      "-----------\n",
      "\n",
      "['Legends']\n"
     ]
    },
    {
     "name": "stderr",
     "output_type": "stream",
     "text": [
      "  4%|▍         | 41/929 [13:32<5:58:56, 24.25s/it]"
     ]
    },
    {
     "name": "stdout",
     "output_type": "stream",
     "text": [
      "OURS: seven centuries\n",
      "CORRECT: three centuries\n",
      "14 41 0.34146341463414637 19.809140804337293\n",
      "-----------\n",
      "\n",
      "['Plot']\n"
     ]
    },
    {
     "name": "stderr",
     "output_type": "stream",
     "text": [
      "  5%|▍         | 42/929 [13:38<4:39:46, 18.93s/it]"
     ]
    },
    {
     "name": "stdout",
     "output_type": "stream",
     "text": [
      "OURS: january 7 1936\n",
      "CORRECT: 7 january 1936\n",
      "14 42 0.3333333333333333 19.492140832401457\n",
      "-----------\n",
      "\n",
      "['Biography']\n",
      "['Selected filmography']\n"
     ]
    },
    {
     "name": "stderr",
     "output_type": "stream",
     "text": [
      "  5%|▍         | 43/929 [13:48<4:01:20, 16.34s/it]"
     ]
    },
    {
     "name": "stdout",
     "output_type": "stream",
     "text": [
      "OURS: ralph murphy\n",
      "CORRECT: george archainbaud\n",
      "14 43 0.32558139534883723 19.27886930177378\n",
      "-----------\n",
      "\n",
      "[]\n",
      "[]\n",
      "['United States law']\n"
     ]
    },
    {
     "name": "stderr",
     "output_type": "stream",
     "text": [
      "  5%|▍         | 44/929 [14:02<3:49:55, 15.59s/it]"
     ]
    },
    {
     "name": "stdout",
     "output_type": "stream",
     "text": [
      "OURS: no information found\n",
      "CORRECT: picric acid\n",
      "14 44 0.3181818181818182 19.154875614426352\n",
      "-----------\n",
      "\n",
      "['Winners']\n"
     ]
    },
    {
     "name": "stderr",
     "output_type": "stream",
     "text": [
      "  5%|▍         | 45/929 [14:08<3:07:55, 12.75s/it]"
     ]
    },
    {
     "name": "stdout",
     "output_type": "stream",
     "text": [
      "OURS: 16 tournaments\n",
      "CORRECT: 230\n",
      "14 45 0.3111111111111111 18.86574493514167\n",
      "-----------\n",
      "\n",
      "['In popular culture']\n",
      "['Lyrics and content', 'Critical reception', 'In popular culture']\n",
      "['Personnel']\n"
     ]
    },
    {
     "name": "stderr",
     "output_type": "stream",
     "text": [
      "  5%|▍         | 46/929 [14:30<3:48:35, 15.53s/it]"
     ]
    },
    {
     "name": "stdout",
     "output_type": "stream",
     "text": [
      "OURS: marvel comics\n",
      "CORRECT: marvel\n",
      "14 46 0.30434782608695654 18.934240346369535\n",
      "-----------\n",
      "\n",
      "['Legislative history']\n",
      "['U.S. House of Representatives (2003–2017)', 'U.S. Senate (2017–present)']\n"
     ]
    },
    {
     "name": "stderr",
     "output_type": "stream",
     "text": [
      "  5%|▌         | 47/929 [14:43<3:36:44, 14.74s/it]"
     ]
    },
    {
     "name": "stdout",
     "output_type": "stream",
     "text": [
      "OURS: chair of democratic congressional campaign committee\n",
      "CORRECT: united states senator\n",
      "14 47 0.2978723404255319 18.80594393547545\n",
      "-----------\n",
      "\n",
      "['History']\n",
      "['Formation and early years', 'History']\n"
     ]
    },
    {
     "name": "stderr",
     "output_type": "stream",
     "text": [
      "  5%|▌         | 48/929 [14:56<3:25:27, 13.99s/it]"
     ]
    },
    {
     "name": "stdout",
     "output_type": "stream",
     "text": [
      "OURS: no\n",
      "CORRECT: no\n",
      "15 48 0.3125 18.669101332624752\n",
      "-----------\n",
      "\n",
      "['Hall & Oates', 'Solo', 'Daryl Hall and John Oates', 'Solo projects', \"Live from Daryl's House\"]\n",
      "['Career']\n"
     ]
    },
    {
     "name": "stderr",
     "output_type": "stream",
     "text": [
      "  5%|▌         | 49/929 [15:13<3:39:06, 14.94s/it]"
     ]
    },
    {
     "name": "stdout",
     "output_type": "stream",
     "text": [
      "OURS: yes\n",
      "CORRECT: yes\n",
      "16 49 0.32653061224489793 18.638075940463008\n",
      "-----------\n",
      "\n",
      "['References']\n",
      "['Lea-by-Backford to Hapsford']\n"
     ]
    },
    {
     "name": "stderr",
     "output_type": "stream",
     "text": [
      "  5%|▌         | 50/929 [15:24<3:21:45, 13.77s/it]"
     ]
    },
    {
     "name": "stdout",
     "output_type": "stream",
     "text": [
      "OURS: m56 motorway\n",
      "CORRECT: a41\n",
      "16 50 0.32 18.48627912044525\n",
      "-----------\n",
      "\n",
      "['Filmography']\n",
      "['Film', 'Television', 'Filmography']\n",
      "['Cast']\n",
      "['Filmography']\n",
      "['Cast']\n"
     ]
    },
    {
     "name": "stderr",
     "output_type": "stream",
     "text": [
      "  5%|▌         | 51/929 [15:58<4:50:40, 19.86s/it]"
     ]
    },
    {
     "name": "stdout",
     "output_type": "stream",
     "text": [
      "OURS: no answer reached\n",
      "CORRECT: princess jessica\n",
      "16 51 0.3137254901960784 18.792008311140773\n",
      "-----------\n",
      "\n",
      "['Film', 'Career', 'Filmography']\n"
     ]
    },
    {
     "name": "stderr",
     "output_type": "stream",
     "text": [
      "  6%|▌         | 52/929 [16:02<3:41:47, 15.17s/it]"
     ]
    },
    {
     "name": "stdout",
     "output_type": "stream",
     "text": [
      "OURS: spiderwick chronicles\n",
      "CORRECT: spiderwick chronicles\n",
      "17 52 0.3269230769230769 18.511966077181008\n",
      "-----------\n",
      "\n",
      "['History']\n"
     ]
    },
    {
     "name": "stderr",
     "output_type": "stream",
     "text": [
      "  6%|▌         | 53/929 [16:09<3:03:19, 12.56s/it]"
     ]
    },
    {
     "name": "stdout",
     "output_type": "stream",
     "text": [
      "OURS: kkr change capital partners and alpinvest partners\n",
      "CORRECT: kkr co\n",
      "17 53 0.32075471698113206 18.284350683104318\n",
      "-----------\n",
      "\n",
      "['Marriages and family']\n",
      "[]\n",
      "['Press career']\n",
      "['Arts and entertainment']\n",
      "['Filmography']\n"
     ]
    },
    {
     "name": "stderr",
     "output_type": "stream",
     "text": [
      "  6%|▌         | 54/929 [16:52<5:19:28, 21.91s/it]"
     ]
    },
    {
     "name": "stdout",
     "output_type": "stream",
     "text": [
      "OURS: no answer reached\n",
      "CORRECT: bye bye man\n",
      "17 54 0.3148148148148148 18.755505407298052\n",
      "-----------\n",
      "\n",
      "['Population']\n",
      "['Location for filming']\n"
     ]
    },
    {
     "name": "stderr",
     "output_type": "stream",
     "text": [
      "  6%|▌         | 55/929 [17:01<4:20:32, 17.89s/it]"
     ]
    },
    {
     "name": "stdout",
     "output_type": "stream",
     "text": [
      "OURS: richmond river\n",
      "CORRECT: richmond\n",
      "17 55 0.3090909090909091 18.56913203759627\n",
      "-----------\n",
      "\n",
      "['Involvement with the Grateful Dead', \"Bear's Sonic Journals\"]\n"
     ]
    },
    {
     "name": "stderr",
     "output_type": "stream",
     "text": [
      "  6%|▌         | 56/929 [17:08<3:31:25, 14.53s/it]"
     ]
    },
    {
     "name": "stdout",
     "output_type": "stream",
     "text": [
      "OURS: owsley stanley\n",
      "CORRECT: owsley stanley\n",
      "18 56 0.32142857142857145 18.357227427618845\n",
      "-----------\n",
      "\n",
      "['Notes', 'References']\n",
      "['The fortified residence']\n"
     ]
    },
    {
     "name": "stderr",
     "output_type": "stream",
     "text": [
      "  6%|▌         | 57/929 [17:17<3:08:23, 12.96s/it]"
     ]
    },
    {
     "name": "stdout",
     "output_type": "stream",
     "text": [
      "OURS: late 12th century\n",
      "CORRECT: late 12th century\n",
      "19 57 0.3333333333333333 18.198407507779304\n",
      "-----------\n",
      "\n",
      "['History']\n",
      "['History']\n"
     ]
    },
    {
     "name": "stderr",
     "output_type": "stream",
     "text": [
      "  6%|▌         | 58/929 [17:29<3:05:59, 12.81s/it]"
     ]
    },
    {
     "name": "stdout",
     "output_type": "stream",
     "text": [
      "OURS: both locations are known for visitors sticking chewed gum to walls creating colorful displays\n",
      "CORRECT: san luis obispo california\n",
      "19 58 0.3275862068965517 18.099476534744788\n",
      "-----------\n",
      "\n",
      "['Belknap Campus', 'Athletics']\n"
     ]
    },
    {
     "name": "stderr",
     "output_type": "stream",
     "text": [
      "  6%|▋         | 59/929 [17:42<3:04:28, 12.72s/it]"
     ]
    },
    {
     "name": "stdout",
     "output_type": "stream",
     "text": [
      "OURS: search university of louisville basketball schedule 20112012 on search engine and find game played on january 2 2012\n",
      "CORRECT: mercedesbenz superdome\n",
      "19 59 0.3220338983050847 18.00475118523937\n",
      "-----------\n",
      "\n",
      "['Nominations and awards']\n",
      "['Accolades']\n",
      "['Critical reception']\n"
     ]
    },
    {
     "name": "stderr",
     "output_type": "stream",
     "text": [
      "  6%|▋         | 60/929 [18:16<4:39:39, 19.31s/it]"
     ]
    },
    {
     "name": "stdout",
     "output_type": "stream",
     "text": [
      "OURS: lalees kin legacy of cotton\n",
      "CORRECT: lalees kin legacy of cotton\n",
      "20 60 0.3333333333333333 18.28267991542816\n",
      "-----------\n",
      "\n",
      "['Games']\n",
      "['Gameplay']\n"
     ]
    },
    {
     "name": "stderr",
     "output_type": "stream",
     "text": [
      "  7%|▋         | 61/929 [18:25<3:51:32, 16.00s/it]"
     ]
    },
    {
     "name": "stdout",
     "output_type": "stream",
     "text": [
      "OURS: catan was published in 1995 so it is most recent of two games\n",
      "CORRECT: pirates cove\n",
      "20 61 0.32786885245901637 18.118924590407826\n",
      "-----------\n",
      "\n",
      "['Development']\n"
     ]
    },
    {
     "name": "stderr",
     "output_type": "stream",
     "text": [
      "  7%|▋         | 62/929 [18:30<3:05:28, 12.84s/it]"
     ]
    },
    {
     "name": "stdout",
     "output_type": "stream",
     "text": [
      "OURS: crystal dynamics\n",
      "CORRECT: crystal dynamics\n",
      "21 62 0.3387096774193548 17.914430791331874\n",
      "-----------\n",
      "\n",
      "['Collaborative albums']\n",
      "['Background and production', 'Themes and composition', 'Release and promotion', 'Critical reception']\n"
     ]
    },
    {
     "name": "stderr",
     "output_type": "stream",
     "text": [
      "  7%|▋         | 63/929 [18:43<3:06:59, 12.96s/it]"
     ]
    },
    {
     "name": "stdout",
     "output_type": "stream",
     "text": [
      "OURS: recovery\n",
      "CORRECT: marshall mathers lp 2\n",
      "21 63 0.3333333333333333 17.840184745334444\n",
      "-----------\n",
      "\n",
      "['Filmography']\n"
     ]
    },
    {
     "name": "stderr",
     "output_type": "stream",
     "text": [
      "  7%|▋         | 64/929 [18:58<3:14:56, 13.52s/it]"
     ]
    },
    {
     "name": "stdout",
     "output_type": "stream",
     "text": [
      "OURS: no answer reached\n",
      "CORRECT: suicide squad\n",
      "21 64 0.328125 17.793338671326637\n",
      "-----------\n",
      "\n",
      "['Cast']\n",
      "['Filmography']\n",
      "['Filmography']\n",
      "['Cast']\n"
     ]
    },
    {
     "name": "stderr",
     "output_type": "stream",
     "text": [
      "  7%|▋         | 65/929 [19:19<3:44:46, 15.61s/it]"
     ]
    },
    {
     "name": "stdout",
     "output_type": "stream",
     "text": [
      "OURS: kyle newacheck\n",
      "CORRECT: jillian belk\n",
      "21 65 0.3230769230769231 17.834680817677423\n",
      "-----------\n",
      "\n",
      "['History']\n"
     ]
    },
    {
     "name": "stderr",
     "output_type": "stream",
     "text": [
      "  7%|▋         | 66/929 [19:26<3:10:14, 13.23s/it]"
     ]
    },
    {
     "name": "stdout",
     "output_type": "stream",
     "text": [
      "OURS: texas tech university\n",
      "CORRECT: texas tech university\n",
      "22 66 0.3333333333333333 17.680640397649825\n",
      "-----------\n",
      "\n",
      "['Siege']\n",
      "['Siege']\n"
     ]
    },
    {
     "name": "stderr",
     "output_type": "stream",
     "text": [
      "  7%|▋         | 67/929 [19:40<3:09:30, 13.19s/it]"
     ]
    },
    {
     "name": "stdout",
     "output_type": "stream",
     "text": [
      "OURS: lord combermere\n",
      "CORRECT: lord combermere\n",
      "23 67 0.34328358208955223 17.612362327860364\n",
      "-----------\n",
      "\n",
      "['Cast', 'Voice cast', 'Songs']\n"
     ]
    },
    {
     "name": "stderr",
     "output_type": "stream",
     "text": [
      "  7%|▋         | 68/929 [19:46<2:40:40, 11.20s/it]"
     ]
    },
    {
     "name": "stdout",
     "output_type": "stream",
     "text": [
      "OURS: animated christmas television specials\n",
      "CORRECT: seasonal television specials particularly its work in stop motion animation\n",
      "23 68 0.3382352941176471 17.449614973629224\n",
      "-----------\n",
      "\n",
      "['2004–2009: The Naked Brothers Band']\n"
     ]
    },
    {
     "name": "stderr",
     "output_type": "stream",
     "text": [
      "  7%|▋         | 69/929 [19:53<2:22:17,  9.93s/it]"
     ]
    },
    {
     "name": "stdout",
     "output_type": "stream",
     "text": [
      "OURS: 2005\n",
      "CORRECT: 2014\n",
      "23 69 0.3333333333333333 17.297656259674955\n",
      "-----------\n",
      "\n",
      "['Influences', 'Reception']\n",
      "['Early life']\n",
      "['Early years', 'Middle years', 'Later years', 'Personal life']\n",
      "['Early life']\n",
      "['University', 'Early life and education']\n",
      "['Early life and education']\n"
     ]
    },
    {
     "name": "stderr",
     "output_type": "stream",
     "text": [
      "  8%|▊         | 70/929 [20:45<5:23:52, 22.62s/it]"
     ]
    },
    {
     "name": "stdout",
     "output_type": "stream",
     "text": [
      "OURS: no answer reached\n",
      "CORRECT: oxford\n",
      "23 70 0.32857142857142857 17.796892155919757\n",
      "-----------\n",
      "\n",
      "['2012: World No. 1 in doubles, first Grand Slam singles quarterfinal', '2016: First title since 2013, top-10 debut']\n",
      "['Career finals']\n"
     ]
    },
    {
     "name": "stderr",
     "output_type": "stream",
     "text": [
      "  8%|▊         | 71/929 [21:01<4:54:12, 20.57s/it]"
     ]
    },
    {
     "name": "stdout",
     "output_type": "stream",
     "text": [
      "OURS: roberta vinci\n",
      "CORRECT: roberta vinci\n",
      "24 71 0.3380281690140845 17.768708564865758\n",
      "-----------\n",
      "\n",
      "['Council of Reference', 'Scientific Panel', 'Critics', 'Criticism']\n"
     ]
    },
    {
     "name": "stderr",
     "output_type": "stream",
     "text": [
      "  8%|▊         | 72/929 [21:11<4:09:23, 17.46s/it]"
     ]
    },
    {
     "name": "stdout",
     "output_type": "stream",
     "text": [
      "OURS: teach controversy\n",
      "CORRECT: teach controversy campaign\n",
      "24 72 0.3333333333333333 17.663530442449783\n",
      "-----------\n",
      "\n",
      "['Career']\n",
      "['Arrest and conviction', 'Aftermath', 'Lostprophets']\n"
     ]
    },
    {
     "name": "stderr",
     "output_type": "stream",
     "text": [
      "  8%|▊         | 73/929 [21:24<3:48:39, 16.03s/it]"
     ]
    },
    {
     "name": "stdout",
     "output_type": "stream",
     "text": [
      "OURS: ian watkins\n",
      "CORRECT: lostprophets disbanded in 2013 after watkins was charged with sexual offences in late 2012\n",
      "24 73 0.3287671232876712 17.595303012900157\n",
      "-----------\n",
      "\n",
      "['Development', 'Casting', 'Shooting', 'Plot', 'Production']\n",
      "['Filmography']\n",
      "['Production']\n"
     ]
    },
    {
     "name": "stderr",
     "output_type": "stream",
     "text": [
      "  8%|▊         | 74/929 [21:50<4:29:22, 18.90s/it]"
     ]
    },
    {
     "name": "stdout",
     "output_type": "stream",
     "text": [
      "OURS: mechte navstrechu\n",
      "CORRECT: nebo zovyot\n",
      "24 74 0.32432432432432434 17.70364143397357\n",
      "-----------\n",
      "\n",
      "['Early life']\n",
      "['Arts', 'Sports']\n",
      "['Live / Stage performances']\n"
     ]
    },
    {
     "name": "stderr",
     "output_type": "stream",
     "text": [
      "  8%|▊         | 75/929 [22:22<5:28:38, 23.09s/it]"
     ]
    },
    {
     "name": "stdout",
     "output_type": "stream",
     "text": [
      "OURS: erika jayne\n",
      "CORRECT: erika jayne\n",
      "25 75 0.3333333333333333 17.905710401535035\n",
      "-----------\n",
      "\n",
      "['History']\n",
      "['History']\n",
      "['History']\n",
      "['History']\n"
     ]
    },
    {
     "name": "stderr",
     "output_type": "stream",
     "text": [
      "  8%|▊         | 76/929 [22:51<5:52:07, 24.77s/it]"
     ]
    },
    {
     "name": "stdout",
     "output_type": "stream",
     "text": [
      "OURS: unable to find information about name change of specific english local newspaper featuring sculpture and war memorial in forbury gardens\n",
      "CORRECT: 2009\n",
      "25 76 0.32894736842105265 18.047557382207167\n",
      "-----------\n",
      "\n",
      "['Clann Somhairle and the kingship of the Isles']\n",
      "['Lords of Islay']\n",
      "['Founding of the dynasties', 'List of Clan Donald Lords of the Isles', 'The MacDonald lordship', 'End of the MacDonald lordship']\n",
      "['Founding of the dynasties', 'List of Clan Donald Lords of the Isles', 'Council of the Isles', 'The MacDonald lordship', 'End of the MacDonald lordship']\n"
     ]
    },
    {
     "name": "stderr",
     "output_type": "stream",
     "text": [
      "  8%|▊         | 77/929 [23:22<6:19:18, 26.71s/it]"
     ]
    },
    {
     "name": "stdout",
     "output_type": "stream",
     "text": [
      "OURS: over 8300 km2\n",
      "CORRECT: kingdom of isles\n",
      "25 77 0.3246753246753247 18.21895571188493\n",
      "-----------\n",
      "\n",
      "['Books']\n",
      "['Beatlemania']\n"
     ]
    },
    {
     "name": "stderr",
     "output_type": "stream",
     "text": [
      "  8%|▊         | 78/929 [23:34<5:13:45, 22.12s/it]"
     ]
    },
    {
     "name": "stdout",
     "output_type": "stream",
     "text": [
      "OURS: beatles\n",
      "CORRECT: beatles\n",
      "26 78 0.3333333333333333 18.131700680806087\n",
      "-----------\n",
      "\n",
      "['Weekly charts', 'Year-end charts', 'Commercial performance']\n"
     ]
    },
    {
     "name": "stderr",
     "output_type": "stream",
     "text": [
      "  9%|▊         | 79/929 [23:41<4:07:58, 17.50s/it]"
     ]
    },
    {
     "name": "stdout",
     "output_type": "stream",
     "text": [
      "OURS: chattahoochee\n",
      "CORRECT: well burn that bridge\n",
      "26 79 0.3291139240506329 17.987356201002868\n",
      "-----------\n",
      "\n",
      "['Television and film career (1988–2005)', 'Harry Potter (2006–2011)', 'Tyrant and Tarzan (2012–2016)', 'Fantastic Beasts series (2016–2022)', 'Pain Hustlers and current work (2023–present)']\n",
      "['Director', 'Writer', 'Actor']\n",
      "['A']\n"
     ]
    },
    {
     "name": "stderr",
     "output_type": "stream",
     "text": [
      "  9%|▊         | 79/929 [24:20<4:21:57, 18.49s/it]"
     ]
    },
    {
     "name": "stdout",
     "output_type": "stream",
     "text": [
      "Error code: 400 - {'error': {'message': \"This model's maximum context length is 16385 tokens. However, your messages resulted in 21560 tokens. Please reduce the length of the messages.\", 'type': 'invalid_request_error', 'param': 'messages', 'code': 'context_length_exceeded'}}\n",
      "Died for unknown reason\n"
     ]
    },
    {
     "name": "stderr",
     "output_type": "stream",
     "text": [
      "\n"
     ]
    }
   ],
   "source": [
    "import random\n",
    "import time\n",
    "from tqdm import tqdm\n",
    "import json\n",
    "\n",
    "idxs = list(range(7405))\n",
    "# random.Random(233).shuffle(idxs)\n",
    "\n",
    "rs = []\n",
    "infos = []\n",
    "old_time = time.time()\n",
    "ID = 11\n",
    "try:\n",
    "# for i in tqdm(idxs[ID:ID+1]):\n",
    "    for i in tqdm(idxs[600:1000]):\n",
    "        print(f'INDEX = {i}')\n",
    "        r, info = webthink(i, to_print=False)\n",
    "        rs.append(info['em'])\n",
    "        infos.append(info)\n",
    "        print(sum(rs), len(rs), sum(rs) / len(rs), (time.time() - old_time) / len(rs))\n",
    "        print('-----------')\n",
    "        print()\n",
    "except Exception as e:\n",
    "    print(e)\n",
    "    print('Died for unknown reason')\n",
    "\n",
    "with open('151-react_baseline_2.json', 'w') as f:\n",
    "    json.dump(infos, f)"
   ]
  },
  {
   "cell_type": "code",
   "execution_count": 30,
   "metadata": {},
   "outputs": [],
   "source": []
  }
 ],
 "metadata": {
  "kernelspec": {
   "display_name": "Python 3",
   "language": "python",
   "name": "python3"
  },
  "language_info": {
   "codemirror_mode": {
    "name": "ipython",
    "version": 3
   },
   "file_extension": ".py",
   "mimetype": "text/x-python",
   "name": "python",
   "nbconvert_exporter": "python",
   "pygments_lexer": "ipython3",
   "version": "3.11.7"
  }
 },
 "nbformat": 4,
 "nbformat_minor": 2
}
