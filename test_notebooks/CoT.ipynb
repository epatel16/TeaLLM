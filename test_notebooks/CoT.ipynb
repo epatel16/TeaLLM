{
 "cells": [
  {
   "cell_type": "code",
   "execution_count": 6,
   "metadata": {},
   "outputs": [],
   "source": [
    "# !pip install openai==0.28\n",
    "from openai import OpenAI\n",
    "import re\n",
    "import httpx\n",
    "import os\n",
    "import json\n",
    "from getpass import getpass\n",
    "import requests\n",
    "from bs4 import BeautifulSoup\n",
    "\n",
    "\n",
    "openai_api_key = getpass(\"🔑 Enter your OpenAI API key: \")\n",
    "os.environ[\"OPENAI_API_KEY\"] = openai_api_key\n"
   ]
  },
  {
   "cell_type": "code",
   "execution_count": 7,
   "metadata": {},
   "outputs": [],
   "source": [
    "class ChatBot:\n",
    "    def __init__(self, system=\"\"):\n",
    "        self.system = system\n",
    "        self.messages = []\n",
    "        if self.system:\n",
    "            self.messages.append({\"role\": \"system\", \"content\": system})\n",
    "\n",
    "    def __call__(self, message):\n",
    "        self.messages.append({\"role\": \"user\", \"content\": message})\n",
    "        result = self.execute()\n",
    "        self.messages.append({\"role\": \"assistant\", \"content\": result})\n",
    "        return result\n",
    "\n",
    "    def execute(self):\n",
    "        client = OpenAI()\n",
    "\n",
    "        response = client.chat.completions.create(\n",
    "            model=\"gpt-3.5-turbo\",\n",
    "            messages=self.messages\n",
    "        )\n",
    "        # Uncomment this to print out token usage each time, e.g.\n",
    "        # {\"completion_tokens\": 86, \"prompt_tokens\": 26, \"total_tokens\": 112}\n",
    "        # print(completion.usage)\n",
    "        return response.choices[0].message.content"
   ]
  },
  {
   "cell_type": "code",
   "execution_count": 8,
   "metadata": {},
   "outputs": [],
   "source": [
    "prompt = \"\"\"Q: Roger has 5 tennis balls. He buys 2 more cans of tennis balls.\n",
    "Each can has 3 tennis balls. How many tennis balls does he have now?\n",
    "A: The answer is 11.\n",
    "Q: The cafeteria had 23 apples.\n",
    "If they used 20 to make lunch and bought 6 more, how many apples do they have?\n",
    "A:\"\"\".strip()"
   ]
  },
  {
   "cell_type": "code",
   "execution_count": 9,
   "metadata": {},
   "outputs": [],
   "source": [
    "def query(question, max_turns=5):\n",
    "    i = 0\n",
    "    bot = ChatBot(prompt)\n",
    "    next_prompt = question\n",
    "    result = bot(next_prompt)\n",
    "    print(result)"
   ]
  },
  {
   "cell_type": "code",
   "execution_count": 10,
   "metadata": {},
   "outputs": [
    {
     "name": "stdout",
     "output_type": "stream",
     "text": [
      "The cafeteria had 23 apples - 20 used for lunch = 3 apples remaining.\n",
      "After buying 6 more apples, the cafeteria now has 3 remaining apples + 6 new apples = 9 apples.\n"
     ]
    }
   ],
   "source": [
    "query(\"\"\"Q: Roger has 5 tennis balls. He buys 2 more cans of tennis balls.\n",
    "Each can has 3 tennis balls. How many tennis balls does he have now?\n",
    "A: The answer is 11.\n",
    "Q: The cafeteria had 23 apples.\n",
    "If they used 20 to make lunch and bought 6 more, how many apples do they have?\n",
    "A:\"\"\")"
   ]
  },
  {
   "cell_type": "code",
   "execution_count": 11,
   "metadata": {},
   "outputs": [
    {
     "name": "stdout",
     "output_type": "stream",
     "text": [
      "{\n",
      "    \"pii\": false,\n",
      "    \"age\": 5,\n",
      "    \"keywords\": [\n",
      "        \"Activities of Daily Living (ADL)\",\n",
      "        \"nursing homes\",\n",
      "        \"residents\",\n",
      "        \"MDS 3.0\",\n",
      "        \"Frequency Report\"\n",
      "    ]\n",
      "}\n"
     ]
    }
   ],
   "source": [
    "context = \"\"\"Given a JSON entry of a data source, output a JSON with the following fields and explain the reasoning:\n",
    "pii: True/False, the dataset contains Personally Identifiable Information.\n",
    "age: How many years since the dataset was last modified.\n",
    "keywords: New keywords to index this dataset under, beyond the current set of keywords.\n",
    "The last text output should be the JSON.\n",
    "\"\"\"\n",
    "\n",
    "\n",
    "question = \"\"\"\n",
    "{\n",
    "    \"@type\" : \"dcat:Dataset\",\n",
    "    \"description\" : \"<p>The MDS 3.0 Frequency Report summarizes information for active residents currently in nursing homes. The source of these counts is the residents MDS assessment record. The MDS assessment information for each active nursing home resident is consolidated to create a profile of the most recent standard information for the resident.</p>\\n\",\n",
    "    \"title\" : \"MDS 3.0 Frequency Report\",\n",
    "    \"accessLevel\" : \"public\",\n",
    "    \"identifier\" : \"465\",\n",
    "    \"license\" : \"http://opendefinition.org/licenses/odc-odbl/\",\n",
    "    \"modified\" : \"2016-04-05\",\n",
    "    \"temporal\" : \"2012-01-01T00:00:00-05:00/2015-12-31T00:00:00-05:00\",\n",
    "    \"contactPoint\" : {\n",
    "      \"@type\" : \"vcard:Contact\",\n",
    "      \"fn\" : \"Health Data Initiative\",\n",
    "      \"hasEmail\" : \"mailto:HealthData@hhs.gov\"\n",
    "    },\n",
    "    \"bureauCode\" : [ \"009:38\" ],\n",
    "    \"keyword\" : [ \"Activities of Daily Living (ADL)\" ],\n",
    "    \"language\" : [ \"en\" ],\n",
    "    \"programCode\" : [ \"009:000\" ],\n",
    "    \"publisher\" : {\n",
    "      \"@type\" : \"org:Organization\",\n",
    "      \"name\" : \"Centers for Medicare & Medicaid Services\",\n",
    "      \"subOrganizationOf\" : {\n",
    "        \"@type\" : \"org:Organization\",\n",
    "        \"name\" : \"Department of Health & Human Services\"\n",
    "      }\n",
    "    }\n",
    "  }\n",
    "\n",
    "\n",
    "\"\"\"\n",
    "\n",
    "llm_prompt = f\"{context}\\nJSON:{question}\\nAnswer:\"\n",
    "query(llm_prompt)"
   ]
  }
 ],
 "metadata": {
  "kernelspec": {
   "display_name": "bem106",
   "language": "python",
   "name": "python3"
  },
  "language_info": {
   "codemirror_mode": {
    "name": "ipython",
    "version": 3
   },
   "file_extension": ".py",
   "mimetype": "text/x-python",
   "name": "python",
   "nbconvert_exporter": "python",
   "pygments_lexer": "ipython3",
   "version": "3.12.3"
  }
 },
 "nbformat": 4,
 "nbformat_minor": 2
}
