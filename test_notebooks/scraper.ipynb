{
 "cells": [
  {
   "cell_type": "code",
   "execution_count": 4,
   "metadata": {},
   "outputs": [],
   "source": [
    "import httpx\n",
    "import os\n",
    "import json\n",
    "import requests\n",
    "from bs4 import BeautifulSoup"
   ]
  },
  {
   "cell_type": "code",
   "execution_count": 5,
   "metadata": {},
   "outputs": [],
   "source": [
    "class WikiScraper:\n",
    "    \n",
    "    def __init__(self, topic):\n",
    "        self.response = None\n",
    "        self.soup = None\n",
    "        self.full_text = None\n",
    "        self.big_headers = None\n",
    "        self.title = None\n",
    "        self.page_url = None\n",
    "        self.topic = topic\n",
    "        self.find_article()\n",
    "        self.scrape_article()\n",
    "        \n",
    "    def get_subsection(self, header):\n",
    "        bs4_header = None\n",
    "        for h in self.bs4_article_headers:\n",
    "            if h.text == header:\n",
    "                bs4_header = h\n",
    "                break\n",
    "        ret = ''\n",
    "        for sibling in bs4_header.next_siblings:\n",
    "            if sibling.name == 'p':\n",
    "                ret += sibling.text + '\\n'\n",
    "            elif sibling.name == bs4_header.name:\n",
    "                break\n",
    "        return ret\n",
    "    \n",
    "    def get_headers(self):\n",
    "        return '\\n'.join(self.str_article_headers)\n",
    "        \n",
    "    def find_article(self):\n",
    "        self.response = httpx.get(\"https://en.wikipedia.org/w/api.php\", params={\n",
    "            \"action\": \"query\",\n",
    "            \"list\": \"search\",\n",
    "            \"srsearch\": self.topic,\n",
    "            \"format\": \"json\"\n",
    "        })\n",
    "\n",
    "        search_results = self.response.json().get(\"query\", {}).get(\"search\", [])\n",
    "        if not search_results:\n",
    "            raise Exception(\"No results found.\")\n",
    "\n",
    "        self.title = search_results[0][\"title\"]\n",
    "        self.page_url = f\"https://en.wikipedia.org/wiki/{self.title.replace(' ', '_')}\"\n",
    "    \n",
    "    def scrape_article(self):\n",
    "        self.response = requests.get(self.page_url)\n",
    "        if self.response.status_code != 200:\n",
    "            raise Exception(f\"Failed to load page {self.page_url}\")\n",
    "\n",
    "        self.soup = BeautifulSoup(self.response.content, 'html.parser')\n",
    "\n",
    "        content_div = self.soup.find(id='mw-content-text')\n",
    "        if not content_div:\n",
    "            raise Exception(\"Failed to find main content of the article\")\n",
    "\n",
    "        paragraphs = content_div.find_all('p')\n",
    "        self.full_text = ''.join([p.text for p in paragraphs if p.get_text().strip() != \"\"])\n",
    "        \n",
    "        self.bs4_article_headers = list(content_div.find_all('h3')) + list(content_div.find_all('h2'))\n",
    "        self.str_article_headers = [h3.text for h3 in self.bs4_article_headers]\n",
    "        # self.big_headers = [f'{h3.find_parent(\"h2\")}/{h3.text[:-6]}' for h3 in self.bs_headers]\n",
    "        # self.big_headers = [print(sibling.text) for sibling in self.bs_headers.find_next_siblings('h3')]"
   ]
  },
  {
   "cell_type": "code",
   "execution_count": 6,
   "metadata": {},
   "outputs": [],
   "source": [
    "scraper = WikiScraper(topic='Dogs')"
   ]
  },
  {
   "cell_type": "code",
   "execution_count": 90,
   "metadata": {},
   "outputs": [
    {
     "name": "stdout",
     "output_type": "stream",
     "text": [
      "All healthy dogs, regardless of their size and type, have an identical skeletal structure with the exception of the number of bones in the tail, although there is significant skeletal variation between dogs of different types.[22][23] The dog's skeleton is well adapted for running; the vertebrae on the neck and back have extensions for back muscles, consisting of epaxial muscles and hypaxial muscles, to connect to; the long ribs provide room for the heart and lungs; and the shoulders are unattached to the skeleton, allowing for flexibility.[22][23][24]\n",
      "\n",
      "Compared to the dog's wolf-like ancestors, selective breeding since domestication has seen the dog's skeleton larger in size for larger types such as mastiffs and miniaturised for smaller types such as terriers; dwarfism has been selectively used for some types where short legs are advantageous, such as dachshunds and corgis.[23] Most dogs naturally have 26 vertebrae in their tails, but some with naturally short tails have as few as three.[22]\n",
      "\n",
      "The dog's skull has identical components regardless of breed type, but there is significant divergence in terms of skull shape between types.[23][25] The three basic skull shapes are the elongated dolichocephalic type as seen in sighthounds, the intermediate mesocephalic or mesaticephalic type, and the very short and broad brachycephalic type exemplified by mastiff type skulls.[23][25]\n",
      "\n",
      "\n"
     ]
    }
   ],
   "source": [
    "print(scraper.get_subsection('Skeleton'))"
   ]
  },
  {
   "cell_type": "code",
   "execution_count": 7,
   "metadata": {},
   "outputs": [
    {
     "name": "stdout",
     "output_type": "stream",
     "text": [
      "Domestication\n",
      "Breeds\n",
      "Skeleton\n",
      "Senses\n",
      "Coat\n",
      "Dewclaw\n",
      "Tail\n",
      "Lifespan\n",
      "Reproduction\n",
      "Nursing\n",
      "Intelligence\n",
      "Communication\n",
      "Population\n",
      "Competitors and predators\n",
      "Diet\n",
      "Range\n",
      "Pets\n",
      "Workers\n",
      "Shows and sports\n",
      "Dogs as food\n",
      "Health risks\n",
      "Health benefits\n",
      "Cultural importance\n",
      "Taxonomy\n",
      "Evolution\n",
      "Anatomy\n",
      "Health\n",
      "Behavior\n",
      "Ecology\n",
      "Roles with humans\n",
      "Terminology\n",
      "See also\n",
      "References\n",
      "Bibliography\n",
      "External links\n"
     ]
    }
   ],
   "source": [
    "print(scraper.get_headers())"
   ]
  },
  {
   "cell_type": "code",
   "execution_count": 51,
   "metadata": {},
   "outputs": [
    {
     "name": "stdout",
     "output_type": "stream",
     "text": [
      "[None, None, None, None, None, None, None, None, None, None, None, None, None, None, None, None]\n"
     ]
    }
   ],
   "source": [
    "print(scraper.big_headers)"
   ]
  },
  {
   "cell_type": "code",
   "execution_count": null,
   "metadata": {},
   "outputs": [],
   "source": []
  }
 ],
 "metadata": {
  "kernelspec": {
   "display_name": "base",
   "language": "python",
   "name": "python3"
  },
  "language_info": {
   "codemirror_mode": {
    "name": "ipython",
    "version": 3
   },
   "file_extension": ".py",
   "mimetype": "text/x-python",
   "name": "python",
   "nbconvert_exporter": "python",
   "pygments_lexer": "ipython3",
   "version": "3.11.7"
  }
 },
 "nbformat": 4,
 "nbformat_minor": 2
}
