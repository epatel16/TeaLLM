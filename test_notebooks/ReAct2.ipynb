{
 "cells": [
  {
   "cell_type": "code",
   "execution_count": 9,
   "metadata": {},
   "outputs": [],
   "source": [
    "# !pip install openai==0.28\n",
    "from openai import OpenAI\n",
    "import re\n",
    "import httpx\n",
    "import os\n",
    "import json\n",
    "from getpass import getpass\n",
    "import requests\n",
    "from bs4 import BeautifulSoup\n",
    "from chatbot import ChatBot\n",
    "from scraper import *\n",
    "\n",
    "openai_api_key = getpass(\"🔑 Enter your OpenAI API key: \")\n",
    "os.environ[\"OPENAI_API_KEY\"] = openai_api_key\n"
   ]
  },
  {
   "cell_type": "code",
   "execution_count": 10,
   "metadata": {
    "slideshow": {
     "slide_type": "slide"
    }
   },
   "outputs": [],
   "source": [
    "prompt = '''You are a summarizing bot. Your job is to read parts of Wikipedia articles scraped from the internet and return a summary of that input in bullet point format. Let me know when you are ready to begin.'''"
   ]
  },
  {
   "cell_type": "code",
   "execution_count": 12,
   "metadata": {},
   "outputs": [
    {
     "data": {
      "text/plain": [
       "\"I'm ready to start reading the input. Please provide the text you would like me to summarize.\""
      ]
     },
     "execution_count": 12,
     "metadata": {},
     "output_type": "execute_result"
    }
   ],
   "source": [
    "bot = ChatBot()\n",
    "bot(prompt)"
   ]
  },
  {
   "cell_type": "code",
   "execution_count": 13,
   "metadata": {},
   "outputs": [
    {
     "data": {
      "text/plain": [
       "\"- Dogs are domesticated descendants of the wolf and were the first species to be domesticated by humans more than 15,000 years ago.\\n- Carl Linnaeus classified the domestic dog as Canis familiaris and the grey wolf as Canis lupus in 1758.\\n- DNA evidence suggests that domestic dogs originated from a now-extinct wolf population around 23,000 years ago.\\n- Dogs have been selectively bred over centuries for various behaviors, sensory capabilities, and physical attributes, resulting in around 450 globally recognized breeds.\\n- Dogs' skeleton is well-adapted for running, with variations in size and shape seen across different breeds.\\n- Dogs have a variety of senses, including vision, hearing, smell, taste, touch, and magnetoreception.\\n- Some breeds are prone to specific genetic ailments and health conditions, and certain human foods and household items can be toxic to dogs.\\n- Neutering is common practice to control dog populations, reduce behavioral issues, and prevent certain health problems.\\n- Dogs exhibit a wide range of behaviors influenced by their wolf ancestors, including prey drive, communication, problem-solving abilities, and social cognition.\\n- Dogs have been utilized in various roles such as hunting, herding, protection, assistance, and companionship, with a global population estimated to be between 700 million and 987 million.\""
      ]
     },
     "execution_count": 13,
     "metadata": {},
     "output_type": "execute_result"
    }
   ],
   "source": [
    "article = wikipedia2('dog')\n",
    "bot(article)"
   ]
  },
  {
   "cell_type": "code",
   "execution_count": null,
   "metadata": {},
   "outputs": [],
   "source": []
  }
 ],
 "metadata": {
  "kernelspec": {
   "display_name": "base",
   "language": "python",
   "name": "python3"
  },
  "language_info": {
   "codemirror_mode": {
    "name": "ipython",
    "version": 3
   },
   "file_extension": ".py",
   "mimetype": "text/x-python",
   "name": "python",
   "nbconvert_exporter": "python",
   "pygments_lexer": "ipython3",
   "version": "3.11.7"
  }
 },
 "nbformat": 4,
 "nbformat_minor": 2
}
