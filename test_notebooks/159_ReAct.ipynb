{
  "cells": [
    {
      "cell_type": "markdown",
      "metadata": {
        "id": "1kGmFLlwwOpp"
      },
      "source": [
        "# ReAct Prompting Framework Demonstration\n",
        "\n",
        "This notebook demonstrates the setup and use of the ReAct prompting framework with OpenAI's API, following the implementation details from [Simon Willison's learning log](https://til.simonwillison.net/llms/python-react-pattern).\n",
        "\n"
      ]
    },
    {
      "cell_type": "markdown",
      "metadata": {
        "id": "OfgwZl8Rw-Rf"
      },
      "source": [
        "## Installation\n",
        "\n",
        "First, ensure the necessary libraries are installed:"
      ]
    },
    {
      "cell_type": "code",
      "execution_count": 1,
      "metadata": {
        "colab": {
          "base_uri": "https://localhost:8080/"
        },
        "id": "UtnIc3rvs1lp",
        "outputId": "22c30c0e-bc36-4510-d40d-714ab95d0983"
      },
      "outputs": [],
      "source": [
        "# !pip install openai==0.28\n",
        "from openai import OpenAI\n",
        "import re\n",
        "import httpx\n",
        "import os\n",
        "import json\n",
        "from getpass import getpass\n",
        "import requests\n",
        "from bs4 import BeautifulSoup\n",
        "\n",
        "\n",
        "openai_api_key = getpass(\"🔑 Enter your OpenAI API key: \")\n",
        "os.environ[\"OPENAI_API_KEY\"] = openai_api_key\n"
      ]
    },
    {
      "cell_type": "markdown",
      "metadata": {
        "id": "xUOkKd8FxEFb"
      },
      "source": [
        "## ChatBot Class Definition\n",
        "Define the ChatBot class to manage conversation flow:"
      ]
    },
    {
      "cell_type": "code",
      "execution_count": 2,
      "metadata": {
        "id": "xjB_4GyttMdA"
      },
      "outputs": [],
      "source": [
        "class ChatBot:\n",
        "    def __init__(self, system=\"\"):\n",
        "        self.system = system\n",
        "        self.messages = []\n",
        "        if self.system:\n",
        "            self.messages.append({\"role\": \"system\", \"content\": system})\n",
        "\n",
        "    def __call__(self, message):\n",
        "        self.messages.append({\"role\": \"user\", \"content\": message})\n",
        "        result = self.execute()\n",
        "        self.messages.append({\"role\": \"assistant\", \"content\": result})\n",
        "        return result\n",
        "\n",
        "    def execute(self):\n",
        "        client = OpenAI()\n",
        "\n",
        "        response = client.chat.completions.create(\n",
        "            model=\"gpt-3.5-turbo\",\n",
        "            messages=self.messages\n",
        "        )\n",
        "        # Uncomment this to print out token usage each time, e.g.\n",
        "        # {\"completion_tokens\": 86, \"prompt_tokens\": 26, \"total_tokens\": 112}\n",
        "        # print(completion.usage)\n",
        "        return response.choices[0].message.content"
      ]
    },
    {
      "cell_type": "markdown",
      "metadata": {
        "id": "m4MVqt71xKAK"
      },
      "source": [
        "Define the initial prompt that explains the conversation cycle:"
      ]
    },
    {
      "cell_type": "code",
      "execution_count": 3,
      "metadata": {
        "id": "uZL6HN4ctMXQ"
      },
      "outputs": [],
      "source": [
        "prompt = \"\"\"\n",
        "You run in a loop of Thought, Action, PAUSE, Observation.\n",
        "At the end of the loop you output an Answer\n",
        "Use Thought to describe your thoughts about the question you have been asked.\n",
        "Use Action to run one of the actions available to you - then return PAUSE.\n",
        "Observation will be the result of running those actions.\n",
        "\n",
        "Your available actions are:\n",
        "\n",
        "calculate:\n",
        "e.g. calculate: 4 * 7 / 3\n",
        "Runs a calculation and returns the number - uses Python so be sure to use floating point syntax if necessary\n",
        "\n",
        "wikipedia:\n",
        "e.g. wikipedia: Django\n",
        "Returns a summary from searching Wikipedia\n",
        "\n",
        "simon_blog_search:\n",
        "e.g. simon_blog_search: Django\n",
        "Search Simon's blog for that term\n",
        "\n",
        "Always look things up on Wikipedia if you have the opportunity to do so.\n",
        "\n",
        "Example session:\n",
        "\n",
        "Question: What is the capital of France?\n",
        "Thought: I should look up France on Wikipedia\n",
        "Action: wikipedia: France\n",
        "PAUSE\n",
        "\n",
        "You will be called again with this:\n",
        "\n",
        "Observation: France is a country. The capital is Paris.\n",
        "\n",
        "You then output:\n",
        "\n",
        "Answer: The capital of France is Paris\n",
        "\"\"\".strip()"
      ]
    },
    {
      "cell_type": "markdown",
      "metadata": {
        "id": "3KVakCqyxWza"
      },
      "source": [
        "## Main Query Function\n",
        "Define the main function to start querying:"
      ]
    },
    {
      "cell_type": "code",
      "execution_count": 4,
      "metadata": {
        "id": "iSD7a03ktMUv"
      },
      "outputs": [],
      "source": [
        "action_re = re.compile('^Action: (\\w+): (.*)$')\n",
        "\n",
        "def query(question, max_turns=5):\n",
        "    i = 0\n",
        "    bot = ChatBot(prompt)\n",
        "    next_prompt = question\n",
        "    while i < max_turns:\n",
        "        i += 1\n",
        "        result = bot(next_prompt)\n",
        "        print(result)\n",
        "        actions = [action_re.match(a) for a in result.split('\\n') if action_re.match(a)]\n",
        "        if actions:\n",
        "            # There is an action to run\n",
        "            action, action_input = actions[0].groups()\n",
        "            if action not in known_actions:\n",
        "                raise Exception(\"Unknown action: {}: {}\".format(action, action_input))\n",
        "            print(\" -- running {} {}\".format(action, action_input))\n",
        "            observation = known_actions[action](action_input)\n",
        "            print(\"Observation:\", observation)\n",
        "            next_prompt = \"Observation: {}\".format(observation)\n",
        "        else:\n",
        "            return"
      ]
    },
    {
      "cell_type": "markdown",
      "metadata": {
        "id": "vWsLGCg1xOjU"
      },
      "source": [
        "## Action Handlers\n",
        "Define functions to handle different actions:"
      ]
    },
    {
      "cell_type": "code",
      "execution_count": 5,
      "metadata": {
        "id": "6CG2U9dZtT8r"
      },
      "outputs": [],
      "source": [
        "def wikipedia(q):\n",
        "    return httpx.get(\"https://en.wikipedia.org/w/api.php\", params={\n",
        "        \"action\": \"query\",\n",
        "        \"list\": \"search\",\n",
        "        \"srsearch\": q,\n",
        "        \"format\": \"json\"\n",
        "    }).json()[\"query\"][\"search\"][0][\"snippet\"]\n",
        "\n",
        "\n",
        "def simon_blog_search(q):\n",
        "    results = httpx.get(\"https://datasette.simonwillison.net/simonwillisonblog.json\", params={\n",
        "        \"sql\": \"\"\"\n",
        "        select\n",
        "          blog_entry.title || ': ' || substr(html_strip_tags(blog_entry.body), 0, 1000) as text,\n",
        "          blog_entry.created\n",
        "        from\n",
        "          blog_entry join blog_entry_fts on blog_entry.rowid = blog_entry_fts.rowid\n",
        "        where\n",
        "          blog_entry_fts match escape_fts(:q)\n",
        "        order by\n",
        "          blog_entry_fts.rank\n",
        "        limit\n",
        "          1\"\"\".strip(),\n",
        "        \"_shape\": \"array\",\n",
        "        \"q\": q,\n",
        "    }).json()\n",
        "    return results[0][\"text\"]\n",
        "\n",
        "def calculate(what):\n",
        "    return eval(what)\n",
        "\n",
        "known_actions = {\n",
        "    \"wikipedia\": wikipedia,\n",
        "    \"calculate\": calculate,\n",
        "    \"simon_blog_search\": simon_blog_search\n",
        "}"
      ]
    },
    {
      "cell_type": "code",
      "execution_count": 25,
      "metadata": {
        "id": "01H41weHRSB4"
      },
      "outputs": [],
      "source": [
        "def wikipedia2(q):\n",
        "    response = httpx.get(\"https://en.wikipedia.org/w/api.php\", params={\n",
        "        \"action\": \"query\",\n",
        "        \"list\": \"search\",\n",
        "        \"srsearch\": q,\n",
        "        \"format\": \"json\"\n",
        "    })\n",
        "\n",
        "    search_results = response.json().get(\"query\", {}).get(\"search\", [])\n",
        "\n",
        "    if not search_results:\n",
        "        return \"No results found.\"\n",
        "\n",
        "    first_result_title = search_results[0][\"title\"]\n",
        "    page_url = f\"https://en.wikipedia.org/wiki/{first_result_title.replace(' ', '_')}\"\n",
        "\n",
        "    return scrape_wikipedia_article(page_url)\n",
        "\n",
        "def scrape_wikipedia_article(url):\n",
        "    response = requests.get(url)\n",
        "    if response.status_code != 200:\n",
        "        raise Exception(f\"Failed to load page {url}\")\n",
        "\n",
        "    soup = BeautifulSoup(response.content, 'html.parser')\n",
        "\n",
        "    content_div = soup.find(id='mw-content-text')\n",
        "    if not content_div:\n",
        "        raise Exception(\"Failed to find main content of the article\")\n",
        "\n",
        "    paragraphs = content_div.find_all('p')\n",
        "\n",
        "    article_text = \"\".join([p.decode() for p in paragraphs if p.get_text().strip() != \"\"])\n",
        "    # [print() for p in paragraphs if p.get_text().strip() != \"\"]\n",
        "\n",
        "    return article_text"
      ]
    },
    {
      "cell_type": "code",
      "execution_count": 27,
      "metadata": {
        "colab": {
          "base_uri": "https://localhost:8080/"
        },
        "id": "flpXsnUyQNq1",
        "outputId": "9237d3fe-4d3e-490b-91cf-afb3f8dbbd98"
      },
      "outputs": [
        {
          "name": "stdout",
          "output_type": "stream",
          "text": [
            "<p>In <a href=\"/wiki/Mathematics\" title=\"Mathematics\">mathematics</a>, a <b>parabola</b> is a <a href=\"/wiki/Plane_curve\" title=\"Plane curve\">plane curve</a> which is <a href=\"/wiki/Reflection_symmetry\" title=\"Reflection symmetry\">mirror-symmetrical</a> and is approximately U-shaped. It fits several superficially different <a href=\"/wiki/Mathematics\" title=\"Mathematics\">mathematical</a> descriptions, which can all be proved to define exactly the same curves.\n",
            "</p><p>One description of a parabola involves a <a href=\"/wiki/Point_(geometry)\" title=\"Point (geometry)\">point</a> (the <a href=\"/wiki/Focus_(geometry)\" title=\"Focus (geometry)\">focus</a>) and a <a href=\"/wiki/Line_(geometry)\" title=\"Line (geometry)\">line</a> (the <a class=\"mw-redirect\" href=\"/wiki/Directrix_(conic_section)\" title=\"Directrix (conic section)\">directrix</a>). The focus does not lie on the directrix. The parabola is the <a href=\"/wiki/Locus_(mathematics)\" title=\"Locus (mathematics)\">locus of points</a> in that plane \n"
          ]
        }
      ],
      "source": [
        "q = \"Parabola\"\n",
        "try:\n",
        "    article_text = wikipedia2(q)\n",
        "    print(article_text[:1000])\n",
        "except Exception as e:\n",
        "    print(e)"
      ]
    },
    {
      "cell_type": "markdown",
      "metadata": {
        "id": "fnAI_SGSxbnx"
      },
      "source": [
        "# Examples\n",
        "Initiate the querying process with a specific question:"
      ]
    },
    {
      "cell_type": "code",
      "execution_count": 6,
      "metadata": {
        "colab": {
          "base_uri": "https://localhost:8080/"
        },
        "id": "B0BsFlzvtb-v",
        "outputId": "17f6d1df-2334-4b72-ebac-967022b9ddf3"
      },
      "outputs": [
        {
          "name": "stdout",
          "output_type": "stream",
          "text": [
            "Thought: I should calculate the states that border Ohio.\n",
            "\n",
            "Action: calculate: 2 + 2\n",
            "PAUSE\n",
            " -- running calculate 2 + 2\n",
            "Observation: 4\n",
            "Thought: Oops, I accidentally ran a wrong calculation. Let me try again to find the states that border Ohio.\n",
            "\n",
            "Action: calculate: 3 * 0\n",
            "PAUSE\n",
            " -- running calculate 3 * 0\n",
            "Observation: 0\n",
            "Thought: I need to list the states that border Ohio. I can quickly find this information by looking up Ohio on Wikipedia.\n",
            "\n",
            "Action: wikipedia: Ohio\n",
            "PAUSE\n",
            " -- running wikipedia Ohio\n",
            "Observation: <span class=\"searchmatch\">Ohio</span> (/oʊˈhaɪ.oʊ/ oh-HY-oh) is a state in the Midwestern region of the United States. <span class=\"searchmatch\">Ohio</span> borders Lake Erie to the north, Pennsylvania to the east, West\n",
            "Answer: Ohio shares borders with Pennsylvania to the east, West Virginia to the southeast, Kentucky to the southwest, Indiana to the west, and Michigan to the northwest.\n"
          ]
        }
      ],
      "source": [
        "query(\"What states does Ohio share borders with?\")"
      ]
    },
    {
      "cell_type": "code",
      "execution_count": null,
      "metadata": {
        "colab": {
          "base_uri": "https://localhost:8080/"
        },
        "id": "NtJQ9qEJtgdX",
        "outputId": "0b4ac150-e829-4155-9823-a0e6a9495dcf"
      },
      "outputs": [
        {
          "name": "stdout",
          "output_type": "stream",
          "text": [
            "Thought: I can quickly calculate the square root of 256 using the calculate action.\n",
            "\n",
            "Action: calculate: 256 ** 0.5\n",
            "PAUSE\n",
            " -- running calculate 256 ** 0.5\n",
            "Observation: 16.0\n",
            "Answer: The square root of 256 is 16.\n"
          ]
        }
      ],
      "source": [
        "query(\"Calculate the square root of 256.\")\n"
      ]
    },
    {
      "cell_type": "code",
      "execution_count": null,
      "metadata": {
        "colab": {
          "base_uri": "https://localhost:8080/"
        },
        "id": "gdutozjfxla8",
        "outputId": "58d83f00-b408-427e-84e5-5e4096dfee10"
      },
      "outputs": [
        {
          "name": "stdout",
          "output_type": "stream",
          "text": [
            "Thought: I should look this up on Wikipedia to get the accurate information.\n",
            "Action: wikipedia: List of Presidents of the United States\n",
            "PAUSE\n",
            " -- running wikipedia List of Presidents of the United States\n",
            "Observation: 2021. Acting <span class=\"searchmatch\">President</span> <span class=\"searchmatch\">of</span> <span class=\"searchmatch\">the</span> <span class=\"searchmatch\">United</span> <span class=\"searchmatch\">States</span> Founding Fathers <span class=\"searchmatch\">of</span> <span class=\"searchmatch\">the</span> <span class=\"searchmatch\">United</span> <span class=\"searchmatch\">States</span> <span class=\"searchmatch\">List</span> <span class=\"searchmatch\">of</span> vice <span class=\"searchmatch\">presidents</span> <span class=\"searchmatch\">of</span> <span class=\"searchmatch\">the</span> <span class=\"searchmatch\">United</span> <span class=\"searchmatch\">States</span> <span class=\"searchmatch\">President</span> <span class=\"searchmatch\">of</span> <span class=\"searchmatch\">the</span> Continental\n",
            "Thought: The observation seems to contain relevant information about the first president of the United States.\n",
            "Answer: The first president of the United States was George Washington.\n"
          ]
        }
      ],
      "source": [
        "query(\"Who was the first president of the United States?\")\n"
      ]
    },
    {
      "cell_type": "code",
      "execution_count": null,
      "metadata": {
        "colab": {
          "base_uri": "https://localhost:8080/"
        },
        "id": "XDB_zo90xo44",
        "outputId": "8c65db59-26fe-4e57-c35e-7c76a03347be"
      },
      "outputs": [
        {
          "name": "stdout",
          "output_type": "stream",
          "text": [
            "ChatCompletion(id='chatcmpl-9HZ4M2FtYjyBsfKWxNOifruX9eMEy', choices=[Choice(finish_reason='stop', index=0, logprobs=None, message=ChatCompletionMessage(content='Thought: I know the chemical formula for water is H2O, but let me double check on Wikipedia to confirm.\\n\\nAction: wikipedia: Water\\nPAUSE', role='assistant', function_call=None, tool_calls=None))], created=1713973410, model='gpt-3.5-turbo-0125', object='chat.completion', system_fingerprint='fp_c2295e73ad', usage=CompletionUsage(completion_tokens=32, prompt_tokens=248, total_tokens=280))\n",
            "Thought: I know the chemical formula for water is H2O, but let me double check on Wikipedia to confirm.\n",
            "\n",
            "Action: wikipedia: Water\n",
            "PAUSE\n",
            " -- running wikipedia Water\n",
            "Observation: <span class=\"searchmatch\">Water</span> is an inorganic compound with the chemical formula H2O. It is a transparent, tasteless, odorless, and nearly colorless chemical substance, and it\n",
            "ChatCompletion(id='chatcmpl-9HZ4OsrTHaWFkcl5r4QlF8wgjszfb', choices=[Choice(finish_reason='stop', index=0, logprobs=None, message=ChatCompletionMessage(content='Answer: The chemical formula for water is H2O.', role='assistant', function_call=None, tool_calls=None))], created=1713973412, model='gpt-3.5-turbo-0125', object='chat.completion', system_fingerprint='fp_c2295e73ad', usage=CompletionUsage(completion_tokens=12, prompt_tokens=335, total_tokens=347))\n",
            "Answer: The chemical formula for water is H2O.\n"
          ]
        }
      ],
      "source": [
        "query(\"What is the chemical formula for water?\")"
      ]
    },
    {
      "cell_type": "code",
      "execution_count": null,
      "metadata": {
        "id": "eCxWOMlrxrZp"
      },
      "outputs": [],
      "source": []
    }
  ],
  "metadata": {
    "colab": {
      "provenance": []
    },
    "kernelspec": {
      "display_name": "Python 3",
      "name": "python3"
    },
    "language_info": {
      "codemirror_mode": {
        "name": "ipython",
        "version": 3
      },
      "file_extension": ".py",
      "mimetype": "text/x-python",
      "name": "python",
      "nbconvert_exporter": "python",
      "pygments_lexer": "ipython3",
      "version": "3.11.7"
    }
  },
  "nbformat": 4,
  "nbformat_minor": 0
}
